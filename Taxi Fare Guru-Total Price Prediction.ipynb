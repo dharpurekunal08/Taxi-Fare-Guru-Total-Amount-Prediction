{
 "cells": [
  {
   "cell_type": "code",
   "execution_count": 1,
   "id": "ddb04409",
   "metadata": {
    "_cell_guid": "b1076dfc-b9ad-4769-8c92-a6c4dae69d19",
    "_uuid": "8f2839f25d086af736a60e9eeb907d3b93b6e0e5",
    "execution": {
     "iopub.execute_input": "2023-12-15T09:31:47.758478Z",
     "iopub.status.busy": "2023-12-15T09:31:47.757923Z",
     "iopub.status.idle": "2023-12-15T09:31:48.849090Z",
     "shell.execute_reply": "2023-12-15T09:31:48.846653Z"
    },
    "papermill": {
     "duration": 1.150737,
     "end_time": "2023-12-15T09:31:48.852519",
     "exception": false,
     "start_time": "2023-12-15T09:31:47.701782",
     "status": "completed"
    },
    "tags": []
   },
   "outputs": [
    {
     "name": "stdout",
     "output_type": "stream",
     "text": [
      "/kaggle/input/taxi-fare-guru-total-amount-prediction-challenge/sample.csv.csv\n",
      "/kaggle/input/taxi-fare-guru-total-amount-prediction-challenge/train.csv\n",
      "/kaggle/input/taxi-fare-guru-total-amount-prediction-challenge/test.csv\n"
     ]
    }
   ],
   "source": [
    "# This Python 3 environment comes with many helpful analytics libraries installed\n",
    "# It is defined by the kaggle/python Docker image: https://github.com/kaggle/docker-python\n",
    "# For example, here's several helpful packages to load\n",
    "\n",
    "import numpy as np # linear algebra\n",
    "import pandas as pd # data processing, CSV file I/O (e.g. pd.read_csv)\n",
    "\n",
    "# Input data files are available in the read-only \"../input/\" directory\n",
    "# For example, running this (by clicking run or pressing Shift+Enter) will list all files under the input directory\n",
    "\n",
    "import os\n",
    "for dirname, _, filenames in os.walk('/kaggle/input'):\n",
    "    for filename in filenames:\n",
    "        print(os.path.join(dirname, filename))\n",
    "\n",
    "# You can write up to 20GB to the current directory (/kaggle/working/) that gets preserved as output when you create a version using \"Save & Run All\" \n",
    "# You can also write temporary files to /kaggle/temp/, but they won't be saved outside of the current session"
   ]
  },
  {
   "cell_type": "code",
   "execution_count": 2,
   "id": "9cbf8ba0",
   "metadata": {
    "execution": {
     "iopub.execute_input": "2023-12-15T09:31:48.968838Z",
     "iopub.status.busy": "2023-12-15T09:31:48.967785Z",
     "iopub.status.idle": "2023-12-15T09:31:50.892384Z",
     "shell.execute_reply": "2023-12-15T09:31:50.890960Z"
    },
    "papermill": {
     "duration": 1.984976,
     "end_time": "2023-12-15T09:31:50.895451",
     "exception": false,
     "start_time": "2023-12-15T09:31:48.910475",
     "status": "completed"
    },
    "tags": []
   },
   "outputs": [],
   "source": [
    "#Import basic libraries\n",
    "import matplotlib.pyplot as plt\n",
    "import seaborn as sns"
   ]
  },
  {
   "cell_type": "markdown",
   "id": "fca2fcb6",
   "metadata": {
    "papermill": {
     "duration": 0.052839,
     "end_time": "2023-12-15T09:31:51.074292",
     "exception": false,
     "start_time": "2023-12-15T09:31:51.021453",
     "status": "completed"
    },
    "tags": []
   },
   "source": [
    "According to the problem statement, Data compromises of two file:\n",
    "- test.csv\n",
    "- train.csv\n",
    "\n",
    "Let's Load the data with the help of pandas dataframe"
   ]
  },
  {
   "cell_type": "code",
   "execution_count": 3,
   "id": "ed0fcabe",
   "metadata": {
    "execution": {
     "iopub.execute_input": "2023-12-15T09:31:51.184672Z",
     "iopub.status.busy": "2023-12-15T09:31:51.184083Z",
     "iopub.status.idle": "2023-12-15T09:31:52.508348Z",
     "shell.execute_reply": "2023-12-15T09:31:52.507105Z"
    },
    "papermill": {
     "duration": 1.382755,
     "end_time": "2023-12-15T09:31:52.511152",
     "exception": false,
     "start_time": "2023-12-15T09:31:51.128397",
     "status": "completed"
    },
    "tags": []
   },
   "outputs": [],
   "source": [
    "#Read the datasets available for the problem statement\n",
    "train_data=pd.read_csv('/kaggle/input/taxi-fare-guru-total-amount-prediction-challenge/train.csv')\n",
    "test_data=pd.read_csv('/kaggle/input/taxi-fare-guru-total-amount-prediction-challenge/test.csv')"
   ]
  },
  {
   "cell_type": "markdown",
   "id": "604c6789",
   "metadata": {
    "papermill": {
     "duration": 0.052965,
     "end_time": "2023-12-15T09:31:52.617061",
     "exception": false,
     "start_time": "2023-12-15T09:31:52.564096",
     "status": "completed"
    },
    "tags": []
   },
   "source": [
    "In order to understand the data, we will explore the `train_data` to understand the given data properly.\n",
    "\n",
    "Let's start with the **Exploratory Data Analysis** "
   ]
  },
  {
   "cell_type": "markdown",
   "id": "bb6507ac",
   "metadata": {
    "papermill": {
     "duration": 0.052339,
     "end_time": "2023-12-15T09:31:52.724553",
     "exception": false,
     "start_time": "2023-12-15T09:31:52.672214",
     "status": "completed"
    },
    "tags": []
   },
   "source": [
    "## Exploratory Data Analysis"
   ]
  },
  {
   "cell_type": "markdown",
   "id": "a83d03aa",
   "metadata": {
    "papermill": {
     "duration": 0.053178,
     "end_time": "2023-12-15T09:31:52.830525",
     "exception": false,
     "start_time": "2023-12-15T09:31:52.777347",
     "status": "completed"
    },
    "tags": []
   },
   "source": [
    "Let's start with understanding the dimensions  of the data"
   ]
  },
  {
   "cell_type": "code",
   "execution_count": 4,
   "id": "aee9c74b",
   "metadata": {
    "execution": {
     "iopub.execute_input": "2023-12-15T09:31:52.942098Z",
     "iopub.status.busy": "2023-12-15T09:31:52.940911Z",
     "iopub.status.idle": "2023-12-15T09:31:52.946760Z",
     "shell.execute_reply": "2023-12-15T09:31:52.945789Z"
    },
    "papermill": {
     "duration": 0.064026,
     "end_time": "2023-12-15T09:31:52.950306",
     "exception": false,
     "start_time": "2023-12-15T09:31:52.886280",
     "status": "completed"
    },
    "tags": []
   },
   "outputs": [
    {
     "name": "stdout",
     "output_type": "stream",
     "text": [
      "Shape of train dataset: \n",
      "Number of rows: 175000\n",
      "Number of Columns: 17\n"
     ]
    }
   ],
   "source": [
    "#Check shape of the dataset\n",
    "print(f'Shape of train dataset: \\nNumber of rows: {train_data.shape[0]}\\nNumber of Columns: {train_data.shape[1]}')"
   ]
  },
  {
   "cell_type": "markdown",
   "id": "5808b62c",
   "metadata": {
    "papermill": {
     "duration": 0.05246,
     "end_time": "2023-12-15T09:31:53.055088",
     "exception": false,
     "start_time": "2023-12-15T09:31:53.002628",
     "status": "completed"
    },
    "tags": []
   },
   "source": [
    "In `train_data`, We have $1,75,000$ rows and $17$ columns."
   ]
  },
  {
   "cell_type": "markdown",
   "id": "1603d4fe",
   "metadata": {
    "papermill": {
     "duration": 0.052642,
     "end_time": "2023-12-15T09:31:53.161862",
     "exception": false,
     "start_time": "2023-12-15T09:31:53.109220",
     "status": "completed"
    },
    "tags": []
   },
   "source": [
    "Let's list down all the columns available"
   ]
  },
  {
   "cell_type": "code",
   "execution_count": 5,
   "id": "f55339c5",
   "metadata": {
    "execution": {
     "iopub.execute_input": "2023-12-15T09:31:53.268522Z",
     "iopub.status.busy": "2023-12-15T09:31:53.268096Z",
     "iopub.status.idle": "2023-12-15T09:31:53.273730Z",
     "shell.execute_reply": "2023-12-15T09:31:53.272887Z"
    },
    "papermill": {
     "duration": 0.062954,
     "end_time": "2023-12-15T09:31:53.277315",
     "exception": false,
     "start_time": "2023-12-15T09:31:53.214361",
     "status": "completed"
    },
    "tags": []
   },
   "outputs": [
    {
     "name": "stdout",
     "output_type": "stream",
     "text": [
      "VendorID\n",
      "tpep_pickup_datetime\n",
      "tpep_dropoff_datetime\n",
      "passenger_count\n",
      "trip_distance\n",
      "RatecodeID\n",
      "store_and_fwd_flag\n",
      "PULocationID\n",
      "DOLocationID\n",
      "payment_type\n",
      "extra\n",
      "tip_amount\n",
      "tolls_amount\n",
      "improvement_surcharge\n",
      "total_amount\n",
      "congestion_surcharge\n",
      "Airport_fee\n"
     ]
    }
   ],
   "source": [
    "#Checking all the columns of the dataset\n",
    "for i in train_data.columns:\n",
    "    print(i)"
   ]
  },
  {
   "cell_type": "markdown",
   "id": "1670ec9b",
   "metadata": {
    "papermill": {
     "duration": 0.053954,
     "end_time": "2023-12-15T09:31:53.384711",
     "exception": false,
     "start_time": "2023-12-15T09:31:53.330757",
     "status": "completed"
    },
    "tags": []
   },
   "source": [
    "According to the problem statement, target variable for this prediction task is `total_amount`"
   ]
  },
  {
   "cell_type": "markdown",
   "id": "2aedb52f",
   "metadata": {
    "papermill": {
     "duration": 0.053215,
     "end_time": "2023-12-15T09:31:53.491550",
     "exception": false,
     "start_time": "2023-12-15T09:31:53.438335",
     "status": "completed"
    },
    "tags": []
   },
   "source": [
    "Let's have a 1st look of the `train_data`"
   ]
  },
  {
   "cell_type": "code",
   "execution_count": 6,
   "id": "bf7a08b8",
   "metadata": {
    "execution": {
     "iopub.execute_input": "2023-12-15T09:31:53.600873Z",
     "iopub.status.busy": "2023-12-15T09:31:53.599741Z",
     "iopub.status.idle": "2023-12-15T09:31:53.639407Z",
     "shell.execute_reply": "2023-12-15T09:31:53.638075Z"
    },
    "papermill": {
     "duration": 0.09735,
     "end_time": "2023-12-15T09:31:53.642087",
     "exception": false,
     "start_time": "2023-12-15T09:31:53.544737",
     "status": "completed"
    },
    "tags": []
   },
   "outputs": [
    {
     "data": {
      "text/html": [
       "<div>\n",
       "<style scoped>\n",
       "    .dataframe tbody tr th:only-of-type {\n",
       "        vertical-align: middle;\n",
       "    }\n",
       "\n",
       "    .dataframe tbody tr th {\n",
       "        vertical-align: top;\n",
       "    }\n",
       "\n",
       "    .dataframe thead th {\n",
       "        text-align: right;\n",
       "    }\n",
       "</style>\n",
       "<table border=\"1\" class=\"dataframe\">\n",
       "  <thead>\n",
       "    <tr style=\"text-align: right;\">\n",
       "      <th></th>\n",
       "      <th>VendorID</th>\n",
       "      <th>tpep_pickup_datetime</th>\n",
       "      <th>tpep_dropoff_datetime</th>\n",
       "      <th>passenger_count</th>\n",
       "      <th>trip_distance</th>\n",
       "      <th>RatecodeID</th>\n",
       "      <th>store_and_fwd_flag</th>\n",
       "      <th>PULocationID</th>\n",
       "      <th>DOLocationID</th>\n",
       "      <th>payment_type</th>\n",
       "      <th>extra</th>\n",
       "      <th>tip_amount</th>\n",
       "      <th>tolls_amount</th>\n",
       "      <th>improvement_surcharge</th>\n",
       "      <th>total_amount</th>\n",
       "      <th>congestion_surcharge</th>\n",
       "      <th>Airport_fee</th>\n",
       "    </tr>\n",
       "  </thead>\n",
       "  <tbody>\n",
       "    <tr>\n",
       "      <th>0</th>\n",
       "      <td>1</td>\n",
       "      <td>2023-06-28 17:20:21</td>\n",
       "      <td>2023-06-28 16:34:45</td>\n",
       "      <td>1.0</td>\n",
       "      <td>2.14</td>\n",
       "      <td>1.0</td>\n",
       "      <td>N</td>\n",
       "      <td>120</td>\n",
       "      <td>9</td>\n",
       "      <td>Credit Card</td>\n",
       "      <td>2.5</td>\n",
       "      <td>7.165589</td>\n",
       "      <td>0.0</td>\n",
       "      <td>1.0</td>\n",
       "      <td>20.64</td>\n",
       "      <td>2.5</td>\n",
       "      <td>0.0</td>\n",
       "    </tr>\n",
       "    <tr>\n",
       "      <th>1</th>\n",
       "      <td>0</td>\n",
       "      <td>2023-06-29 23:05:01</td>\n",
       "      <td>2023-06-29 22:01:35</td>\n",
       "      <td>1.0</td>\n",
       "      <td>2.70</td>\n",
       "      <td>1.0</td>\n",
       "      <td>N</td>\n",
       "      <td>15</td>\n",
       "      <td>215</td>\n",
       "      <td>Credit Card</td>\n",
       "      <td>3.5</td>\n",
       "      <td>6.067401</td>\n",
       "      <td>0.0</td>\n",
       "      <td>1.0</td>\n",
       "      <td>25.55</td>\n",
       "      <td>2.5</td>\n",
       "      <td>0.0</td>\n",
       "    </tr>\n",
       "    <tr>\n",
       "      <th>2</th>\n",
       "      <td>1</td>\n",
       "      <td>2023-06-30 10:19:31</td>\n",
       "      <td>2023-06-30 11:13:10</td>\n",
       "      <td>1.0</td>\n",
       "      <td>1.15</td>\n",
       "      <td>1.0</td>\n",
       "      <td>N</td>\n",
       "      <td>167</td>\n",
       "      <td>223</td>\n",
       "      <td>Credit Card</td>\n",
       "      <td>0.0</td>\n",
       "      <td>4.111547</td>\n",
       "      <td>0.0</td>\n",
       "      <td>1.0</td>\n",
       "      <td>17.64</td>\n",
       "      <td>2.5</td>\n",
       "      <td>0.0</td>\n",
       "    </tr>\n",
       "    <tr>\n",
       "      <th>3</th>\n",
       "      <td>0</td>\n",
       "      <td>2023-06-29 13:23:09</td>\n",
       "      <td>2023-06-29 14:20:01</td>\n",
       "      <td>1.0</td>\n",
       "      <td>0.40</td>\n",
       "      <td>1.0</td>\n",
       "      <td>N</td>\n",
       "      <td>128</td>\n",
       "      <td>239</td>\n",
       "      <td>Credit Card</td>\n",
       "      <td>2.5</td>\n",
       "      <td>6.411079</td>\n",
       "      <td>0.0</td>\n",
       "      <td>1.0</td>\n",
       "      <td>12.80</td>\n",
       "      <td>2.5</td>\n",
       "      <td>0.0</td>\n",
       "    </tr>\n",
       "    <tr>\n",
       "      <th>4</th>\n",
       "      <td>1</td>\n",
       "      <td>2023-06-29 22:03:32</td>\n",
       "      <td>2023-06-29 22:22:22</td>\n",
       "      <td>3.0</td>\n",
       "      <td>1.10</td>\n",
       "      <td>1.0</td>\n",
       "      <td>N</td>\n",
       "      <td>203</td>\n",
       "      <td>52</td>\n",
       "      <td>Credit Card</td>\n",
       "      <td>1.0</td>\n",
       "      <td>4.769377</td>\n",
       "      <td>0.0</td>\n",
       "      <td>1.0</td>\n",
       "      <td>18.00</td>\n",
       "      <td>2.5</td>\n",
       "      <td>0.0</td>\n",
       "    </tr>\n",
       "  </tbody>\n",
       "</table>\n",
       "</div>"
      ],
      "text/plain": [
       "   VendorID tpep_pickup_datetime tpep_dropoff_datetime  passenger_count  \\\n",
       "0         1  2023-06-28 17:20:21   2023-06-28 16:34:45              1.0   \n",
       "1         0  2023-06-29 23:05:01   2023-06-29 22:01:35              1.0   \n",
       "2         1  2023-06-30 10:19:31   2023-06-30 11:13:10              1.0   \n",
       "3         0  2023-06-29 13:23:09   2023-06-29 14:20:01              1.0   \n",
       "4         1  2023-06-29 22:03:32   2023-06-29 22:22:22              3.0   \n",
       "\n",
       "   trip_distance  RatecodeID store_and_fwd_flag  PULocationID  DOLocationID  \\\n",
       "0           2.14         1.0                  N           120             9   \n",
       "1           2.70         1.0                  N            15           215   \n",
       "2           1.15         1.0                  N           167           223   \n",
       "3           0.40         1.0                  N           128           239   \n",
       "4           1.10         1.0                  N           203            52   \n",
       "\n",
       "  payment_type  extra  tip_amount  tolls_amount  improvement_surcharge  \\\n",
       "0  Credit Card    2.5    7.165589           0.0                    1.0   \n",
       "1  Credit Card    3.5    6.067401           0.0                    1.0   \n",
       "2  Credit Card    0.0    4.111547           0.0                    1.0   \n",
       "3  Credit Card    2.5    6.411079           0.0                    1.0   \n",
       "4  Credit Card    1.0    4.769377           0.0                    1.0   \n",
       "\n",
       "   total_amount  congestion_surcharge  Airport_fee  \n",
       "0         20.64                   2.5          0.0  \n",
       "1         25.55                   2.5          0.0  \n",
       "2         17.64                   2.5          0.0  \n",
       "3         12.80                   2.5          0.0  \n",
       "4         18.00                   2.5          0.0  "
      ]
     },
     "execution_count": 6,
     "metadata": {},
     "output_type": "execute_result"
    }
   ],
   "source": [
    "#Check 1st few entries of the dataset\n",
    "train_data.head()"
   ]
  },
  {
   "cell_type": "markdown",
   "id": "8fbd3ffc",
   "metadata": {
    "papermill": {
     "duration": 0.054609,
     "end_time": "2023-12-15T09:31:53.754843",
     "exception": false,
     "start_time": "2023-12-15T09:31:53.700234",
     "status": "completed"
    },
    "tags": []
   },
   "source": [
    "Let's understand the nature of numerical attributes of the `train_data`"
   ]
  },
  {
   "cell_type": "code",
   "execution_count": 7,
   "id": "81d35ed0",
   "metadata": {
    "execution": {
     "iopub.execute_input": "2023-12-15T09:31:53.864983Z",
     "iopub.status.busy": "2023-12-15T09:31:53.864308Z",
     "iopub.status.idle": "2023-12-15T09:31:54.034018Z",
     "shell.execute_reply": "2023-12-15T09:31:54.032790Z"
    },
    "papermill": {
     "duration": 0.228037,
     "end_time": "2023-12-15T09:31:54.037065",
     "exception": false,
     "start_time": "2023-12-15T09:31:53.809028",
     "status": "completed"
    },
    "tags": []
   },
   "outputs": [
    {
     "data": {
      "text/html": [
       "<div>\n",
       "<style scoped>\n",
       "    .dataframe tbody tr th:only-of-type {\n",
       "        vertical-align: middle;\n",
       "    }\n",
       "\n",
       "    .dataframe tbody tr th {\n",
       "        vertical-align: top;\n",
       "    }\n",
       "\n",
       "    .dataframe thead th {\n",
       "        text-align: right;\n",
       "    }\n",
       "</style>\n",
       "<table border=\"1\" class=\"dataframe\">\n",
       "  <thead>\n",
       "    <tr style=\"text-align: right;\">\n",
       "      <th></th>\n",
       "      <th>VendorID</th>\n",
       "      <th>passenger_count</th>\n",
       "      <th>trip_distance</th>\n",
       "      <th>RatecodeID</th>\n",
       "      <th>PULocationID</th>\n",
       "      <th>DOLocationID</th>\n",
       "      <th>extra</th>\n",
       "      <th>tip_amount</th>\n",
       "      <th>tolls_amount</th>\n",
       "      <th>improvement_surcharge</th>\n",
       "      <th>total_amount</th>\n",
       "      <th>congestion_surcharge</th>\n",
       "      <th>Airport_fee</th>\n",
       "    </tr>\n",
       "  </thead>\n",
       "  <tbody>\n",
       "    <tr>\n",
       "      <th>count</th>\n",
       "      <td>175000.000000</td>\n",
       "      <td>168923.000000</td>\n",
       "      <td>175000.000000</td>\n",
       "      <td>168923.000000</td>\n",
       "      <td>175000.000000</td>\n",
       "      <td>175000.000000</td>\n",
       "      <td>175000.000000</td>\n",
       "      <td>175000.000000</td>\n",
       "      <td>175000.000000</td>\n",
       "      <td>175000.000000</td>\n",
       "      <td>175000.000000</td>\n",
       "      <td>168923.000000</td>\n",
       "      <td>168923.000000</td>\n",
       "    </tr>\n",
       "    <tr>\n",
       "      <th>mean</th>\n",
       "      <td>0.728377</td>\n",
       "      <td>1.357678</td>\n",
       "      <td>5.145930</td>\n",
       "      <td>1.518307</td>\n",
       "      <td>132.710349</td>\n",
       "      <td>132.701429</td>\n",
       "      <td>1.932143</td>\n",
       "      <td>6.127497</td>\n",
       "      <td>0.646816</td>\n",
       "      <td>0.979689</td>\n",
       "      <td>29.633901</td>\n",
       "      <td>2.246971</td>\n",
       "      <td>0.158825</td>\n",
       "    </tr>\n",
       "    <tr>\n",
       "      <th>std</th>\n",
       "      <td>0.445606</td>\n",
       "      <td>0.891283</td>\n",
       "      <td>394.971052</td>\n",
       "      <td>6.514678</td>\n",
       "      <td>76.148799</td>\n",
       "      <td>76.192493</td>\n",
       "      <td>1.948497</td>\n",
       "      <td>4.610834</td>\n",
       "      <td>2.328274</td>\n",
       "      <td>0.198775</td>\n",
       "      <td>25.425206</td>\n",
       "      <td>0.819216</td>\n",
       "      <td>0.511968</td>\n",
       "    </tr>\n",
       "    <tr>\n",
       "      <th>min</th>\n",
       "      <td>0.000000</td>\n",
       "      <td>0.000000</td>\n",
       "      <td>0.000000</td>\n",
       "      <td>1.000000</td>\n",
       "      <td>1.000000</td>\n",
       "      <td>1.000000</td>\n",
       "      <td>-7.500000</td>\n",
       "      <td>0.000079</td>\n",
       "      <td>-29.300000</td>\n",
       "      <td>-1.000000</td>\n",
       "      <td>-576.750000</td>\n",
       "      <td>-2.500000</td>\n",
       "      <td>-1.750000</td>\n",
       "    </tr>\n",
       "    <tr>\n",
       "      <th>25%</th>\n",
       "      <td>0.000000</td>\n",
       "      <td>1.000000</td>\n",
       "      <td>1.080000</td>\n",
       "      <td>1.000000</td>\n",
       "      <td>67.000000</td>\n",
       "      <td>67.000000</td>\n",
       "      <td>0.000000</td>\n",
       "      <td>3.473321</td>\n",
       "      <td>0.000000</td>\n",
       "      <td>1.000000</td>\n",
       "      <td>16.300000</td>\n",
       "      <td>2.500000</td>\n",
       "      <td>0.000000</td>\n",
       "    </tr>\n",
       "    <tr>\n",
       "      <th>50%</th>\n",
       "      <td>1.000000</td>\n",
       "      <td>1.000000</td>\n",
       "      <td>1.840000</td>\n",
       "      <td>1.000000</td>\n",
       "      <td>133.000000</td>\n",
       "      <td>133.000000</td>\n",
       "      <td>1.000000</td>\n",
       "      <td>5.286217</td>\n",
       "      <td>0.000000</td>\n",
       "      <td>1.000000</td>\n",
       "      <td>21.450000</td>\n",
       "      <td>2.500000</td>\n",
       "      <td>0.000000</td>\n",
       "    </tr>\n",
       "    <tr>\n",
       "      <th>75%</th>\n",
       "      <td>1.000000</td>\n",
       "      <td>1.000000</td>\n",
       "      <td>3.610000</td>\n",
       "      <td>1.000000</td>\n",
       "      <td>199.000000</td>\n",
       "      <td>199.000000</td>\n",
       "      <td>2.500000</td>\n",
       "      <td>7.502746</td>\n",
       "      <td>0.000000</td>\n",
       "      <td>1.000000</td>\n",
       "      <td>31.800000</td>\n",
       "      <td>2.500000</td>\n",
       "      <td>0.000000</td>\n",
       "    </tr>\n",
       "    <tr>\n",
       "      <th>max</th>\n",
       "      <td>2.000000</td>\n",
       "      <td>9.000000</td>\n",
       "      <td>135182.060000</td>\n",
       "      <td>99.000000</td>\n",
       "      <td>264.000000</td>\n",
       "      <td>264.000000</td>\n",
       "      <td>11.750000</td>\n",
       "      <td>484.876151</td>\n",
       "      <td>80.000000</td>\n",
       "      <td>1.000000</td>\n",
       "      <td>587.250000</td>\n",
       "      <td>2.500000</td>\n",
       "      <td>1.750000</td>\n",
       "    </tr>\n",
       "  </tbody>\n",
       "</table>\n",
       "</div>"
      ],
      "text/plain": [
       "            VendorID  passenger_count  trip_distance     RatecodeID  \\\n",
       "count  175000.000000    168923.000000  175000.000000  168923.000000   \n",
       "mean        0.728377         1.357678       5.145930       1.518307   \n",
       "std         0.445606         0.891283     394.971052       6.514678   \n",
       "min         0.000000         0.000000       0.000000       1.000000   \n",
       "25%         0.000000         1.000000       1.080000       1.000000   \n",
       "50%         1.000000         1.000000       1.840000       1.000000   \n",
       "75%         1.000000         1.000000       3.610000       1.000000   \n",
       "max         2.000000         9.000000  135182.060000      99.000000   \n",
       "\n",
       "        PULocationID   DOLocationID          extra     tip_amount  \\\n",
       "count  175000.000000  175000.000000  175000.000000  175000.000000   \n",
       "mean      132.710349     132.701429       1.932143       6.127497   \n",
       "std        76.148799      76.192493       1.948497       4.610834   \n",
       "min         1.000000       1.000000      -7.500000       0.000079   \n",
       "25%        67.000000      67.000000       0.000000       3.473321   \n",
       "50%       133.000000     133.000000       1.000000       5.286217   \n",
       "75%       199.000000     199.000000       2.500000       7.502746   \n",
       "max       264.000000     264.000000      11.750000     484.876151   \n",
       "\n",
       "        tolls_amount  improvement_surcharge   total_amount  \\\n",
       "count  175000.000000          175000.000000  175000.000000   \n",
       "mean        0.646816               0.979689      29.633901   \n",
       "std         2.328274               0.198775      25.425206   \n",
       "min       -29.300000              -1.000000    -576.750000   \n",
       "25%         0.000000               1.000000      16.300000   \n",
       "50%         0.000000               1.000000      21.450000   \n",
       "75%         0.000000               1.000000      31.800000   \n",
       "max        80.000000               1.000000     587.250000   \n",
       "\n",
       "       congestion_surcharge    Airport_fee  \n",
       "count         168923.000000  168923.000000  \n",
       "mean               2.246971       0.158825  \n",
       "std                0.819216       0.511968  \n",
       "min               -2.500000      -1.750000  \n",
       "25%                2.500000       0.000000  \n",
       "50%                2.500000       0.000000  \n",
       "75%                2.500000       0.000000  \n",
       "max                2.500000       1.750000  "
      ]
     },
     "execution_count": 7,
     "metadata": {},
     "output_type": "execute_result"
    }
   ],
   "source": [
    "#Check numerical attribute of data\n",
    "train_data.describe()"
   ]
  },
  {
   "cell_type": "markdown",
   "id": "0ac64ac5",
   "metadata": {
    "papermill": {
     "duration": 0.05619,
     "end_time": "2023-12-15T09:31:54.148915",
     "exception": false,
     "start_time": "2023-12-15T09:31:54.092725",
     "status": "completed"
    },
    "tags": []
   },
   "source": [
    "We will now explore every column present in the dataset to understand the distribution of data in each column"
   ]
  },
  {
   "cell_type": "markdown",
   "id": "fee59abe",
   "metadata": {
    "papermill": {
     "duration": 0.053574,
     "end_time": "2023-12-15T09:31:54.256422",
     "exception": false,
     "start_time": "2023-12-15T09:31:54.202848",
     "status": "completed"
    },
    "tags": []
   },
   "source": [
    "Let's analyze **`VendorID`** column"
   ]
  },
  {
   "cell_type": "code",
   "execution_count": 8,
   "id": "3316b9bf",
   "metadata": {
    "execution": {
     "iopub.execute_input": "2023-12-15T09:31:54.369672Z",
     "iopub.status.busy": "2023-12-15T09:31:54.369212Z",
     "iopub.status.idle": "2023-12-15T09:31:54.382953Z",
     "shell.execute_reply": "2023-12-15T09:31:54.381634Z"
    },
    "papermill": {
     "duration": 0.072948,
     "end_time": "2023-12-15T09:31:54.385445",
     "exception": false,
     "start_time": "2023-12-15T09:31:54.312497",
     "status": "completed"
    },
    "tags": []
   },
   "outputs": [
    {
     "name": "stdout",
     "output_type": "stream",
     "text": [
      "Column: VendorID\n",
      "Datatype of columns: int64\n",
      "Total number of unique values: 3\n",
      "Unique Values are: [1 0 2]\n"
     ]
    }
   ],
   "source": [
    "#Let's look at VendorID column and it's data\n",
    "print('Column: VendorID')\n",
    "print(f'Datatype of columns: {train_data[\"VendorID\"].dtype}')\n",
    "print(f'Total number of unique values: {len(train_data[\"VendorID\"].unique())}')\n",
    "print(f'Unique Values are: {train_data[\"VendorID\"].unique()}')"
   ]
  },
  {
   "cell_type": "markdown",
   "id": "b016ed6e",
   "metadata": {
    "papermill": {
     "duration": 0.053937,
     "end_time": "2023-12-15T09:31:54.493980",
     "exception": false,
     "start_time": "2023-12-15T09:31:54.440043",
     "status": "completed"
    },
    "tags": []
   },
   "source": [
    "`VendorID` column has only 3 unique values i.e. `0`, `1` & `2` ."
   ]
  },
  {
   "cell_type": "markdown",
   "id": "619d7086",
   "metadata": {
    "papermill": {
     "duration": 0.054326,
     "end_time": "2023-12-15T09:31:54.604022",
     "exception": false,
     "start_time": "2023-12-15T09:31:54.549696",
     "status": "completed"
    },
    "tags": []
   },
   "source": [
    "Let's look for any missing values in this column"
   ]
  },
  {
   "cell_type": "code",
   "execution_count": 9,
   "id": "9c3d0abf",
   "metadata": {
    "execution": {
     "iopub.execute_input": "2023-12-15T09:31:54.717249Z",
     "iopub.status.busy": "2023-12-15T09:31:54.716846Z",
     "iopub.status.idle": "2023-12-15T09:31:54.724999Z",
     "shell.execute_reply": "2023-12-15T09:31:54.724001Z"
    },
    "papermill": {
     "duration": 0.068622,
     "end_time": "2023-12-15T09:31:54.727244",
     "exception": false,
     "start_time": "2023-12-15T09:31:54.658622",
     "status": "completed"
    },
    "tags": []
   },
   "outputs": [
    {
     "data": {
      "text/plain": [
       "0"
      ]
     },
     "execution_count": 9,
     "metadata": {},
     "output_type": "execute_result"
    }
   ],
   "source": [
    "#Check for null values\n",
    "train_data['VendorID'].isnull().sum()"
   ]
  },
  {
   "cell_type": "markdown",
   "id": "54de4bec",
   "metadata": {
    "papermill": {
     "duration": 0.054279,
     "end_time": "2023-12-15T09:31:54.836483",
     "exception": false,
     "start_time": "2023-12-15T09:31:54.782204",
     "status": "completed"
    },
    "tags": []
   },
   "source": [
    "There are `zero` null values for this column"
   ]
  },
  {
   "cell_type": "markdown",
   "id": "2f10c437",
   "metadata": {
    "papermill": {
     "duration": 0.054045,
     "end_time": "2023-12-15T09:31:54.944373",
     "exception": false,
     "start_time": "2023-12-15T09:31:54.890328",
     "status": "completed"
    },
    "tags": []
   },
   "source": [
    "Let's look at value counts for each unique values as well"
   ]
  },
  {
   "cell_type": "code",
   "execution_count": 10,
   "id": "6151cf91",
   "metadata": {
    "execution": {
     "iopub.execute_input": "2023-12-15T09:31:55.057347Z",
     "iopub.status.busy": "2023-12-15T09:31:55.056913Z",
     "iopub.status.idle": "2023-12-15T09:31:55.072407Z",
     "shell.execute_reply": "2023-12-15T09:31:55.071182Z"
    },
    "papermill": {
     "duration": 0.073442,
     "end_time": "2023-12-15T09:31:55.075011",
     "exception": false,
     "start_time": "2023-12-15T09:31:55.001569",
     "status": "completed"
    },
    "tags": []
   },
   "outputs": [
    {
     "data": {
      "text/plain": [
       "VendorID\n",
       "1    127340\n",
       "0     47597\n",
       "2        63\n",
       "Name: count, dtype: int64"
      ]
     },
     "execution_count": 10,
     "metadata": {},
     "output_type": "execute_result"
    }
   ],
   "source": [
    "#Check for total value count for each vendors\n",
    "value_count_vendors = train_data['VendorID'].value_counts()\n",
    "value_count_vendors"
   ]
  },
  {
   "cell_type": "markdown",
   "id": "123a4762",
   "metadata": {
    "papermill": {
     "duration": 0.057024,
     "end_time": "2023-12-15T09:31:55.188101",
     "exception": false,
     "start_time": "2023-12-15T09:31:55.131077",
     "status": "completed"
    },
    "tags": []
   },
   "source": [
    "Let's understand the portion of data for each `vendorID`"
   ]
  },
  {
   "cell_type": "code",
   "execution_count": 11,
   "id": "711b082a",
   "metadata": {
    "execution": {
     "iopub.execute_input": "2023-12-15T09:31:55.302874Z",
     "iopub.status.busy": "2023-12-15T09:31:55.302315Z",
     "iopub.status.idle": "2023-12-15T09:31:55.547760Z",
     "shell.execute_reply": "2023-12-15T09:31:55.545863Z"
    },
    "papermill": {
     "duration": 0.309361,
     "end_time": "2023-12-15T09:31:55.554400",
     "exception": false,
     "start_time": "2023-12-15T09:31:55.245039",
     "status": "completed"
    },
    "tags": []
   },
   "outputs": [
    {
     "data": {
      "image/png": "[encoded data removed]",
      "text/plain": [
       "<Figure size 700x700 with 1 Axes>"
      ]
     },
     "metadata": {},
     "output_type": "display_data"
    }
   ],
   "source": [
    "#Plot pie chart to see distribution of vendors\n",
    "plt.figure(figsize = (7,7))\n",
    "plt.pie(value_count_vendors.values,autopct=\"%1.2f%%\" ,labels=value_count_vendors.index)\n",
    "plt.title('Vendors Distribution')\n",
    "\n",
    "#Display the pie chart\n",
    "plt.show()\n"
   ]
  },
  {
   "cell_type": "markdown",
   "id": "40cc3e28",
   "metadata": {
    "papermill": {
     "duration": 0.055608,
     "end_time": "2023-12-15T09:31:55.670978",
     "exception": false,
     "start_time": "2023-12-15T09:31:55.615370",
     "status": "completed"
    },
    "tags": []
   },
   "source": [
    "Since data associated with `vendorId` is neligible, we will understand the distribution of our target variable `total_amount` for each `vendorId` to understand if there are underlying hidden pattern for any specific `vendorID`."
   ]
  },
  {
   "cell_type": "code",
   "execution_count": 12,
   "id": "95eccb7d",
   "metadata": {
    "execution": {
     "iopub.execute_input": "2023-12-15T09:31:55.787352Z",
     "iopub.status.busy": "2023-12-15T09:31:55.786896Z",
     "iopub.status.idle": "2023-12-15T09:31:56.865741Z",
     "shell.execute_reply": "2023-12-15T09:31:56.864501Z"
    },
    "papermill": {
     "duration": 1.141516,
     "end_time": "2023-12-15T09:31:56.868517",
     "exception": false,
     "start_time": "2023-12-15T09:31:55.727001",
     "status": "completed"
    },
    "tags": []
   },
   "outputs": [
    {
     "data": {
      "image/png": "[encoded data removed]",
      "text/plain": [
       "<Figure size 1500x500 with 2 Axes>"
      ]
     },
     "metadata": {},
     "output_type": "display_data"
    }
   ],
   "source": [
    "#Plotting subplots as there are 3 vendors\n",
    "fig, axes = plt.subplots(nrows=1, ncols=2, figsize=(15, 5))\n",
    "\n",
    "#Plotting histograms for each VendorID\n",
    "for vendor_id, ax in zip(range(2), axes):\n",
    "    ax.hist(train_data[train_data['VendorID'] == vendor_id]['total_amount'],bins = 100 ,alpha=0.7,density = True)\n",
    "    ax.set_title(f'Vendor {vendor_id}')\n",
    "    ax.set_xlabel('Total Amount')\n",
    "    ax.set_ylabel('Probability')\n",
    "\n",
    "#Adjusting layout\n",
    "plt.tight_layout()\n",
    "\n",
    "#Display the subplots\n",
    "plt.show()"
   ]
  },
  {
   "cell_type": "markdown",
   "id": "3eb12a70",
   "metadata": {
    "papermill": {
     "duration": 0.0555,
     "end_time": "2023-12-15T09:31:56.979252",
     "exception": false,
     "start_time": "2023-12-15T09:31:56.923752",
     "status": "completed"
    },
    "tags": []
   },
   "source": [
    "In order to understand the above graph, Let's look at Mean and Variance."
   ]
  },
  {
   "cell_type": "code",
   "execution_count": 13,
   "id": "c89e928a",
   "metadata": {
    "execution": {
     "iopub.execute_input": "2023-12-15T09:31:57.093170Z",
     "iopub.status.busy": "2023-12-15T09:31:57.092709Z",
     "iopub.status.idle": "2023-12-15T09:31:57.098202Z",
     "shell.execute_reply": "2023-12-15T09:31:57.097266Z"
    },
    "papermill": {
     "duration": 0.066128,
     "end_time": "2023-12-15T09:31:57.100630",
     "exception": false,
     "start_time": "2023-12-15T09:31:57.034502",
     "status": "completed"
    },
    "tags": []
   },
   "outputs": [],
   "source": [
    "#Grouping the vendors by their Vendor ID\n",
    "group_by_vendor = train_data.groupby(by='VendorID')"
   ]
  },
  {
   "cell_type": "code",
   "execution_count": 14,
   "id": "d6c31341",
   "metadata": {
    "execution": {
     "iopub.execute_input": "2023-12-15T09:31:57.214541Z",
     "iopub.status.busy": "2023-12-15T09:31:57.214071Z",
     "iopub.status.idle": "2023-12-15T09:31:57.233270Z",
     "shell.execute_reply": "2023-12-15T09:31:57.232185Z"
    },
    "papermill": {
     "duration": 0.078952,
     "end_time": "2023-12-15T09:31:57.235952",
     "exception": false,
     "start_time": "2023-12-15T09:31:57.157000",
     "status": "completed"
    },
    "tags": []
   },
   "outputs": [
    {
     "data": {
      "text/plain": [
       "VendorID\n",
       "0    28.004031\n",
       "1    30.234273\n",
       "2    47.500317\n",
       "Name: total_amount, dtype: float64"
      ]
     },
     "execution_count": 14,
     "metadata": {},
     "output_type": "execute_result"
    }
   ],
   "source": [
    "#Check mean for each Vendor ID\n",
    "mean_total_amount = group_by_vendor['total_amount'].mean()\n",
    "mean_total_amount"
   ]
  },
  {
   "cell_type": "code",
   "execution_count": 15,
   "id": "47f95bf6",
   "metadata": {
    "execution": {
     "iopub.execute_input": "2023-12-15T09:31:57.353502Z",
     "iopub.status.busy": "2023-12-15T09:31:57.353087Z",
     "iopub.status.idle": "2023-12-15T09:31:57.365888Z",
     "shell.execute_reply": "2023-12-15T09:31:57.364941Z"
    },
    "papermill": {
     "duration": 0.075787,
     "end_time": "2023-12-15T09:31:57.368491",
     "exception": false,
     "start_time": "2023-12-15T09:31:57.292704",
     "status": "completed"
    },
    "tags": []
   },
   "outputs": [
    {
     "data": {
      "text/plain": [
       "VendorID\n",
       "0    22.550570\n",
       "1    26.393108\n",
       "2    20.608815\n",
       "Name: total_amount, dtype: float64"
      ]
     },
     "execution_count": 15,
     "metadata": {},
     "output_type": "execute_result"
    }
   ],
   "source": [
    "#Check variance for each Vendor ID\n",
    "variance_total_amount = group_by_vendor['total_amount'].std()\n",
    "variance_total_amount"
   ]
  },
  {
   "cell_type": "markdown",
   "id": "37f0214b",
   "metadata": {
    "papermill": {
     "duration": 0.055419,
     "end_time": "2023-12-15T09:31:57.481675",
     "exception": false,
     "start_time": "2023-12-15T09:31:57.426256",
     "status": "completed"
    },
    "tags": []
   },
   "source": [
    "We see that `total_amount` has different mean and variance so `vendorId` may be an important feature for our model training. However we will use feature selection techniques to decide on final features."
   ]
  },
  {
   "cell_type": "markdown",
   "id": "20153ad5",
   "metadata": {
    "papermill": {
     "duration": 0.055429,
     "end_time": "2023-12-15T09:31:57.593723",
     "exception": false,
     "start_time": "2023-12-15T09:31:57.538294",
     "status": "completed"
    },
    "tags": []
   },
   "source": [
    "Now, Let's explore another column **`tpep_pickup_datetime`** and **`tpep_dropff_datetime`** "
   ]
  },
  {
   "cell_type": "code",
   "execution_count": 16,
   "id": "605ce933",
   "metadata": {
    "execution": {
     "iopub.execute_input": "2023-12-15T09:31:57.710622Z",
     "iopub.status.busy": "2023-12-15T09:31:57.710128Z",
     "iopub.status.idle": "2023-12-15T09:31:57.810521Z",
     "shell.execute_reply": "2023-12-15T09:31:57.808652Z"
    },
    "papermill": {
     "duration": 0.163101,
     "end_time": "2023-12-15T09:31:57.813259",
     "exception": false,
     "start_time": "2023-12-15T09:31:57.650158",
     "status": "completed"
    },
    "tags": []
   },
   "outputs": [
    {
     "name": "stdout",
     "output_type": "stream",
     "text": [
      "Columns: tpep_pickup_datetime & tpep_dropoff_datetime\n",
      "Datatype of columns :\n",
      "tpep_pickup_datetime: object,\n",
      "tpep_dropoff_datetime: object\n",
      "Total no. of Pickup Datetime Unique Values: 109877\n",
      "Total no. of Dropoff Datetime Unique Values: 109713\n"
     ]
    }
   ],
   "source": [
    "#Now, let's look at datetime column and understand it's data\n",
    "print('Columns: tpep_pickup_datetime & tpep_dropoff_datetime')\n",
    "print(f'Datatype of columns :\\ntpep_pickup_datetime: {train_data[\"tpep_pickup_datetime\"].dtype},\\ntpep_dropoff_datetime: {train_data[\"tpep_dropoff_datetime\"].dtype}')\n",
    "print(f'Total no. of Pickup Datetime Unique Values: {len(train_data[\"tpep_pickup_datetime\"].unique())}')\n",
    "print(f'Total no. of Dropoff Datetime Unique Values: {len(train_data[\"tpep_dropoff_datetime\"].unique())}')"
   ]
  },
  {
   "cell_type": "markdown",
   "id": "2dacb9b8",
   "metadata": {
    "papermill": {
     "duration": 0.055435,
     "end_time": "2023-12-15T09:31:57.926006",
     "exception": false,
     "start_time": "2023-12-15T09:31:57.870571",
     "status": "completed"
    },
    "tags": []
   },
   "source": [
    "Let's look for any missing values in this column"
   ]
  },
  {
   "cell_type": "code",
   "execution_count": 17,
   "id": "4d9e039c",
   "metadata": {
    "execution": {
     "iopub.execute_input": "2023-12-15T09:31:58.042468Z",
     "iopub.status.busy": "2023-12-15T09:31:58.041636Z",
     "iopub.status.idle": "2023-12-15T09:31:58.101600Z",
     "shell.execute_reply": "2023-12-15T09:31:58.099889Z"
    },
    "papermill": {
     "duration": 0.121457,
     "end_time": "2023-12-15T09:31:58.104460",
     "exception": false,
     "start_time": "2023-12-15T09:31:57.983003",
     "status": "completed"
    },
    "tags": []
   },
   "outputs": [
    {
     "data": {
      "text/plain": [
       "tpep_pickup_datetime     0\n",
       "tpep_dropoff_datetime    0\n",
       "dtype: int64"
      ]
     },
     "execution_count": 17,
     "metadata": {},
     "output_type": "execute_result"
    }
   ],
   "source": [
    "#Check for null values\n",
    "train_data[['tpep_pickup_datetime','tpep_dropoff_datetime']].isnull().sum()"
   ]
  },
  {
   "cell_type": "markdown",
   "id": "65f968b0",
   "metadata": {
    "papermill": {
     "duration": 0.056204,
     "end_time": "2023-12-15T09:31:58.217171",
     "exception": false,
     "start_time": "2023-12-15T09:31:58.160967",
     "status": "completed"
    },
    "tags": []
   },
   "source": [
    "There are `zero` missing values for above both tables"
   ]
  },
  {
   "cell_type": "markdown",
   "id": "bd832e78",
   "metadata": {
    "papermill": {
     "duration": 0.057313,
     "end_time": "2023-12-15T09:31:58.331346",
     "exception": false,
     "start_time": "2023-12-15T09:31:58.274033",
     "status": "completed"
    },
    "tags": []
   },
   "source": [
    "Since the dtype of above columns is object, Let's convert dtype of these columns to datetime"
   ]
  },
  {
   "cell_type": "code",
   "execution_count": 18,
   "id": "66971b33",
   "metadata": {
    "execution": {
     "iopub.execute_input": "2023-12-15T09:31:58.447273Z",
     "iopub.status.busy": "2023-12-15T09:31:58.446753Z",
     "iopub.status.idle": "2023-12-15T09:31:58.613734Z",
     "shell.execute_reply": "2023-12-15T09:31:58.612027Z"
    },
    "papermill": {
     "duration": 0.229539,
     "end_time": "2023-12-15T09:31:58.617338",
     "exception": false,
     "start_time": "2023-12-15T09:31:58.387799",
     "status": "completed"
    },
    "tags": []
   },
   "outputs": [
    {
     "data": {
      "text/plain": [
       "(dtype('<M8[ns]'), dtype('<M8[ns]'))"
      ]
     },
     "execution_count": 18,
     "metadata": {},
     "output_type": "execute_result"
    }
   ],
   "source": [
    "#Let's change the datatype of column\n",
    "train_data['tpep_pickup_datetime'] = pd.to_datetime(train_data['tpep_pickup_datetime'])\n",
    "train_data['tpep_dropoff_datetime'] = pd.to_datetime(train_data['tpep_dropoff_datetime'])\n",
    "train_data['tpep_pickup_datetime'].dtype, train_data['tpep_dropoff_datetime'].dtype"
   ]
  },
  {
   "cell_type": "code",
   "execution_count": 19,
   "id": "2c6063d8",
   "metadata": {
    "execution": {
     "iopub.execute_input": "2023-12-15T09:31:58.735037Z",
     "iopub.status.busy": "2023-12-15T09:31:58.733753Z",
     "iopub.status.idle": "2023-12-15T09:31:58.752797Z",
     "shell.execute_reply": "2023-12-15T09:31:58.751866Z"
    },
    "papermill": {
     "duration": 0.083595,
     "end_time": "2023-12-15T09:31:58.757310",
     "exception": false,
     "start_time": "2023-12-15T09:31:58.673715",
     "status": "completed"
    },
    "tags": []
   },
   "outputs": [
    {
     "data": {
      "text/plain": [
       "0   -45.600000\n",
       "1   -63.433333\n",
       "2    53.650000\n",
       "3    56.866667\n",
       "4    18.833333\n",
       "Name: duration, dtype: float64"
      ]
     },
     "execution_count": 19,
     "metadata": {},
     "output_type": "execute_result"
    }
   ],
   "source": [
    "#Creating a new column for duration\n",
    "train_data['duration'] = (train_data['tpep_dropoff_datetime'] - train_data['tpep_pickup_datetime']).dt.total_seconds() / 60\n",
    "train_data['duration'].head()"
   ]
  },
  {
   "cell_type": "markdown",
   "id": "1352f287",
   "metadata": {
    "papermill": {
     "duration": 0.056447,
     "end_time": "2023-12-15T09:31:58.889387",
     "exception": false,
     "start_time": "2023-12-15T09:31:58.832940",
     "status": "completed"
    },
    "tags": []
   },
   "source": [
    "The result of the above data shows that for some of the columns with negative duration. This indicates that there are some anomalies while recording the pickup and dropoff times.\n",
    "\n",
    "Since, we can't reach to the source to clearify this doubt, We will assume that the pick up date and drop off dates might have been swapped"
   ]
  },
  {
   "cell_type": "markdown",
   "id": "1586cb7c",
   "metadata": {
    "papermill": {
     "duration": 0.062573,
     "end_time": "2023-12-15T09:31:59.010777",
     "exception": false,
     "start_time": "2023-12-15T09:31:58.948204",
     "status": "completed"
    },
    "tags": []
   },
   "source": [
    "Let's first check how many such wrong entries are there:"
   ]
  },
  {
   "cell_type": "code",
   "execution_count": 20,
   "id": "9083badf",
   "metadata": {
    "execution": {
     "iopub.execute_input": "2023-12-15T09:31:59.128636Z",
     "iopub.status.busy": "2023-12-15T09:31:59.127398Z",
     "iopub.status.idle": "2023-12-15T09:31:59.136299Z",
     "shell.execute_reply": "2023-12-15T09:31:59.134983Z"
    },
    "papermill": {
     "duration": 0.070733,
     "end_time": "2023-12-15T09:31:59.140036",
     "exception": false,
     "start_time": "2023-12-15T09:31:59.069303",
     "status": "completed"
    },
    "tags": []
   },
   "outputs": [
    {
     "data": {
      "text/plain": [
       "65674"
      ]
     },
     "execution_count": 20,
     "metadata": {},
     "output_type": "execute_result"
    }
   ],
   "source": [
    "#Checking anomalies in duration\n",
    "(train_data['duration']<0).sum()"
   ]
  },
  {
   "cell_type": "markdown",
   "id": "cd9a5bf7",
   "metadata": {
    "papermill": {
     "duration": 0.057319,
     "end_time": "2023-12-15T09:31:59.256643",
     "exception": false,
     "start_time": "2023-12-15T09:31:59.199324",
     "status": "completed"
    },
    "tags": []
   },
   "source": [
    "There are `65674` such entries are there where `tpep_dropofF_time` is earlier than `tpep_pickup_time`. Since Count of these entries are very large, In our analysis we will take the absolute difference of time to calculate the duration, considering that there might be some while recording the data.\n",
    "\n",
    "We can't do much about this data as we don't have channels to communicate with the source of data on possible reason of discrepency for this dataset."
   ]
  },
  {
   "cell_type": "code",
   "execution_count": 21,
   "id": "ae414fd3",
   "metadata": {
    "execution": {
     "iopub.execute_input": "2023-12-15T09:31:59.373960Z",
     "iopub.status.busy": "2023-12-15T09:31:59.373472Z",
     "iopub.status.idle": "2023-12-15T09:31:59.390008Z",
     "shell.execute_reply": "2023-12-15T09:31:59.388687Z"
    },
    "papermill": {
     "duration": 0.079204,
     "end_time": "2023-12-15T09:31:59.392832",
     "exception": false,
     "start_time": "2023-12-15T09:31:59.313628",
     "status": "completed"
    },
    "tags": []
   },
   "outputs": [
    {
     "data": {
      "text/plain": [
       "0    45.600000\n",
       "1    63.433333\n",
       "2    53.650000\n",
       "3    56.866667\n",
       "4    18.833333\n",
       "Name: duration, dtype: float64"
      ]
     },
     "execution_count": 21,
     "metadata": {},
     "output_type": "execute_result"
    }
   ],
   "source": [
    "#Rectifying data with our analysis\n",
    "train_data['duration'] = abs(train_data['tpep_dropoff_datetime'] - train_data['tpep_pickup_datetime']).dt.total_seconds() / 60\n",
    "train_data['duration'].head()"
   ]
  },
  {
   "cell_type": "markdown",
   "id": "926bea17",
   "metadata": {
    "papermill": {
     "duration": 0.058638,
     "end_time": "2023-12-15T09:31:59.511374",
     "exception": false,
     "start_time": "2023-12-15T09:31:59.452736",
     "status": "completed"
    },
    "tags": []
   },
   "source": [
    "Now, Let' understand the distribution of the duration by ploting density plot"
   ]
  },
  {
   "cell_type": "code",
   "execution_count": 22,
   "id": "fe2e249a",
   "metadata": {
    "execution": {
     "iopub.execute_input": "2023-12-15T09:31:59.629231Z",
     "iopub.status.busy": "2023-12-15T09:31:59.628731Z",
     "iopub.status.idle": "2023-12-15T09:32:00.120841Z",
     "shell.execute_reply": "2023-12-15T09:32:00.119900Z"
    },
    "papermill": {
     "duration": 0.5538,
     "end_time": "2023-12-15T09:32:00.123282",
     "exception": false,
     "start_time": "2023-12-15T09:31:59.569482",
     "status": "completed"
    },
    "tags": []
   },
   "outputs": [
    {
     "data": {
      "image/png": "[encoded data removed]",
      "text/plain": [
       "<Figure size 700x700 with 1 Axes>"
      ]
     },
     "metadata": {},
     "output_type": "display_data"
    }
   ],
   "source": [
    "#Plotting histogram to check probability density function of Duration\n",
    "plt.figure(figsize = (7,7))\n",
    "plt.hist(train_data['duration'],bins = 100 ,alpha=0.7,density = True,range = (0,500))\n",
    "plt.title('Probability Density Function')\n",
    "plt.xlabel('Duration (in minutes)')\n",
    "plt.ylabel('Probability')\n",
    "\n",
    "#Display the histogram\n",
    "plt.show()"
   ]
  },
  {
   "cell_type": "markdown",
   "id": "038e37f1",
   "metadata": {
    "papermill": {
     "duration": 0.056815,
     "end_time": "2023-12-15T09:32:00.237381",
     "exception": false,
     "start_time": "2023-12-15T09:32:00.180566",
     "status": "completed"
    },
    "tags": []
   },
   "source": [
    "Let's look at presence of any outliers in the `duration`."
   ]
  },
  {
   "cell_type": "code",
   "execution_count": 23,
   "id": "5b28179a",
   "metadata": {
    "execution": {
     "iopub.execute_input": "2023-12-15T09:32:00.426390Z",
     "iopub.status.busy": "2023-12-15T09:32:00.425335Z",
     "iopub.status.idle": "2023-12-15T09:32:00.658662Z",
     "shell.execute_reply": "2023-12-15T09:32:00.657284Z"
    },
    "papermill": {
     "duration": 0.296299,
     "end_time": "2023-12-15T09:32:00.662474",
     "exception": false,
     "start_time": "2023-12-15T09:32:00.366175",
     "status": "completed"
    },
    "tags": []
   },
   "outputs": [
    {
     "data": {
      "image/png": "[encoded data removed]",
      "text/plain": [
       "<Figure size 640x480 with 1 Axes>"
      ]
     },
     "metadata": {},
     "output_type": "display_data"
    }
   ],
   "source": [
    "#For checking outliers we plot Boxplot\n",
    "plt.boxplot(train_data['duration'])\n",
    "\n",
    "#Display the box plot\n",
    "plt.show()"
   ]
  },
  {
   "cell_type": "markdown",
   "id": "acadacf2",
   "metadata": {
    "papermill": {
     "duration": 0.056926,
     "end_time": "2023-12-15T09:32:00.779565",
     "exception": false,
     "start_time": "2023-12-15T09:32:00.722639",
     "status": "completed"
    },
    "tags": []
   },
   "source": [
    "We see that we have many outliers for this column (`duration`)"
   ]
  },
  {
   "cell_type": "markdown",
   "id": "d730fbd0",
   "metadata": {
    "papermill": {
     "duration": 0.057706,
     "end_time": "2023-12-15T09:32:00.894341",
     "exception": false,
     "start_time": "2023-12-15T09:32:00.836635",
     "status": "completed"
    },
    "tags": []
   },
   "source": [
    "Let's also look at the corelation between `duration` and `total_amount`; our target variable"
   ]
  },
  {
   "cell_type": "code",
   "execution_count": 24,
   "id": "7c3a0c8f",
   "metadata": {
    "execution": {
     "iopub.execute_input": "2023-12-15T09:32:01.013301Z",
     "iopub.status.busy": "2023-12-15T09:32:01.012875Z",
     "iopub.status.idle": "2023-12-15T09:32:01.841726Z",
     "shell.execute_reply": "2023-12-15T09:32:01.839079Z"
    },
    "papermill": {
     "duration": 0.89443,
     "end_time": "2023-12-15T09:32:01.846983",
     "exception": false,
     "start_time": "2023-12-15T09:32:00.952553",
     "status": "completed"
    },
    "tags": []
   },
   "outputs": [
    {
     "data": {
      "image/png": "[encoded data removed]",
      "text/plain": [
       "<Figure size 800x600 with 1 Axes>"
      ]
     },
     "metadata": {},
     "output_type": "display_data"
    }
   ],
   "source": [
    "#Plotting scatter plot for total amount and duration\n",
    "plt.figure(figsize=(8, 6))\n",
    "plt.scatter(train_data['duration'], train_data['total_amount'], alpha=0.8)\n",
    "plt.xlabel('duration (in minutes)')\n",
    "plt.ylabel('total_amount')\n",
    "\n",
    "#Display the scatter plot\n",
    "plt.show()"
   ]
  },
  {
   "cell_type": "markdown",
   "id": "ac57aea4",
   "metadata": {
    "papermill": {
     "duration": 0.074079,
     "end_time": "2023-12-15T09:32:01.998345",
     "exception": false,
     "start_time": "2023-12-15T09:32:01.924266",
     "status": "completed"
    },
    "tags": []
   },
   "source": [
    "Let's extract few more potential features from these columns such as date of booking and time of booking"
   ]
  },
  {
   "cell_type": "code",
   "execution_count": 25,
   "id": "f5217d03",
   "metadata": {
    "execution": {
     "iopub.execute_input": "2023-12-15T09:32:02.141420Z",
     "iopub.status.busy": "2023-12-15T09:32:02.139455Z",
     "iopub.status.idle": "2023-12-15T09:32:02.265666Z",
     "shell.execute_reply": "2023-12-15T09:32:02.264571Z"
    },
    "papermill": {
     "duration": 0.200832,
     "end_time": "2023-12-15T09:32:02.268555",
     "exception": false,
     "start_time": "2023-12-15T09:32:02.067723",
     "status": "completed"
    },
    "tags": []
   },
   "outputs": [],
   "source": [
    "#Creating new column for pickup date and time\n",
    "train_data['pickup_date'] = train_data['tpep_pickup_datetime'].dt.date\n",
    "train_data['pickup_hour'] = train_data['tpep_pickup_datetime'].dt.hour"
   ]
  },
  {
   "cell_type": "markdown",
   "id": "0535895d",
   "metadata": {
    "papermill": {
     "duration": 0.067387,
     "end_time": "2023-12-15T09:32:02.397366",
     "exception": false,
     "start_time": "2023-12-15T09:32:02.329979",
     "status": "completed"
    },
    "tags": []
   },
   "source": [
    "Let's look at value count of total booking per day \n"
   ]
  },
  {
   "cell_type": "code",
   "execution_count": 26,
   "id": "f95fab1a",
   "metadata": {
    "execution": {
     "iopub.execute_input": "2023-12-15T09:32:02.527751Z",
     "iopub.status.busy": "2023-12-15T09:32:02.527284Z",
     "iopub.status.idle": "2023-12-15T09:32:02.574675Z",
     "shell.execute_reply": "2023-12-15T09:32:02.573244Z"
    },
    "papermill": {
     "duration": 0.114755,
     "end_time": "2023-12-15T09:32:02.577556",
     "exception": false,
     "start_time": "2023-12-15T09:32:02.462801",
     "status": "completed"
    },
    "tags": []
   },
   "outputs": [
    {
     "data": {
      "text/plain": [
       "pickup_date\n",
       "2023-06-29    73709\n",
       "2023-06-30    66037\n",
       "2023-06-28    34510\n",
       "2023-07-01      744\n",
       "Name: count, dtype: int64"
      ]
     },
     "execution_count": 26,
     "metadata": {},
     "output_type": "execute_result"
    }
   ],
   "source": [
    "#Check for total value count for each pickup date\n",
    "train_data['pickup_date'].value_counts()"
   ]
  },
  {
   "cell_type": "markdown",
   "id": "dfb896fa",
   "metadata": {
    "papermill": {
     "duration": 0.05943,
     "end_time": "2023-12-15T09:32:02.699433",
     "exception": false,
     "start_time": "2023-12-15T09:32:02.640003",
     "status": "completed"
    },
    "tags": []
   },
   "source": [
    "Here we see that dataset available has booking from just 4 days with highest booking on `29 June 2023` and `30 June 2023`."
   ]
  },
  {
   "cell_type": "markdown",
   "id": "5802d5b5",
   "metadata": {
    "papermill": {
     "duration": 0.060081,
     "end_time": "2023-12-15T09:32:02.821636",
     "exception": false,
     "start_time": "2023-12-15T09:32:02.761555",
     "status": "completed"
    },
    "tags": []
   },
   "source": [
    "Also, In order to understand peak booking hours, let's plot frequency plot of `pickup_hour`."
   ]
  },
  {
   "cell_type": "code",
   "execution_count": 27,
   "id": "ed16d522",
   "metadata": {
    "execution": {
     "iopub.execute_input": "2023-12-15T09:32:02.947725Z",
     "iopub.status.busy": "2023-12-15T09:32:02.946332Z",
     "iopub.status.idle": "2023-12-15T09:32:03.428784Z",
     "shell.execute_reply": "2023-12-15T09:32:03.427778Z"
    },
    "papermill": {
     "duration": 0.548696,
     "end_time": "2023-12-15T09:32:03.431630",
     "exception": false,
     "start_time": "2023-12-15T09:32:02.882934",
     "status": "completed"
    },
    "tags": []
   },
   "outputs": [
    {
     "data": {
      "image/png": "[encoded data removed]",
      "text/plain": [
       "<Figure size 640x480 with 1 Axes>"
      ]
     },
     "metadata": {},
     "output_type": "display_data"
    }
   ],
   "source": [
    "#Plotting histogram to check peak booking hours\n",
    "plt.hist(train_data['pickup_hour'], bins = 24, alpha = 0.7)\n",
    "plt.title('Frequency Plot')\n",
    "plt.xlabel('Time')\n",
    "plt.ylabel('Frequency')\n",
    "\n",
    "#Adjusting histogram\n",
    "plt.tight_layout()\n",
    "\n",
    "#Display histogram\n",
    "plt.show()"
   ]
  },
  {
   "cell_type": "markdown",
   "id": "a4d9f5fe",
   "metadata": {
    "papermill": {
     "duration": 0.059604,
     "end_time": "2023-12-15T09:32:03.551112",
     "exception": false,
     "start_time": "2023-12-15T09:32:03.491508",
     "status": "completed"
    },
    "tags": []
   },
   "source": [
    "We can classify the booking time into three bins i.e `low`, `moderate` and `high` peak timings and will use this feature for our model training. We understand that this is not the ideal method to model the peak timings in real scenerio however history can be starting point to model peak and at latter stage real time information can be used if one has the access to that data. \n",
    "\n",
    "**`low` peak from the data  can fall in the range timing of $[0,8]$, booking between $[8-15]$ can be classifies as `moderate` peak and booking between $[15-24]$ can be considered `high` peak.**"
   ]
  },
  {
   "cell_type": "markdown",
   "id": "dec527fd",
   "metadata": {
    "papermill": {
     "duration": 0.062845,
     "end_time": "2023-12-15T09:32:03.674345",
     "exception": false,
     "start_time": "2023-12-15T09:32:03.611500",
     "status": "completed"
    },
    "tags": []
   },
   "source": [
    "Let's explore another column **`passenger_count`**"
   ]
  },
  {
   "cell_type": "code",
   "execution_count": 28,
   "id": "a876344b",
   "metadata": {
    "execution": {
     "iopub.execute_input": "2023-12-15T09:32:03.801066Z",
     "iopub.status.busy": "2023-12-15T09:32:03.800598Z",
     "iopub.status.idle": "2023-12-15T09:32:03.813254Z",
     "shell.execute_reply": "2023-12-15T09:32:03.811398Z"
    },
    "papermill": {
     "duration": 0.078373,
     "end_time": "2023-12-15T09:32:03.816263",
     "exception": false,
     "start_time": "2023-12-15T09:32:03.737890",
     "status": "completed"
    },
    "tags": []
   },
   "outputs": [
    {
     "name": "stdout",
     "output_type": "stream",
     "text": [
      "Column : passenger_count\n",
      "Datatype of columns : float64\n",
      "Total number of unique values : 10\n",
      "Unique Values are : [ 1.  3.  0.  2. nan  4.  6.  5.  8.  9.]\n"
     ]
    }
   ],
   "source": [
    "#Now let's look at passenger_count column and understand it's data\n",
    "print('Column : passenger_count')\n",
    "print(f'Datatype of columns : {train_data[\"passenger_count\"].dtype}')\n",
    "print(f'Total number of unique values : {len(train_data[\"passenger_count\"].unique())}')\n",
    "print(f'Unique Values are : {train_data[\"passenger_count\"].unique()}')"
   ]
  },
  {
   "cell_type": "markdown",
   "id": "1da2fac8",
   "metadata": {
    "papermill": {
     "duration": 0.058717,
     "end_time": "2023-12-15T09:32:03.936362",
     "exception": false,
     "start_time": "2023-12-15T09:32:03.877645",
     "status": "completed"
    },
    "tags": []
   },
   "source": [
    "From the unique values, we see that there are a few `nan` values. Let's see how many values are missing"
   ]
  },
  {
   "cell_type": "code",
   "execution_count": 29,
   "id": "eee592d0",
   "metadata": {
    "execution": {
     "iopub.execute_input": "2023-12-15T09:32:04.058463Z",
     "iopub.status.busy": "2023-12-15T09:32:04.057795Z",
     "iopub.status.idle": "2023-12-15T09:32:04.065200Z",
     "shell.execute_reply": "2023-12-15T09:32:04.063984Z"
    },
    "papermill": {
     "duration": 0.07212,
     "end_time": "2023-12-15T09:32:04.067814",
     "exception": false,
     "start_time": "2023-12-15T09:32:03.995694",
     "status": "completed"
    },
    "tags": []
   },
   "outputs": [
    {
     "data": {
      "text/plain": [
       "6077"
      ]
     },
     "execution_count": 29,
     "metadata": {},
     "output_type": "execute_result"
    }
   ],
   "source": [
    "#Check for null values\n",
    "train_data['passenger_count'].isnull().sum()"
   ]
  },
  {
   "cell_type": "markdown",
   "id": "c6a8fedf",
   "metadata": {
    "papermill": {
     "duration": 0.065171,
     "end_time": "2023-12-15T09:32:04.194237",
     "exception": false,
     "start_time": "2023-12-15T09:32:04.129066",
     "status": "completed"
    },
    "tags": []
   },
   "source": [
    "There are total $6077$ missing values for passenger count. We need to `impute` the nan values while model training"
   ]
  },
  {
   "cell_type": "markdown",
   "id": "caec9eee",
   "metadata": {
    "papermill": {
     "duration": 0.058941,
     "end_time": "2023-12-15T09:32:04.313808",
     "exception": false,
     "start_time": "2023-12-15T09:32:04.254867",
     "status": "completed"
    },
    "tags": []
   },
   "source": [
    "Let's look at value counts for each unique values as well"
   ]
  },
  {
   "cell_type": "code",
   "execution_count": 30,
   "id": "12f0ea49",
   "metadata": {
    "execution": {
     "iopub.execute_input": "2023-12-15T09:32:04.435988Z",
     "iopub.status.busy": "2023-12-15T09:32:04.435519Z",
     "iopub.status.idle": "2023-12-15T09:32:04.450815Z",
     "shell.execute_reply": "2023-12-15T09:32:04.449495Z"
    },
    "papermill": {
     "duration": 0.079488,
     "end_time": "2023-12-15T09:32:04.453329",
     "exception": false,
     "start_time": "2023-12-15T09:32:04.373841",
     "status": "completed"
    },
    "tags": []
   },
   "outputs": [
    {
     "data": {
      "text/plain": [
       "passenger_count\n",
       "1.0    128534\n",
       "2.0     24316\n",
       "3.0      6018\n",
       "4.0      3668\n",
       "0.0      2818\n",
       "5.0      1970\n",
       "6.0      1596\n",
       "8.0         2\n",
       "9.0         1\n",
       "Name: count, dtype: int64"
      ]
     },
     "execution_count": 30,
     "metadata": {},
     "output_type": "execute_result"
    }
   ],
   "source": [
    "#Check for total value count for each passenger\n",
    "value_count_passengers = train_data['passenger_count'].value_counts()\n",
    "value_count_passengers"
   ]
  },
  {
   "cell_type": "code",
   "execution_count": 31,
   "id": "4f18778f",
   "metadata": {
    "execution": {
     "iopub.execute_input": "2023-12-15T09:32:04.578421Z",
     "iopub.status.busy": "2023-12-15T09:32:04.577622Z",
     "iopub.status.idle": "2023-12-15T09:32:04.812596Z",
     "shell.execute_reply": "2023-12-15T09:32:04.810393Z"
    },
    "papermill": {
     "duration": 0.302226,
     "end_time": "2023-12-15T09:32:04.817194",
     "exception": false,
     "start_time": "2023-12-15T09:32:04.514968",
     "status": "completed"
    },
    "tags": []
   },
   "outputs": [
    {
     "data": {
      "image/png": "[encoded data removed]",
      "text/plain": [
       "<Figure size 700x700 with 1 Axes>"
      ]
     },
     "metadata": {},
     "output_type": "display_data"
    }
   ],
   "source": [
    "#Plot pie chart to see distribution of passenger count\n",
    "plt.figure(figsize=(7,7))\n",
    "plt.pie(value_count_passengers.values ,labels=value_count_passengers.index, pctdistance=0.85)\n",
    "plt.title('Passengers Distribution')\n",
    "\n",
    "#Display pie chart\n",
    "plt.show()\n"
   ]
  },
  {
   "cell_type": "markdown",
   "id": "7433e183",
   "metadata": {
    "papermill": {
     "duration": 0.05955,
     "end_time": "2023-12-15T09:32:04.945291",
     "exception": false,
     "start_time": "2023-12-15T09:32:04.885741",
     "status": "completed"
    },
    "tags": []
   },
   "source": [
    "Above pie plot shows portion ratio passenger count through out the dataset "
   ]
  },
  {
   "cell_type": "markdown",
   "id": "4803044f",
   "metadata": {
    "papermill": {
     "duration": 0.061884,
     "end_time": "2023-12-15T09:32:05.067614",
     "exception": false,
     "start_time": "2023-12-15T09:32:05.005730",
     "status": "completed"
    },
    "tags": []
   },
   "source": [
    "Let's understand the distribution of our target variable for different value of `passenger_count`"
   ]
  },
  {
   "cell_type": "code",
   "execution_count": 32,
   "id": "8e5de8f2",
   "metadata": {
    "execution": {
     "iopub.execute_input": "2023-12-15T09:32:05.197186Z",
     "iopub.status.busy": "2023-12-15T09:32:05.196499Z",
     "iopub.status.idle": "2023-12-15T09:32:09.747992Z",
     "shell.execute_reply": "2023-12-15T09:32:09.746965Z"
    },
    "papermill": {
     "duration": 4.621909,
     "end_time": "2023-12-15T09:32:09.750784",
     "exception": false,
     "start_time": "2023-12-15T09:32:05.128875",
     "status": "completed"
    },
    "tags": []
   },
   "outputs": [
    {
     "data": {
      "image/png": "[encoded data removed]",
      "text/plain": [
       "<Figure size 1500x1500 with 10 Axes>"
      ]
     },
     "metadata": {},
     "output_type": "display_data"
    }
   ],
   "source": [
    "fig, axes = plt.subplots(nrows=5, ncols=2, figsize=(15,15))\n",
    "axes = axes.flatten()\n",
    "\n",
    "values = train_data[\"passenger_count\"].unique()\n",
    "# values.dtype = float\n",
    "\n",
    "# Plotting histograms for each passenger\n",
    "for passenger_count, ax in zip(values, axes):\n",
    "    if np.isnan(passenger_count):\n",
    "        ax.hist(train_data[train_data['passenger_count'].isna()]['total_amount'],bins = 100 ,alpha=0.7)\n",
    "    else:\n",
    "        ax.hist(train_data[train_data['passenger_count'] == passenger_count]['total_amount'],bins = 100 ,alpha=0.7)\n",
    "\n",
    "    ax.set_title(f'Passenger Count {passenger_count}')\n",
    "    ax.set_xlabel('Total Amount')\n",
    "    ax.set_ylabel('Frequency')\n",
    "\n",
    "# Adjusting layout\n",
    "plt.tight_layout()\n",
    "\n",
    "# Display the subplots\n",
    "plt.show()"
   ]
  },
  {
   "cell_type": "markdown",
   "id": "7ef39b38",
   "metadata": {
    "papermill": {
     "duration": 0.06205,
     "end_time": "2023-12-15T09:32:09.876747",
     "exception": false,
     "start_time": "2023-12-15T09:32:09.814697",
     "status": "completed"
    },
    "tags": []
   },
   "source": [
    "Let's explore another column **`trip_distance`**"
   ]
  },
  {
   "cell_type": "code",
   "execution_count": 33,
   "id": "40023f28",
   "metadata": {
    "execution": {
     "iopub.execute_input": "2023-12-15T09:32:10.018725Z",
     "iopub.status.busy": "2023-12-15T09:32:10.018259Z",
     "iopub.status.idle": "2023-12-15T09:32:10.028082Z",
     "shell.execute_reply": "2023-12-15T09:32:10.026515Z"
    },
    "papermill": {
     "duration": 0.075806,
     "end_time": "2023-12-15T09:32:10.030681",
     "exception": false,
     "start_time": "2023-12-15T09:32:09.954875",
     "status": "completed"
    },
    "tags": []
   },
   "outputs": [
    {
     "name": "stdout",
     "output_type": "stream",
     "text": [
      "Column: trip_distance\n",
      "Datatype of columns: float64\n",
      "Total number of unique values: 2929\n"
     ]
    }
   ],
   "source": [
    "#Now, let's look at trip_distance column and understand it's data\n",
    "print('Column: trip_distance')\n",
    "print(f'Datatype of columns: {train_data[\"trip_distance\"].dtype}')\n",
    "print(f'Total number of unique values: {len(train_data[\"trip_distance\"].unique())}')"
   ]
  },
  {
   "cell_type": "markdown",
   "id": "762d072c",
   "metadata": {
    "papermill": {
     "duration": 0.061013,
     "end_time": "2023-12-15T09:32:10.152811",
     "exception": false,
     "start_time": "2023-12-15T09:32:10.091798",
     "status": "completed"
    },
    "tags": []
   },
   "source": [
    "Let's look for missing values in this column"
   ]
  },
  {
   "cell_type": "code",
   "execution_count": 34,
   "id": "fd82e6d8",
   "metadata": {
    "execution": {
     "iopub.execute_input": "2023-12-15T09:32:10.279292Z",
     "iopub.status.busy": "2023-12-15T09:32:10.278824Z",
     "iopub.status.idle": "2023-12-15T09:32:10.288055Z",
     "shell.execute_reply": "2023-12-15T09:32:10.286702Z"
    },
    "papermill": {
     "duration": 0.076286,
     "end_time": "2023-12-15T09:32:10.290832",
     "exception": false,
     "start_time": "2023-12-15T09:32:10.214546",
     "status": "completed"
    },
    "tags": []
   },
   "outputs": [
    {
     "data": {
      "text/plain": [
       "0"
      ]
     },
     "execution_count": 34,
     "metadata": {},
     "output_type": "execute_result"
    }
   ],
   "source": [
    "#Check for null values\n",
    "train_data['trip_distance'].isnull().sum()"
   ]
  },
  {
   "cell_type": "markdown",
   "id": "372d8c73",
   "metadata": {
    "papermill": {
     "duration": 0.064455,
     "end_time": "2023-12-15T09:32:10.418881",
     "exception": false,
     "start_time": "2023-12-15T09:32:10.354426",
     "status": "completed"
    },
    "tags": []
   },
   "source": [
    "There are `zero` missing values"
   ]
  },
  {
   "cell_type": "markdown",
   "id": "be401c9a",
   "metadata": {
    "papermill": {
     "duration": 0.062419,
     "end_time": "2023-12-15T09:32:10.543369",
     "exception": false,
     "start_time": "2023-12-15T09:32:10.480950",
     "status": "completed"
    },
    "tags": []
   },
   "source": [
    "Now Let's looks for potential outliers for `trip distance`"
   ]
  },
  {
   "cell_type": "code",
   "execution_count": 35,
   "id": "c1ad4517",
   "metadata": {
    "execution": {
     "iopub.execute_input": "2023-12-15T09:32:10.670241Z",
     "iopub.status.busy": "2023-12-15T09:32:10.669816Z",
     "iopub.status.idle": "2023-12-15T09:32:10.967925Z",
     "shell.execute_reply": "2023-12-15T09:32:10.966536Z"
    },
    "papermill": {
     "duration": 0.365369,
     "end_time": "2023-12-15T09:32:10.970447",
     "exception": false,
     "start_time": "2023-12-15T09:32:10.605078",
     "status": "completed"
    },
    "tags": []
   },
   "outputs": [
    {
     "data": {
      "image/png": "[encoded data removed]",
      "text/plain": [
       "<Figure size 640x480 with 1 Axes>"
      ]
     },
     "metadata": {},
     "output_type": "display_data"
    }
   ],
   "source": [
    "#Plotting box plot\n",
    "plt.boxplot(train_data['trip_distance'])\n",
    "plt.title('Box Plot of Trip Distance')\n",
    "\n",
    "#Display box plot\n",
    "plt.show()"
   ]
  },
  {
   "cell_type": "markdown",
   "id": "951f6b2f",
   "metadata": {
    "papermill": {
     "duration": 0.06157,
     "end_time": "2023-12-15T09:32:11.095872",
     "exception": false,
     "start_time": "2023-12-15T09:32:11.034302",
     "status": "completed"
    },
    "tags": []
   },
   "source": [
    "Outliers are present in the column `trip_distance` as visible by the box plot above. We will handle these outliers while data cleaning."
   ]
  },
  {
   "cell_type": "markdown",
   "id": "679fda3a",
   "metadata": {
    "papermill": {
     "duration": 0.06146,
     "end_time": "2023-12-15T09:32:11.219352",
     "exception": false,
     "start_time": "2023-12-15T09:32:11.157892",
     "status": "completed"
    },
    "tags": []
   },
   "source": [
    "Also, Let's look for its distribution"
   ]
  },
  {
   "cell_type": "code",
   "execution_count": 36,
   "id": "7007c77f",
   "metadata": {
    "execution": {
     "iopub.execute_input": "2023-12-15T09:32:11.348499Z",
     "iopub.status.busy": "2023-12-15T09:32:11.347534Z",
     "iopub.status.idle": "2023-12-15T09:32:11.808789Z",
     "shell.execute_reply": "2023-12-15T09:32:11.807472Z"
    },
    "papermill": {
     "duration": 0.528979,
     "end_time": "2023-12-15T09:32:11.811844",
     "exception": false,
     "start_time": "2023-12-15T09:32:11.282865",
     "status": "completed"
    },
    "tags": []
   },
   "outputs": [
    {
     "data": {
      "image/png": "[encoded data removed]",
      "text/plain": [
       "<Figure size 640x480 with 1 Axes>"
      ]
     },
     "metadata": {},
     "output_type": "display_data"
    }
   ],
   "source": [
    "#Plotting Histogram to look at it's distribution\n",
    "plt.hist(train_data['trip_distance'], bins = 100, range=(0,50))\n",
    "plt.title('Histogram of Trip Distance')\n",
    "plt.xlabel('Trip Distance')\n",
    "plt.ylabel('Frequency')\n",
    "\n",
    "#Display Histogram\n",
    "plt.show()"
   ]
  },
  {
   "cell_type": "markdown",
   "id": "1a95e677",
   "metadata": {
    "papermill": {
     "duration": 0.062603,
     "end_time": "2023-12-15T09:32:11.937633",
     "exception": false,
     "start_time": "2023-12-15T09:32:11.875030",
     "status": "completed"
    },
    "tags": []
   },
   "source": [
    "Let's look at another column **`RateCodeID`**"
   ]
  },
  {
   "cell_type": "code",
   "execution_count": 37,
   "id": "a45957dc",
   "metadata": {
    "execution": {
     "iopub.execute_input": "2023-12-15T09:32:12.066035Z",
     "iopub.status.busy": "2023-12-15T09:32:12.065300Z",
     "iopub.status.idle": "2023-12-15T09:32:12.077027Z",
     "shell.execute_reply": "2023-12-15T09:32:12.075264Z"
    },
    "papermill": {
     "duration": 0.07905,
     "end_time": "2023-12-15T09:32:12.079726",
     "exception": false,
     "start_time": "2023-12-15T09:32:12.000676",
     "status": "completed"
    },
    "tags": []
   },
   "outputs": [
    {
     "name": "stdout",
     "output_type": "stream",
     "text": [
      "Column: RatecodeID\n",
      "Datatype of columns: float64\n",
      "Total number of unique values: 7\n",
      "Unique Values are: [ 1. 99.  3. nan  2.  5.  4.]\n"
     ]
    }
   ],
   "source": [
    "#Now let's look at RatecodeID column and understand it's data\n",
    "print('Column: RatecodeID')\n",
    "print(f'Datatype of columns: {train_data[\"RatecodeID\"].dtype}')\n",
    "print(f'Total number of unique values: {len(train_data[\"RatecodeID\"].unique())}')\n",
    "print(f'Unique Values are: {train_data[\"RatecodeID\"].unique()}')"
   ]
  },
  {
   "cell_type": "markdown",
   "id": "2849545c",
   "metadata": {
    "papermill": {
     "duration": 0.062559,
     "end_time": "2023-12-15T09:32:12.205841",
     "exception": false,
     "start_time": "2023-12-15T09:32:12.143282",
     "status": "completed"
    },
    "tags": []
   },
   "source": [
    "We see that there is an outlier i.e value `99`. Since generally rating happens to be between 1-5. We will take care of this value. \n",
    "\n",
    "Also we see that there is presence of `nan` value here. Let's see total count of `nan` values "
   ]
  },
  {
   "cell_type": "code",
   "execution_count": 38,
   "id": "b230f6db",
   "metadata": {
    "execution": {
     "iopub.execute_input": "2023-12-15T09:32:12.333689Z",
     "iopub.status.busy": "2023-12-15T09:32:12.332924Z",
     "iopub.status.idle": "2023-12-15T09:32:12.340634Z",
     "shell.execute_reply": "2023-12-15T09:32:12.339419Z"
    },
    "papermill": {
     "duration": 0.074628,
     "end_time": "2023-12-15T09:32:12.343234",
     "exception": false,
     "start_time": "2023-12-15T09:32:12.268606",
     "status": "completed"
    },
    "tags": []
   },
   "outputs": [
    {
     "data": {
      "text/plain": [
       "6077"
      ]
     },
     "execution_count": 38,
     "metadata": {},
     "output_type": "execute_result"
    }
   ],
   "source": [
    "#check for null values\n",
    "train_data[\"RatecodeID\"].isnull().sum()"
   ]
  },
  {
   "cell_type": "markdown",
   "id": "442cd2b4",
   "metadata": {
    "papermill": {
     "duration": 0.063174,
     "end_time": "2023-12-15T09:32:12.470550",
     "exception": false,
     "start_time": "2023-12-15T09:32:12.407376",
     "status": "completed"
    },
    "tags": []
   },
   "source": [
    "There are about `6077` rows for which values are missing"
   ]
  },
  {
   "cell_type": "markdown",
   "id": "0cff6c3c",
   "metadata": {
    "papermill": {
     "duration": 0.063504,
     "end_time": "2023-12-15T09:32:12.597722",
     "exception": false,
     "start_time": "2023-12-15T09:32:12.534218",
     "status": "completed"
    },
    "tags": []
   },
   "source": [
    "Let's look at value counts for each unique values"
   ]
  },
  {
   "cell_type": "code",
   "execution_count": 39,
   "id": "a7632017",
   "metadata": {
    "execution": {
     "iopub.execute_input": "2023-12-15T09:32:12.726428Z",
     "iopub.status.busy": "2023-12-15T09:32:12.725980Z",
     "iopub.status.idle": "2023-12-15T09:32:12.740492Z",
     "shell.execute_reply": "2023-12-15T09:32:12.739280Z"
    },
    "papermill": {
     "duration": 0.082523,
     "end_time": "2023-12-15T09:32:12.743343",
     "exception": false,
     "start_time": "2023-12-15T09:32:12.660820",
     "status": "completed"
    },
    "tags": []
   },
   "outputs": [
    {
     "data": {
      "text/plain": [
       "RatecodeID\n",
       "1.0     158652\n",
       "2.0       7314\n",
       "5.0       1036\n",
       "99.0       748\n",
       "3.0        727\n",
       "4.0        446\n",
       "Name: count, dtype: int64"
      ]
     },
     "execution_count": 39,
     "metadata": {},
     "output_type": "execute_result"
    }
   ],
   "source": [
    "#Check for total value count for each rating\n",
    "value_count_rating = train_data['RatecodeID'].value_counts()\n",
    "value_count_rating"
   ]
  },
  {
   "cell_type": "markdown",
   "id": "59779cb6",
   "metadata": {
    "papermill": {
     "duration": 0.062476,
     "end_time": "2023-12-15T09:32:12.871016",
     "exception": false,
     "start_time": "2023-12-15T09:32:12.808540",
     "status": "completed"
    },
    "tags": []
   },
   "source": [
    "We will replace the any value bigger than 5 with mean `RateCodeID` during data cleaning phase"
   ]
  },
  {
   "cell_type": "markdown",
   "id": "988009a3",
   "metadata": {
    "papermill": {
     "duration": 0.062183,
     "end_time": "2023-12-15T09:32:12.997271",
     "exception": false,
     "start_time": "2023-12-15T09:32:12.935088",
     "status": "completed"
    },
    "tags": []
   },
   "source": [
    "Let's look for another column **`store_and_fwd_flag`**"
   ]
  },
  {
   "cell_type": "code",
   "execution_count": 40,
   "id": "d47eaff2",
   "metadata": {
    "execution": {
     "iopub.execute_input": "2023-12-15T09:32:13.124796Z",
     "iopub.status.busy": "2023-12-15T09:32:13.123446Z",
     "iopub.status.idle": "2023-12-15T09:32:13.157067Z",
     "shell.execute_reply": "2023-12-15T09:32:13.155523Z"
    },
    "papermill": {
     "duration": 0.100238,
     "end_time": "2023-12-15T09:32:13.159899",
     "exception": false,
     "start_time": "2023-12-15T09:32:13.059661",
     "status": "completed"
    },
    "tags": []
   },
   "outputs": [
    {
     "name": "stdout",
     "output_type": "stream",
     "text": [
      "Column: store_and_fwd_flag\n",
      "Datatype of columns: object\n",
      "Total number of unique values: 3\n",
      "Unique Values are: ['N' nan 'Y']\n"
     ]
    }
   ],
   "source": [
    "#Now ,let's look at store_and_fwd_flag column and understand it's data\n",
    "print('Column: store_and_fwd_flag')\n",
    "print(f'Datatype of columns: {train_data[\"store_and_fwd_flag\"].dtype}')\n",
    "print(f'Total number of unique values: {len(train_data[\"store_and_fwd_flag\"].unique())}')\n",
    "print(f'Unique Values are: {train_data[\"store_and_fwd_flag\"].unique()}')"
   ]
  },
  {
   "cell_type": "markdown",
   "id": "887a9d45",
   "metadata": {
    "papermill": {
     "duration": 0.063016,
     "end_time": "2023-12-15T09:32:13.285530",
     "exception": false,
     "start_time": "2023-12-15T09:32:13.222514",
     "status": "completed"
    },
    "tags": []
   },
   "source": [
    "From the unique values, we see that there are a few nan values. Let's see how many values are missing"
   ]
  },
  {
   "cell_type": "code",
   "execution_count": 41,
   "id": "54f19630",
   "metadata": {
    "execution": {
     "iopub.execute_input": "2023-12-15T09:32:13.415113Z",
     "iopub.status.busy": "2023-12-15T09:32:13.414714Z",
     "iopub.status.idle": "2023-12-15T09:32:13.441013Z",
     "shell.execute_reply": "2023-12-15T09:32:13.439925Z"
    },
    "papermill": {
     "duration": 0.094292,
     "end_time": "2023-12-15T09:32:13.443594",
     "exception": false,
     "start_time": "2023-12-15T09:32:13.349302",
     "status": "completed"
    },
    "tags": []
   },
   "outputs": [
    {
     "data": {
      "text/plain": [
       "6077"
      ]
     },
     "execution_count": 41,
     "metadata": {},
     "output_type": "execute_result"
    }
   ],
   "source": [
    "#check for null values\n",
    "train_data[\"store_and_fwd_flag\"].isnull().sum()"
   ]
  },
  {
   "cell_type": "markdown",
   "id": "41b9bff9",
   "metadata": {
    "papermill": {
     "duration": 0.065206,
     "end_time": "2023-12-15T09:32:13.572417",
     "exception": false,
     "start_time": "2023-12-15T09:32:13.507211",
     "status": "completed"
    },
    "tags": []
   },
   "source": [
    "There are total `6077` missing values for store and fwd flag. We need to impute the nan values while model training"
   ]
  },
  {
   "cell_type": "markdown",
   "id": "f5eea93e",
   "metadata": {
    "papermill": {
     "duration": 0.066556,
     "end_time": "2023-12-15T09:32:13.701783",
     "exception": false,
     "start_time": "2023-12-15T09:32:13.635227",
     "status": "completed"
    },
    "tags": []
   },
   "source": [
    "Let's look at value counts for each unique values"
   ]
  },
  {
   "cell_type": "code",
   "execution_count": 42,
   "id": "25800c7a",
   "metadata": {
    "execution": {
     "iopub.execute_input": "2023-12-15T09:32:13.834730Z",
     "iopub.status.busy": "2023-12-15T09:32:13.834278Z",
     "iopub.status.idle": "2023-12-15T09:32:13.866464Z",
     "shell.execute_reply": "2023-12-15T09:32:13.865386Z"
    },
    "papermill": {
     "duration": 0.101709,
     "end_time": "2023-12-15T09:32:13.869174",
     "exception": false,
     "start_time": "2023-12-15T09:32:13.767465",
     "status": "completed"
    },
    "tags": []
   },
   "outputs": [
    {
     "data": {
      "text/plain": [
       "store_and_fwd_flag\n",
       "N    167729\n",
       "Y      1194\n",
       "Name: count, dtype: int64"
      ]
     },
     "execution_count": 42,
     "metadata": {},
     "output_type": "execute_result"
    }
   ],
   "source": [
    "#Check for total value count for each flag\n",
    "value_count_flag = train_data['store_and_fwd_flag'].value_counts()\n",
    "value_count_flag"
   ]
  },
  {
   "cell_type": "markdown",
   "id": "269dfccd",
   "metadata": {
    "papermill": {
     "duration": 0.066634,
     "end_time": "2023-12-15T09:32:14.001467",
     "exception": false,
     "start_time": "2023-12-15T09:32:13.934833",
     "status": "completed"
    },
    "tags": []
   },
   "source": [
    "Now, let's analyze **`PULocationID`** and **`DULocationID`** columns"
   ]
  },
  {
   "cell_type": "code",
   "execution_count": 43,
   "id": "8c34c4cb",
   "metadata": {
    "execution": {
     "iopub.execute_input": "2023-12-15T09:32:14.132365Z",
     "iopub.status.busy": "2023-12-15T09:32:14.131939Z",
     "iopub.status.idle": "2023-12-15T09:32:14.141598Z",
     "shell.execute_reply": "2023-12-15T09:32:14.140659Z"
    },
    "papermill": {
     "duration": 0.077076,
     "end_time": "2023-12-15T09:32:14.143987",
     "exception": false,
     "start_time": "2023-12-15T09:32:14.066911",
     "status": "completed"
    },
    "tags": []
   },
   "outputs": [
    {
     "name": "stdout",
     "output_type": "stream",
     "text": [
      "Columns: PULocationID & DOLocationID\n",
      "Datatype of columns: int64, int64\n",
      "Total number of unique values: 264, 264\n"
     ]
    }
   ],
   "source": [
    "#Now, let's look at LocationID columns and understand it's data\n",
    "print('Columns: PULocationID & DOLocationID')\n",
    "print(f'Datatype of columns: {train_data[\"PULocationID\"].dtype}, {train_data[\"DOLocationID\"].dtype}')\n",
    "print(f'Total number of unique values: {len(train_data[\"PULocationID\"].unique())}, {len(train_data[\"DOLocationID\"].unique())}')"
   ]
  },
  {
   "cell_type": "markdown",
   "id": "bf5287a5",
   "metadata": {
    "papermill": {
     "duration": 0.065605,
     "end_time": "2023-12-15T09:32:14.275408",
     "exception": false,
     "start_time": "2023-12-15T09:32:14.209803",
     "status": "completed"
    },
    "tags": []
   },
   "source": [
    "Let's look for any missing values in these columns"
   ]
  },
  {
   "cell_type": "code",
   "execution_count": 44,
   "id": "3722457d",
   "metadata": {
    "execution": {
     "iopub.execute_input": "2023-12-15T09:32:14.405830Z",
     "iopub.status.busy": "2023-12-15T09:32:14.404635Z",
     "iopub.status.idle": "2023-12-15T09:32:14.413552Z",
     "shell.execute_reply": "2023-12-15T09:32:14.411653Z"
    },
    "papermill": {
     "duration": 0.07703,
     "end_time": "2023-12-15T09:32:14.416083",
     "exception": false,
     "start_time": "2023-12-15T09:32:14.339053",
     "status": "completed"
    },
    "tags": []
   },
   "outputs": [
    {
     "name": "stdout",
     "output_type": "stream",
     "text": [
      "Total number of missing values: 0, 0\n"
     ]
    }
   ],
   "source": [
    "print(f'Total number of missing values: {(train_data[\"PULocationID\"].isnull().sum())}, {(train_data[\"DOLocationID\"].isnull().sum())}')"
   ]
  },
  {
   "cell_type": "markdown",
   "id": "8ce7a510",
   "metadata": {
    "papermill": {
     "duration": 0.063122,
     "end_time": "2023-12-15T09:32:14.543608",
     "exception": false,
     "start_time": "2023-12-15T09:32:14.480486",
     "status": "completed"
    },
    "tags": []
   },
   "source": [
    "There are `zero` null values in this column"
   ]
  },
  {
   "cell_type": "markdown",
   "id": "65cbefab",
   "metadata": {
    "papermill": {
     "duration": 0.06288,
     "end_time": "2023-12-15T09:32:14.669853",
     "exception": false,
     "start_time": "2023-12-15T09:32:14.606973",
     "status": "completed"
    },
    "tags": []
   },
   "source": [
    "Now, let's analyze another column **`payment_type`**"
   ]
  },
  {
   "cell_type": "code",
   "execution_count": 45,
   "id": "10e35a33",
   "metadata": {
    "execution": {
     "iopub.execute_input": "2023-12-15T09:32:14.800610Z",
     "iopub.status.busy": "2023-12-15T09:32:14.800140Z",
     "iopub.status.idle": "2023-12-15T09:32:14.838944Z",
     "shell.execute_reply": "2023-12-15T09:32:14.837571Z"
    },
    "papermill": {
     "duration": 0.108517,
     "end_time": "2023-12-15T09:32:14.842813",
     "exception": false,
     "start_time": "2023-12-15T09:32:14.734296",
     "status": "completed"
    },
    "tags": []
   },
   "outputs": [
    {
     "name": "stdout",
     "output_type": "stream",
     "text": [
      "Column: payment_type\n",
      "Datatype of columns: object\n",
      "Total number of unique values: 5\n",
      "Unique Values are: ['Credit Card' 'Cash' 'Wallet' 'UPI' 'unknown']\n"
     ]
    }
   ],
   "source": [
    "#Now let's look at payment_type column and understand it's data\n",
    "print('Column: payment_type')\n",
    "print(f'Datatype of columns: {train_data[\"payment_type\"].dtype}')\n",
    "print(f'Total number of unique values: {len(train_data[\"payment_type\"].unique())}')\n",
    "print(f'Unique Values are: {train_data[\"payment_type\"].unique()}')"
   ]
  },
  {
   "cell_type": "markdown",
   "id": "3fe80256",
   "metadata": {
    "papermill": {
     "duration": 0.070805,
     "end_time": "2023-12-15T09:32:14.978764",
     "exception": false,
     "start_time": "2023-12-15T09:32:14.907959",
     "status": "completed"
    },
    "tags": []
   },
   "source": [
    "Let's look for any missing values in these column"
   ]
  },
  {
   "cell_type": "code",
   "execution_count": 46,
   "id": "0f6a3b07",
   "metadata": {
    "execution": {
     "iopub.execute_input": "2023-12-15T09:32:15.108607Z",
     "iopub.status.busy": "2023-12-15T09:32:15.108172Z",
     "iopub.status.idle": "2023-12-15T09:32:15.134888Z",
     "shell.execute_reply": "2023-12-15T09:32:15.133656Z"
    },
    "papermill": {
     "duration": 0.094664,
     "end_time": "2023-12-15T09:32:15.137460",
     "exception": false,
     "start_time": "2023-12-15T09:32:15.042796",
     "status": "completed"
    },
    "tags": []
   },
   "outputs": [
    {
     "data": {
      "text/plain": [
       "0"
      ]
     },
     "execution_count": 46,
     "metadata": {},
     "output_type": "execute_result"
    }
   ],
   "source": [
    "train_data['payment_type'].isnull().sum()"
   ]
  },
  {
   "cell_type": "markdown",
   "id": "e1cd2403",
   "metadata": {
    "papermill": {
     "duration": 0.064359,
     "end_time": "2023-12-15T09:32:15.266272",
     "exception": false,
     "start_time": "2023-12-15T09:32:15.201913",
     "status": "completed"
    },
    "tags": []
   },
   "source": [
    "There are `zero` null values in this column"
   ]
  },
  {
   "cell_type": "markdown",
   "id": "e0ac667a",
   "metadata": {
    "papermill": {
     "duration": 0.064453,
     "end_time": "2023-12-15T09:32:15.396093",
     "exception": false,
     "start_time": "2023-12-15T09:32:15.331640",
     "status": "completed"
    },
    "tags": []
   },
   "source": [
    "Let's look at value counts for each unique values"
   ]
  },
  {
   "cell_type": "code",
   "execution_count": 47,
   "id": "aba17bdf",
   "metadata": {
    "execution": {
     "iopub.execute_input": "2023-12-15T09:32:15.530021Z",
     "iopub.status.busy": "2023-12-15T09:32:15.529219Z",
     "iopub.status.idle": "2023-12-15T09:32:15.567224Z",
     "shell.execute_reply": "2023-12-15T09:32:15.566245Z"
    },
    "papermill": {
     "duration": 0.108261,
     "end_time": "2023-12-15T09:32:15.569763",
     "exception": false,
     "start_time": "2023-12-15T09:32:15.461502",
     "status": "completed"
    },
    "tags": []
   },
   "outputs": [
    {
     "data": {
      "text/plain": [
       "payment_type\n",
       "Credit Card    135257\n",
       "Cash            30141\n",
       "Wallet           6077\n",
       "unknown          2333\n",
       "UPI              1192\n",
       "Name: count, dtype: int64"
      ]
     },
     "execution_count": 47,
     "metadata": {},
     "output_type": "execute_result"
    }
   ],
   "source": [
    "#Check for total value count for each payment type\n",
    "value_count_payment_type = train_data['payment_type'].value_counts()\n",
    "value_count_payment_type"
   ]
  },
  {
   "cell_type": "code",
   "execution_count": 48,
   "id": "4f0b0811",
   "metadata": {
    "execution": {
     "iopub.execute_input": "2023-12-15T09:32:15.704707Z",
     "iopub.status.busy": "2023-12-15T09:32:15.704023Z",
     "iopub.status.idle": "2023-12-15T09:32:15.908852Z",
     "shell.execute_reply": "2023-12-15T09:32:15.907039Z"
    },
    "papermill": {
     "duration": 0.2769,
     "end_time": "2023-12-15T09:32:15.913473",
     "exception": false,
     "start_time": "2023-12-15T09:32:15.636573",
     "status": "completed"
    },
    "tags": []
   },
   "outputs": [
    {
     "data": {
      "image/png": "[encoded data removed]",
      "text/plain": [
       "<Figure size 700x700 with 1 Axes>"
      ]
     },
     "metadata": {},
     "output_type": "display_data"
    }
   ],
   "source": [
    "#Plot pie chart to see distribution of payment type\n",
    "plt.figure(figsize = (7,7))\n",
    "plt.pie(value_count_payment_type.values, labels = value_count_payment_type.index, autopct = \"%1.2f%%\")\n",
    "\n",
    "#Display pie chart\n",
    "plt.show()"
   ]
  },
  {
   "cell_type": "markdown",
   "id": "1947cf96",
   "metadata": {
    "papermill": {
     "duration": 0.066379,
     "end_time": "2023-12-15T09:32:16.057923",
     "exception": false,
     "start_time": "2023-12-15T09:32:15.991544",
     "status": "completed"
    },
    "tags": []
   },
   "source": [
    "Above pie plot shows portion ratio payment type through out the dataset"
   ]
  },
  {
   "cell_type": "markdown",
   "id": "3849d4d0",
   "metadata": {
    "papermill": {
     "duration": 0.065257,
     "end_time": "2023-12-15T09:32:16.189486",
     "exception": false,
     "start_time": "2023-12-15T09:32:16.124229",
     "status": "completed"
    },
    "tags": []
   },
   "source": [
    "Let's understand the distribution of our target variable for different value of `payment_type`"
   ]
  },
  {
   "cell_type": "code",
   "execution_count": 49,
   "id": "39f4e020",
   "metadata": {
    "execution": {
     "iopub.execute_input": "2023-12-15T09:32:16.320507Z",
     "iopub.status.busy": "2023-12-15T09:32:16.319693Z",
     "iopub.status.idle": "2023-12-15T09:32:18.964525Z",
     "shell.execute_reply": "2023-12-15T09:32:18.963111Z"
    },
    "papermill": {
     "duration": 2.714218,
     "end_time": "2023-12-15T09:32:18.967884",
     "exception": false,
     "start_time": "2023-12-15T09:32:16.253666",
     "status": "completed"
    },
    "tags": []
   },
   "outputs": [
    {
     "data": {
      "image/png": "[encoded data removed]",
      "text/plain": [
       "<Figure size 1500x1500 with 6 Axes>"
      ]
     },
     "metadata": {},
     "output_type": "display_data"
    }
   ],
   "source": [
    "#Plotting subplots as there are 5 payment types\n",
    "fig, axes = plt.subplots(nrows=3, ncols=2, figsize=(15,15))\n",
    "axes = axes.flatten()\n",
    "\n",
    "values = train_data[\"payment_type\"].unique()\n",
    "#values.dtype = float\n",
    "\n",
    "#Plotting histograms for each payment type\n",
    "for payment_type, ax in zip(values, axes):\n",
    "    ax.hist(train_data[train_data['payment_type'] == payment_type]['total_amount'],bins = 100 ,alpha=0.7)\n",
    "    ax.set_title(f'Payment Type: {payment_type}')\n",
    "    ax.set_xlabel('Total Amount')\n",
    "    ax.set_ylabel('Frequency')\n",
    "\n",
    "#Adjusting layout\n",
    "plt.tight_layout()\n",
    "\n",
    "#Display the subplots\n",
    "plt.show()"
   ]
  },
  {
   "cell_type": "markdown",
   "id": "2aa99ef6",
   "metadata": {
    "papermill": {
     "duration": 0.06552,
     "end_time": "2023-12-15T09:32:19.099470",
     "exception": false,
     "start_time": "2023-12-15T09:32:19.033950",
     "status": "completed"
    },
    "tags": []
   },
   "source": [
    "Now, Let's analyze another column **`extra`**"
   ]
  },
  {
   "cell_type": "code",
   "execution_count": 50,
   "id": "075e0d2d",
   "metadata": {
    "execution": {
     "iopub.execute_input": "2023-12-15T09:32:19.235148Z",
     "iopub.status.busy": "2023-12-15T09:32:19.234649Z",
     "iopub.status.idle": "2023-12-15T09:32:19.243967Z",
     "shell.execute_reply": "2023-12-15T09:32:19.242331Z"
    },
    "papermill": {
     "duration": 0.08051,
     "end_time": "2023-12-15T09:32:19.246335",
     "exception": false,
     "start_time": "2023-12-15T09:32:19.165825",
     "status": "completed"
    },
    "tags": []
   },
   "outputs": [
    {
     "name": "stdout",
     "output_type": "stream",
     "text": [
      "Column: extra\n",
      "Datatype of columns: float64\n",
      "Total number of unique values: 28\n"
     ]
    }
   ],
   "source": [
    "#Now, let's look at extra column and understand it's data\n",
    "print('Column: extra')\n",
    "print(f'Datatype of columns: {train_data[\"extra\"].dtype}')\n",
    "print(f'Total number of unique values: {len(train_data[\"extra\"].unique())}')"
   ]
  },
  {
   "cell_type": "markdown",
   "id": "e8aecfd0",
   "metadata": {
    "papermill": {
     "duration": 0.065572,
     "end_time": "2023-12-15T09:32:19.377661",
     "exception": false,
     "start_time": "2023-12-15T09:32:19.312089",
     "status": "completed"
    },
    "tags": []
   },
   "source": [
    "Let's look for any missing values in this column"
   ]
  },
  {
   "cell_type": "code",
   "execution_count": 51,
   "id": "6805b3b1",
   "metadata": {
    "execution": {
     "iopub.execute_input": "2023-12-15T09:32:19.513072Z",
     "iopub.status.busy": "2023-12-15T09:32:19.511987Z",
     "iopub.status.idle": "2023-12-15T09:32:19.520016Z",
     "shell.execute_reply": "2023-12-15T09:32:19.518987Z"
    },
    "papermill": {
     "duration": 0.078129,
     "end_time": "2023-12-15T09:32:19.522340",
     "exception": false,
     "start_time": "2023-12-15T09:32:19.444211",
     "status": "completed"
    },
    "tags": []
   },
   "outputs": [
    {
     "data": {
      "text/plain": [
       "0"
      ]
     },
     "execution_count": 51,
     "metadata": {},
     "output_type": "execute_result"
    }
   ],
   "source": [
    "#Check for null values\n",
    "train_data['extra'].isnull().sum()"
   ]
  },
  {
   "cell_type": "markdown",
   "id": "cb585af2",
   "metadata": {
    "papermill": {
     "duration": 0.066137,
     "end_time": "2023-12-15T09:32:19.655324",
     "exception": false,
     "start_time": "2023-12-15T09:32:19.589187",
     "status": "completed"
    },
    "tags": []
   },
   "source": [
    "There are `zero` null values in this column"
   ]
  },
  {
   "cell_type": "markdown",
   "id": "2020b8b2",
   "metadata": {
    "papermill": {
     "duration": 0.067216,
     "end_time": "2023-12-15T09:32:19.790065",
     "exception": false,
     "start_time": "2023-12-15T09:32:19.722849",
     "status": "completed"
    },
    "tags": []
   },
   "source": [
    "Now, Let' understand the distribution of the duration by ploting density plot"
   ]
  },
  {
   "cell_type": "code",
   "execution_count": 52,
   "id": "6f6b985d",
   "metadata": {
    "execution": {
     "iopub.execute_input": "2023-12-15T09:32:19.928670Z",
     "iopub.status.busy": "2023-12-15T09:32:19.928250Z",
     "iopub.status.idle": "2023-12-15T09:32:20.267923Z",
     "shell.execute_reply": "2023-12-15T09:32:20.266486Z"
    },
    "papermill": {
     "duration": 0.411438,
     "end_time": "2023-12-15T09:32:20.270858",
     "exception": false,
     "start_time": "2023-12-15T09:32:19.859420",
     "status": "completed"
    },
    "tags": []
   },
   "outputs": [
    {
     "data": {
      "image/png": "[encoded data removed]",
      "text/plain": [
       "<Figure size 640x480 with 1 Axes>"
      ]
     },
     "metadata": {},
     "output_type": "display_data"
    }
   ],
   "source": [
    "#Plotting Histogram to check probability density function of extra\n",
    "plt.hist(train_data['extra'], density = True)\n",
    "plt.title('Probability Density Function')\n",
    "plt.xlabel('Extra')\n",
    "plt.ylabel('Probability')\n",
    "\n",
    "\n",
    "#Display histogram\n",
    "plt.show()"
   ]
  },
  {
   "cell_type": "markdown",
   "id": "d8cc4a0e",
   "metadata": {
    "papermill": {
     "duration": 0.068159,
     "end_time": "2023-12-15T09:32:20.405870",
     "exception": false,
     "start_time": "2023-12-15T09:32:20.337711",
     "status": "completed"
    },
    "tags": []
   },
   "source": [
    "Now Let's looks for potential outliers for `extra`"
   ]
  },
  {
   "cell_type": "code",
   "execution_count": 53,
   "id": "2890c7af",
   "metadata": {
    "execution": {
     "iopub.execute_input": "2023-12-15T09:32:20.543796Z",
     "iopub.status.busy": "2023-12-15T09:32:20.543319Z",
     "iopub.status.idle": "2023-12-15T09:32:20.782437Z",
     "shell.execute_reply": "2023-12-15T09:32:20.781082Z"
    },
    "papermill": {
     "duration": 0.31044,
     "end_time": "2023-12-15T09:32:20.785595",
     "exception": false,
     "start_time": "2023-12-15T09:32:20.475155",
     "status": "completed"
    },
    "tags": []
   },
   "outputs": [
    {
     "data": {
      "image/png": "[encoded data removed]",
      "text/plain": [
       "<Figure size 640x480 with 1 Axes>"
      ]
     },
     "metadata": {},
     "output_type": "display_data"
    }
   ],
   "source": [
    "#Plotting box plot\n",
    "plt.boxplot(train_data['extra'])\n",
    "\n",
    "#Display Box Plot\n",
    "plt.show()"
   ]
  },
  {
   "cell_type": "markdown",
   "id": "e38a80ca",
   "metadata": {
    "papermill": {
     "duration": 0.066319,
     "end_time": "2023-12-15T09:32:20.920726",
     "exception": false,
     "start_time": "2023-12-15T09:32:20.854407",
     "status": "completed"
    },
    "tags": []
   },
   "source": [
    "We see that we have many outliers for this column (extra)"
   ]
  },
  {
   "cell_type": "markdown",
   "id": "91994535",
   "metadata": {
    "papermill": {
     "duration": 0.066359,
     "end_time": "2023-12-15T09:32:21.053823",
     "exception": false,
     "start_time": "2023-12-15T09:32:20.987464",
     "status": "completed"
    },
    "tags": []
   },
   "source": [
    "Now Let's analyze **`tip_amount`** column"
   ]
  },
  {
   "cell_type": "code",
   "execution_count": 54,
   "id": "4e7dea89",
   "metadata": {
    "execution": {
     "iopub.execute_input": "2023-12-15T09:32:21.189525Z",
     "iopub.status.busy": "2023-12-15T09:32:21.189123Z",
     "iopub.status.idle": "2023-12-15T09:32:21.207153Z",
     "shell.execute_reply": "2023-12-15T09:32:21.205364Z"
    },
    "papermill": {
     "duration": 0.089266,
     "end_time": "2023-12-15T09:32:21.209723",
     "exception": false,
     "start_time": "2023-12-15T09:32:21.120457",
     "status": "completed"
    },
    "tags": []
   },
   "outputs": [
    {
     "name": "stdout",
     "output_type": "stream",
     "text": [
      "Column: tip_amount\n",
      "Datatype of columns: float64\n",
      "Total number of unique values: 175000\n"
     ]
    }
   ],
   "source": [
    "#Now let's look at tip_amount column and understand it's data\n",
    "print('Column: tip_amount')\n",
    "print(f'Datatype of columns: {train_data[\"tip_amount\"].dtype}')\n",
    "print(f'Total number of unique values: {len(train_data[\"tip_amount\"].unique())}')"
   ]
  },
  {
   "cell_type": "markdown",
   "id": "784adaf3",
   "metadata": {
    "papermill": {
     "duration": 0.06657,
     "end_time": "2023-12-15T09:32:21.344344",
     "exception": false,
     "start_time": "2023-12-15T09:32:21.277774",
     "status": "completed"
    },
    "tags": []
   },
   "source": [
    "Let's look for any missing values in this column"
   ]
  },
  {
   "cell_type": "code",
   "execution_count": 55,
   "id": "1c319713",
   "metadata": {
    "execution": {
     "iopub.execute_input": "2023-12-15T09:32:21.480750Z",
     "iopub.status.busy": "2023-12-15T09:32:21.480215Z",
     "iopub.status.idle": "2023-12-15T09:32:21.490063Z",
     "shell.execute_reply": "2023-12-15T09:32:21.488762Z"
    },
    "papermill": {
     "duration": 0.08175,
     "end_time": "2023-12-15T09:32:21.492782",
     "exception": false,
     "start_time": "2023-12-15T09:32:21.411032",
     "status": "completed"
    },
    "tags": []
   },
   "outputs": [
    {
     "data": {
      "text/plain": [
       "0"
      ]
     },
     "execution_count": 55,
     "metadata": {},
     "output_type": "execute_result"
    }
   ],
   "source": [
    "#Check for null values\n",
    "train_data['tip_amount'].isnull().sum()"
   ]
  },
  {
   "cell_type": "markdown",
   "id": "6037688c",
   "metadata": {
    "papermill": {
     "duration": 0.068327,
     "end_time": "2023-12-15T09:32:21.630258",
     "exception": false,
     "start_time": "2023-12-15T09:32:21.561931",
     "status": "completed"
    },
    "tags": []
   },
   "source": [
    "There are `zero` null values in this column"
   ]
  },
  {
   "cell_type": "markdown",
   "id": "4177fb9f",
   "metadata": {
    "papermill": {
     "duration": 0.068961,
     "end_time": "2023-12-15T09:32:21.767120",
     "exception": false,
     "start_time": "2023-12-15T09:32:21.698159",
     "status": "completed"
    },
    "tags": []
   },
   "source": [
    "In order to understand tip amount, let's plot frequency plot of `tip_amount`."
   ]
  },
  {
   "cell_type": "code",
   "execution_count": 56,
   "id": "ed65646c",
   "metadata": {
    "execution": {
     "iopub.execute_input": "2023-12-15T09:32:21.904218Z",
     "iopub.status.busy": "2023-12-15T09:32:21.903696Z",
     "iopub.status.idle": "2023-12-15T09:32:22.280855Z",
     "shell.execute_reply": "2023-12-15T09:32:22.279852Z"
    },
    "papermill": {
     "duration": 0.449235,
     "end_time": "2023-12-15T09:32:22.283991",
     "exception": false,
     "start_time": "2023-12-15T09:32:21.834756",
     "status": "completed"
    },
    "tags": []
   },
   "outputs": [
    {
     "data": {
      "image/png": "[encoded data removed]",
      "text/plain": [
       "<Figure size 640x480 with 1 Axes>"
      ]
     },
     "metadata": {},
     "output_type": "display_data"
    }
   ],
   "source": [
    "#Plotting histogram to check highest tip amount\n",
    "plt.hist(train_data['tip_amount'], range(0, 50))\n",
    "plt.title('Frequency Plot')\n",
    "plt.xlabel('Tip Amount')\n",
    "plt.ylabel('Frequency')\n",
    "\n",
    "#Display Histogram\n",
    "plt.show()"
   ]
  },
  {
   "cell_type": "markdown",
   "id": "6722183b",
   "metadata": {
    "papermill": {
     "duration": 0.068109,
     "end_time": "2023-12-15T09:32:22.422650",
     "exception": false,
     "start_time": "2023-12-15T09:32:22.354541",
     "status": "completed"
    },
    "tags": []
   },
   "source": [
    " Let's look at presence of any outliers in the `tip_amount`"
   ]
  },
  {
   "cell_type": "code",
   "execution_count": 57,
   "id": "e41a0822",
   "metadata": {
    "execution": {
     "iopub.execute_input": "2023-12-15T09:32:22.565530Z",
     "iopub.status.busy": "2023-12-15T09:32:22.564489Z",
     "iopub.status.idle": "2023-12-15T09:32:23.054132Z",
     "shell.execute_reply": "2023-12-15T09:32:23.052601Z"
    },
    "papermill": {
     "duration": 0.564483,
     "end_time": "2023-12-15T09:32:23.056754",
     "exception": false,
     "start_time": "2023-12-15T09:32:22.492271",
     "status": "completed"
    },
    "tags": []
   },
   "outputs": [
    {
     "data": {
      "image/png": "[encoded data removed]",
      "text/plain": [
       "<Figure size 640x480 with 1 Axes>"
      ]
     },
     "metadata": {},
     "output_type": "display_data"
    }
   ],
   "source": [
    "#Plotting Box plot\n",
    "plt.boxplot(train_data['tip_amount'])\n",
    "\n",
    "#Display box plot\n",
    "plt.show()"
   ]
  },
  {
   "cell_type": "markdown",
   "id": "90c5b808",
   "metadata": {
    "papermill": {
     "duration": 0.06897,
     "end_time": "2023-12-15T09:32:23.195379",
     "exception": false,
     "start_time": "2023-12-15T09:32:23.126409",
     "status": "completed"
    },
    "tags": []
   },
   "source": [
    "We see that we have many outliers for this column (tip_amount)"
   ]
  },
  {
   "cell_type": "markdown",
   "id": "ae7f5949",
   "metadata": {
    "papermill": {
     "duration": 0.068162,
     "end_time": "2023-12-15T09:32:23.332675",
     "exception": false,
     "start_time": "2023-12-15T09:32:23.264513",
     "status": "completed"
    },
    "tags": []
   },
   "source": [
    "Now, Let's analyze **`tolls_amount`** column"
   ]
  },
  {
   "cell_type": "code",
   "execution_count": 58,
   "id": "b2800080",
   "metadata": {
    "execution": {
     "iopub.execute_input": "2023-12-15T09:32:23.480225Z",
     "iopub.status.busy": "2023-12-15T09:32:23.479760Z",
     "iopub.status.idle": "2023-12-15T09:32:23.487947Z",
     "shell.execute_reply": "2023-12-15T09:32:23.486612Z"
    },
    "papermill": {
     "duration": 0.086161,
     "end_time": "2023-12-15T09:32:23.490373",
     "exception": false,
     "start_time": "2023-12-15T09:32:23.404212",
     "status": "completed"
    },
    "tags": []
   },
   "outputs": [
    {
     "name": "stdout",
     "output_type": "stream",
     "text": [
      "Column: tolls_amount\n",
      "Datatype of columns: float64\n",
      "Total number of unique values: 214\n"
     ]
    }
   ],
   "source": [
    "#Now let's look at tolls_amount column and understand it's data\n",
    "print('Column: tolls_amount')\n",
    "print(f'Datatype of columns: {train_data[\"tolls_amount\"].dtype}')\n",
    "print(f'Total number of unique values: {len(train_data[\"tolls_amount\"].unique())}')"
   ]
  },
  {
   "cell_type": "markdown",
   "id": "ff15c44f",
   "metadata": {
    "papermill": {
     "duration": 0.070568,
     "end_time": "2023-12-15T09:32:23.629921",
     "exception": false,
     "start_time": "2023-12-15T09:32:23.559353",
     "status": "completed"
    },
    "tags": []
   },
   "source": [
    "Let's look for any missing values in this column"
   ]
  },
  {
   "cell_type": "code",
   "execution_count": 59,
   "id": "e2e9efb4",
   "metadata": {
    "execution": {
     "iopub.execute_input": "2023-12-15T09:32:23.777088Z",
     "iopub.status.busy": "2023-12-15T09:32:23.775776Z",
     "iopub.status.idle": "2023-12-15T09:32:23.784621Z",
     "shell.execute_reply": "2023-12-15T09:32:23.783556Z"
    },
    "papermill": {
     "duration": 0.083502,
     "end_time": "2023-12-15T09:32:23.786974",
     "exception": false,
     "start_time": "2023-12-15T09:32:23.703472",
     "status": "completed"
    },
    "tags": []
   },
   "outputs": [
    {
     "data": {
      "text/plain": [
       "0"
      ]
     },
     "execution_count": 59,
     "metadata": {},
     "output_type": "execute_result"
    }
   ],
   "source": [
    "#Check for null values\n",
    "train_data['tolls_amount'].isnull().sum()"
   ]
  },
  {
   "cell_type": "markdown",
   "id": "cdb600ab",
   "metadata": {
    "papermill": {
     "duration": 0.069201,
     "end_time": "2023-12-15T09:32:23.927150",
     "exception": false,
     "start_time": "2023-12-15T09:32:23.857949",
     "status": "completed"
    },
    "tags": []
   },
   "source": [
    "There are `zero` missing values for above both tables"
   ]
  },
  {
   "cell_type": "markdown",
   "id": "7bb97e64",
   "metadata": {
    "papermill": {
     "duration": 0.069379,
     "end_time": "2023-12-15T09:32:24.066505",
     "exception": false,
     "start_time": "2023-12-15T09:32:23.997126",
     "status": "completed"
    },
    "tags": []
   },
   "source": [
    " In order to understand tip amount, let's plot frequency plot of `tolls_amount`."
   ]
  },
  {
   "cell_type": "code",
   "execution_count": 60,
   "id": "491a4241",
   "metadata": {
    "execution": {
     "iopub.execute_input": "2023-12-15T09:32:24.211389Z",
     "iopub.status.busy": "2023-12-15T09:32:24.210296Z",
     "iopub.status.idle": "2023-12-15T09:32:24.551752Z",
     "shell.execute_reply": "2023-12-15T09:32:24.550503Z"
    },
    "papermill": {
     "duration": 0.415964,
     "end_time": "2023-12-15T09:32:24.554114",
     "exception": false,
     "start_time": "2023-12-15T09:32:24.138150",
     "status": "completed"
    },
    "tags": []
   },
   "outputs": [
    {
     "data": {
      "image/png": "[encoded data removed]",
      "text/plain": [
       "<Figure size 640x480 with 1 Axes>"
      ]
     },
     "metadata": {},
     "output_type": "display_data"
    }
   ],
   "source": [
    "#Plotting histogram to check highest tip amount\n",
    "plt.hist(train_data['tolls_amount'], range=(-20,40))\n",
    "plt.title('Frequency Plot')\n",
    "plt.xlabel('Tolls Amount')\n",
    "plt.ylabel('Frequency')\n",
    "\n",
    "#Display histogram\n",
    "plt.show()"
   ]
  },
  {
   "cell_type": "markdown",
   "id": "20be0d82",
   "metadata": {
    "papermill": {
     "duration": 0.070383,
     "end_time": "2023-12-15T09:32:24.695378",
     "exception": false,
     "start_time": "2023-12-15T09:32:24.624995",
     "status": "completed"
    },
    "tags": []
   },
   "source": [
    "Let's look at presence of any outliers in the `tolls_amount`"
   ]
  },
  {
   "cell_type": "code",
   "execution_count": 61,
   "id": "f22a1c5d",
   "metadata": {
    "execution": {
     "iopub.execute_input": "2023-12-15T09:32:24.842447Z",
     "iopub.status.busy": "2023-12-15T09:32:24.842018Z",
     "iopub.status.idle": "2023-12-15T09:32:25.081843Z",
     "shell.execute_reply": "2023-12-15T09:32:25.080757Z"
    },
    "papermill": {
     "duration": 0.318163,
     "end_time": "2023-12-15T09:32:25.084596",
     "exception": false,
     "start_time": "2023-12-15T09:32:24.766433",
     "status": "completed"
    },
    "tags": []
   },
   "outputs": [
    {
     "data": {
      "image/png": "[encoded data removed]",
      "text/plain": [
       "<Figure size 640x480 with 1 Axes>"
      ]
     },
     "metadata": {},
     "output_type": "display_data"
    }
   ],
   "source": [
    "#Plotting Box plot\n",
    "plt.boxplot(train_data['tolls_amount'])\n",
    "\n",
    "#Display box plot\n",
    "plt.show()"
   ]
  },
  {
   "cell_type": "markdown",
   "id": "2e4b6e47",
   "metadata": {
    "papermill": {
     "duration": 0.06929,
     "end_time": "2023-12-15T09:32:25.224795",
     "exception": false,
     "start_time": "2023-12-15T09:32:25.155505",
     "status": "completed"
    },
    "tags": []
   },
   "source": [
    "We see that we have many outliers for this column (tolls_amount)"
   ]
  },
  {
   "cell_type": "code",
   "execution_count": 62,
   "id": "bfb9b448",
   "metadata": {
    "execution": {
     "iopub.execute_input": "2023-12-15T09:32:25.364961Z",
     "iopub.status.busy": "2023-12-15T09:32:25.364033Z",
     "iopub.status.idle": "2023-12-15T09:32:25.377552Z",
     "shell.execute_reply": "2023-12-15T09:32:25.376288Z"
    },
    "papermill": {
     "duration": 0.08686,
     "end_time": "2023-12-15T09:32:25.380416",
     "exception": false,
     "start_time": "2023-12-15T09:32:25.293556",
     "status": "completed"
    },
    "tags": []
   },
   "outputs": [
    {
     "name": "stdout",
     "output_type": "stream",
     "text": [
      "Column: improvement_surcharge\n",
      "Datatype of columns: float64\n",
      "Total number of unique values: 4\n",
      "Unique Values are: [ 1.   0.3 -1.   0. ]\n"
     ]
    }
   ],
   "source": [
    "#Now let's look at improvement_surcharge column and understand it's data\n",
    "print('Column: improvement_surcharge')\n",
    "print(f'Datatype of columns: {train_data[\"improvement_surcharge\"].dtype}')\n",
    "print(f'Total number of unique values: {len(train_data[\"improvement_surcharge\"].unique())}')\n",
    "print(f'Unique Values are: {train_data[\"improvement_surcharge\"].unique()}')"
   ]
  },
  {
   "cell_type": "markdown",
   "id": "bcebae9a",
   "metadata": {
    "papermill": {
     "duration": 0.070799,
     "end_time": "2023-12-15T09:32:25.522133",
     "exception": false,
     "start_time": "2023-12-15T09:32:25.451334",
     "status": "completed"
    },
    "tags": []
   },
   "source": [
    "Let's look for any missing values in this column"
   ]
  },
  {
   "cell_type": "code",
   "execution_count": 63,
   "id": "e1882542",
   "metadata": {
    "execution": {
     "iopub.execute_input": "2023-12-15T09:32:25.664864Z",
     "iopub.status.busy": "2023-12-15T09:32:25.663925Z",
     "iopub.status.idle": "2023-12-15T09:32:25.673401Z",
     "shell.execute_reply": "2023-12-15T09:32:25.672185Z"
    },
    "papermill": {
     "duration": 0.085018,
     "end_time": "2023-12-15T09:32:25.676062",
     "exception": false,
     "start_time": "2023-12-15T09:32:25.591044",
     "status": "completed"
    },
    "tags": []
   },
   "outputs": [
    {
     "data": {
      "text/plain": [
       "0"
      ]
     },
     "execution_count": 63,
     "metadata": {},
     "output_type": "execute_result"
    }
   ],
   "source": [
    "train_data['improvement_surcharge'].isnull().sum()"
   ]
  },
  {
   "cell_type": "markdown",
   "id": "43225bb9",
   "metadata": {
    "papermill": {
     "duration": 0.070295,
     "end_time": "2023-12-15T09:32:25.818192",
     "exception": false,
     "start_time": "2023-12-15T09:32:25.747897",
     "status": "completed"
    },
    "tags": []
   },
   "source": [
    "Let's look at value counts for each unique values"
   ]
  },
  {
   "cell_type": "code",
   "execution_count": 64,
   "id": "bf9062d1",
   "metadata": {
    "execution": {
     "iopub.execute_input": "2023-12-15T09:32:25.960125Z",
     "iopub.status.busy": "2023-12-15T09:32:25.959231Z",
     "iopub.status.idle": "2023-12-15T09:32:25.973091Z",
     "shell.execute_reply": "2023-12-15T09:32:25.971675Z"
    },
    "papermill": {
     "duration": 0.087315,
     "end_time": "2023-12-15T09:32:25.975968",
     "exception": false,
     "start_time": "2023-12-15T09:32:25.888653",
     "status": "completed"
    },
    "tags": []
   },
   "outputs": [
    {
     "data": {
      "text/plain": [
       "improvement_surcharge\n",
       " 1.0    173145\n",
       "-1.0      1725\n",
       " 0.3        85\n",
       " 0.0        45\n",
       "Name: count, dtype: int64"
      ]
     },
     "execution_count": 64,
     "metadata": {},
     "output_type": "execute_result"
    }
   ],
   "source": [
    "#Check for total value count for each improvement surcharge\n",
    "value_count_improvement_surcharge = train_data['improvement_surcharge'].value_counts()\n",
    "value_count_improvement_surcharge"
   ]
  },
  {
   "cell_type": "markdown",
   "id": "ff9f60f8",
   "metadata": {
    "papermill": {
     "duration": 0.069085,
     "end_time": "2023-12-15T09:32:26.114605",
     "exception": false,
     "start_time": "2023-12-15T09:32:26.045520",
     "status": "completed"
    },
    "tags": []
   },
   "source": [
    "Now, Let's explore another column **`congestion_surcharge`**"
   ]
  },
  {
   "cell_type": "code",
   "execution_count": 65,
   "id": "07326774",
   "metadata": {
    "execution": {
     "iopub.execute_input": "2023-12-15T09:32:26.255541Z",
     "iopub.status.busy": "2023-12-15T09:32:26.255117Z",
     "iopub.status.idle": "2023-12-15T09:32:26.267518Z",
     "shell.execute_reply": "2023-12-15T09:32:26.266076Z"
    },
    "papermill": {
     "duration": 0.085526,
     "end_time": "2023-12-15T09:32:26.269755",
     "exception": false,
     "start_time": "2023-12-15T09:32:26.184229",
     "status": "completed"
    },
    "tags": []
   },
   "outputs": [
    {
     "name": "stdout",
     "output_type": "stream",
     "text": [
      "Column : congestion_surcharge\n",
      "Datatype of columns : float64\n",
      "Total number of unique values : 4\n",
      "Unique Values are : [ 2.5  0.   nan -2.5]\n"
     ]
    }
   ],
   "source": [
    "#Now let's look at congestion_surcharge column and understand it's data\n",
    "print('Column : congestion_surcharge')\n",
    "print(f'Datatype of columns : {train_data[\"congestion_surcharge\"].dtype}')\n",
    "print(f'Total number of unique values : {len(train_data[\"congestion_surcharge\"].unique())}')\n",
    "print(f'Unique Values are : {train_data[\"congestion_surcharge\"].unique()}')"
   ]
  },
  {
   "cell_type": "markdown",
   "id": "5597a9ed",
   "metadata": {
    "papermill": {
     "duration": 0.069759,
     "end_time": "2023-12-15T09:32:26.409687",
     "exception": false,
     "start_time": "2023-12-15T09:32:26.339928",
     "status": "completed"
    },
    "tags": []
   },
   "source": [
    "From the unique values, we see that there are a few `nan` values. Let's see how many values are missing"
   ]
  },
  {
   "cell_type": "code",
   "execution_count": 66,
   "id": "0345ee6b",
   "metadata": {
    "execution": {
     "iopub.execute_input": "2023-12-15T09:32:26.551362Z",
     "iopub.status.busy": "2023-12-15T09:32:26.550534Z",
     "iopub.status.idle": "2023-12-15T09:32:26.559015Z",
     "shell.execute_reply": "2023-12-15T09:32:26.557836Z"
    },
    "papermill": {
     "duration": 0.082405,
     "end_time": "2023-12-15T09:32:26.561570",
     "exception": false,
     "start_time": "2023-12-15T09:32:26.479165",
     "status": "completed"
    },
    "tags": []
   },
   "outputs": [
    {
     "data": {
      "text/plain": [
       "6077"
      ]
     },
     "execution_count": 66,
     "metadata": {},
     "output_type": "execute_result"
    }
   ],
   "source": [
    "#check for null values\n",
    "train_data['congestion_surcharge'].isnull().sum()"
   ]
  },
  {
   "cell_type": "markdown",
   "id": "e9f0e238",
   "metadata": {
    "papermill": {
     "duration": 0.069459,
     "end_time": "2023-12-15T09:32:26.701084",
     "exception": false,
     "start_time": "2023-12-15T09:32:26.631625",
     "status": "completed"
    },
    "tags": []
   },
   "source": [
    "There are `6077` null values for this column"
   ]
  },
  {
   "cell_type": "markdown",
   "id": "efaedd88",
   "metadata": {
    "papermill": {
     "duration": 0.068987,
     "end_time": "2023-12-15T09:32:26.841241",
     "exception": false,
     "start_time": "2023-12-15T09:32:26.772254",
     "status": "completed"
    },
    "tags": []
   },
   "source": [
    "Let's look at value counts for each unique values"
   ]
  },
  {
   "cell_type": "code",
   "execution_count": 67,
   "id": "03e29898",
   "metadata": {
    "execution": {
     "iopub.execute_input": "2023-12-15T09:32:26.982028Z",
     "iopub.status.busy": "2023-12-15T09:32:26.981154Z",
     "iopub.status.idle": "2023-12-15T09:32:26.994485Z",
     "shell.execute_reply": "2023-12-15T09:32:26.993326Z"
    },
    "papermill": {
     "duration": 0.086727,
     "end_time": "2023-12-15T09:32:26.996953",
     "exception": false,
     "start_time": "2023-12-15T09:32:26.910226",
     "status": "completed"
    },
    "tags": []
   },
   "outputs": [
    {
     "data": {
      "text/plain": [
       "congestion_surcharge\n",
       " 2.5    153212\n",
       " 0.0     14325\n",
       "-2.5      1386\n",
       "Name: count, dtype: int64"
      ]
     },
     "execution_count": 67,
     "metadata": {},
     "output_type": "execute_result"
    }
   ],
   "source": [
    "#Check for total value count for each congestionsurcharge\n",
    "value_count_congestion_surcharge = train_data['congestion_surcharge'].value_counts()\n",
    "value_count_congestion_surcharge"
   ]
  },
  {
   "cell_type": "markdown",
   "id": "672af7ef",
   "metadata": {
    "papermill": {
     "duration": 0.069601,
     "end_time": "2023-12-15T09:32:27.136651",
     "exception": false,
     "start_time": "2023-12-15T09:32:27.067050",
     "status": "completed"
    },
    "tags": []
   },
   "source": [
    "Now, Let's explore another column **`Airport_fee`**"
   ]
  },
  {
   "cell_type": "code",
   "execution_count": 68,
   "id": "5dc57b2f",
   "metadata": {
    "execution": {
     "iopub.execute_input": "2023-12-15T09:32:27.353932Z",
     "iopub.status.busy": "2023-12-15T09:32:27.352678Z",
     "iopub.status.idle": "2023-12-15T09:32:27.363777Z",
     "shell.execute_reply": "2023-12-15T09:32:27.362418Z"
    },
    "papermill": {
     "duration": 0.158475,
     "end_time": "2023-12-15T09:32:27.366282",
     "exception": false,
     "start_time": "2023-12-15T09:32:27.207807",
     "status": "completed"
    },
    "tags": []
   },
   "outputs": [
    {
     "name": "stdout",
     "output_type": "stream",
     "text": [
      "Column : Airport_fee\n",
      "Datatype of columns : float64\n",
      "Total number of unique values : 4\n",
      "Unique Values are : [ 0.    1.75   nan -1.75]\n"
     ]
    }
   ],
   "source": [
    "#Now let's look at Airport_fee and understand it's data\n",
    "print('Column : Airport_fee')\n",
    "print(f'Datatype of columns : {train_data[\"Airport_fee\"].dtype}')\n",
    "print(f'Total number of unique values : {len(train_data[\"Airport_fee\"].unique())}')\n",
    "print(f'Unique Values are : {train_data[\"Airport_fee\"].unique()}')"
   ]
  },
  {
   "cell_type": "markdown",
   "id": "cc4fe38b",
   "metadata": {
    "papermill": {
     "duration": 0.070745,
     "end_time": "2023-12-15T09:32:27.507447",
     "exception": false,
     "start_time": "2023-12-15T09:32:27.436702",
     "status": "completed"
    },
    "tags": []
   },
   "source": [
    "From the unique values, we see that there are a few `nan` values. Let's see how many values are missing"
   ]
  },
  {
   "cell_type": "code",
   "execution_count": 69,
   "id": "cefc10fc",
   "metadata": {
    "execution": {
     "iopub.execute_input": "2023-12-15T09:32:27.651992Z",
     "iopub.status.busy": "2023-12-15T09:32:27.651528Z",
     "iopub.status.idle": "2023-12-15T09:32:27.660221Z",
     "shell.execute_reply": "2023-12-15T09:32:27.658769Z"
    },
    "papermill": {
     "duration": 0.083565,
     "end_time": "2023-12-15T09:32:27.662820",
     "exception": false,
     "start_time": "2023-12-15T09:32:27.579255",
     "status": "completed"
    },
    "tags": []
   },
   "outputs": [
    {
     "data": {
      "text/plain": [
       "6077"
      ]
     },
     "execution_count": 69,
     "metadata": {},
     "output_type": "execute_result"
    }
   ],
   "source": [
    "#check for null values\n",
    "train_data['Airport_fee'].isnull().sum()"
   ]
  },
  {
   "cell_type": "markdown",
   "id": "9cd1d969",
   "metadata": {
    "papermill": {
     "duration": 0.07087,
     "end_time": "2023-12-15T09:32:27.805915",
     "exception": false,
     "start_time": "2023-12-15T09:32:27.735045",
     "status": "completed"
    },
    "tags": []
   },
   "source": [
    "There are `6077` null values for this column"
   ]
  },
  {
   "cell_type": "markdown",
   "id": "db35256e",
   "metadata": {
    "papermill": {
     "duration": 0.069358,
     "end_time": "2023-12-15T09:32:27.946198",
     "exception": false,
     "start_time": "2023-12-15T09:32:27.876840",
     "status": "completed"
    },
    "tags": []
   },
   "source": [
    "Let's look at value counts for each unique values"
   ]
  },
  {
   "cell_type": "code",
   "execution_count": 70,
   "id": "5351d9d8",
   "metadata": {
    "execution": {
     "iopub.execute_input": "2023-12-15T09:32:28.089597Z",
     "iopub.status.busy": "2023-12-15T09:32:28.088740Z",
     "iopub.status.idle": "2023-12-15T09:32:28.100178Z",
     "shell.execute_reply": "2023-12-15T09:32:28.099021Z"
    },
    "papermill": {
     "duration": 0.086323,
     "end_time": "2023-12-15T09:32:28.102685",
     "exception": false,
     "start_time": "2023-12-15T09:32:28.016362",
     "status": "completed"
    },
    "tags": []
   },
   "outputs": [
    {
     "data": {
      "text/plain": [
       "Airport_fee\n",
       " 0.00    153074\n",
       " 1.75     15590\n",
       "-1.75       259\n",
       "Name: count, dtype: int64"
      ]
     },
     "execution_count": 70,
     "metadata": {},
     "output_type": "execute_result"
    }
   ],
   "source": [
    "#Check for total value count for each Airport fee\n",
    "value_count_airport_fee = train_data['Airport_fee'].value_counts()\n",
    "value_count_airport_fee"
   ]
  },
  {
   "cell_type": "markdown",
   "id": "fc89dc7d",
   "metadata": {
    "papermill": {
     "duration": 0.069747,
     "end_time": "2023-12-15T09:32:28.242815",
     "exception": false,
     "start_time": "2023-12-15T09:32:28.173068",
     "status": "completed"
    },
    "tags": []
   },
   "source": [
    "As we have good understanding of data. Let's start with Data cleaning and Feature Extraction."
   ]
  },
  {
   "cell_type": "markdown",
   "id": "6aaa74c2",
   "metadata": {
    "papermill": {
     "duration": 0.069585,
     "end_time": "2023-12-15T09:32:28.382322",
     "exception": false,
     "start_time": "2023-12-15T09:32:28.312737",
     "status": "completed"
    },
    "tags": []
   },
   "source": [
    "## Data Preprocessing"
   ]
  },
  {
   "cell_type": "code",
   "execution_count": 71,
   "id": "226d8211",
   "metadata": {
    "execution": {
     "iopub.execute_input": "2023-12-15T09:32:28.526704Z",
     "iopub.status.busy": "2023-12-15T09:32:28.526246Z",
     "iopub.status.idle": "2023-12-15T09:32:29.462524Z",
     "shell.execute_reply": "2023-12-15T09:32:29.440696Z"
    },
    "papermill": {
     "duration": 1.012529,
     "end_time": "2023-12-15T09:32:29.465786",
     "exception": false,
     "start_time": "2023-12-15T09:32:28.453257",
     "status": "completed"
    },
    "tags": []
   },
   "outputs": [],
   "source": [
    "train_dataset=pd.read_csv('/kaggle/input/taxi-fare-guru-total-amount-prediction-challenge/train.csv')\n",
    "test_dataset=pd.read_csv('/kaggle/input/taxi-fare-guru-total-amount-prediction-challenge/test.csv')"
   ]
  },
  {
   "cell_type": "code",
   "execution_count": 72,
   "id": "1d263a90",
   "metadata": {
    "execution": {
     "iopub.execute_input": "2023-12-15T09:32:29.615123Z",
     "iopub.status.busy": "2023-12-15T09:32:29.614659Z",
     "iopub.status.idle": "2023-12-15T09:32:29.623282Z",
     "shell.execute_reply": "2023-12-15T09:32:29.622068Z"
    },
    "papermill": {
     "duration": 0.084909,
     "end_time": "2023-12-15T09:32:29.625680",
     "exception": false,
     "start_time": "2023-12-15T09:32:29.540771",
     "status": "completed"
    },
    "tags": []
   },
   "outputs": [],
   "source": [
    "def preprocess_data(dataset):\n",
    "    dataset['tpep_pickup_datetime'] = pd.to_datetime(dataset['tpep_pickup_datetime'])\n",
    "    dataset['tpep_dropoff_datetime'] = pd.to_datetime(dataset['tpep_dropoff_datetime'])\n",
    "    dataset['duration'] = (dataset['tpep_dropoff_datetime'] - dataset['tpep_pickup_datetime']).dt.total_seconds() / 60\n",
    "    dataset['pickup_hour'] = dataset['tpep_pickup_datetime'].dt.hour\n",
    "    label = ['low', 'moderate', 'high']\n",
    "    bins = [0, 8, 15, 24]\n",
    "    dataset['peak_bookings'] = pd.cut(dataset['pickup_hour'], bins, labels = label, include_lowest=True, right=False)  \n",
    "    \n",
    "    return dataset"
   ]
  },
  {
   "cell_type": "code",
   "execution_count": 73,
   "id": "2970a1e1",
   "metadata": {
    "execution": {
     "iopub.execute_input": "2023-12-15T09:32:29.771200Z",
     "iopub.status.busy": "2023-12-15T09:32:29.770740Z",
     "iopub.status.idle": "2023-12-15T09:32:30.020088Z",
     "shell.execute_reply": "2023-12-15T09:32:30.018919Z"
    },
    "papermill": {
     "duration": 0.32559,
     "end_time": "2023-12-15T09:32:30.023113",
     "exception": false,
     "start_time": "2023-12-15T09:32:29.697523",
     "status": "completed"
    },
    "tags": []
   },
   "outputs": [],
   "source": [
    "train_dataset_preprocessed = preprocess_data(train_dataset)\n",
    "test_processed_data = preprocess_data(test_dataset)"
   ]
  },
  {
   "cell_type": "markdown",
   "id": "d9716f46",
   "metadata": {
    "papermill": {
     "duration": 0.070231,
     "end_time": "2023-12-15T09:32:30.165364",
     "exception": false,
     "start_time": "2023-12-15T09:32:30.095133",
     "status": "completed"
    },
    "tags": []
   },
   "source": [
    "## Preprocessing Pipeline"
   ]
  },
  {
   "cell_type": "code",
   "execution_count": 74,
   "id": "e6ecee57",
   "metadata": {
    "execution": {
     "iopub.execute_input": "2023-12-15T09:32:30.309614Z",
     "iopub.status.busy": "2023-12-15T09:32:30.308207Z",
     "iopub.status.idle": "2023-12-15T09:32:31.280968Z",
     "shell.execute_reply": "2023-12-15T09:32:31.279673Z"
    },
    "papermill": {
     "duration": 1.04896,
     "end_time": "2023-12-15T09:32:31.284285",
     "exception": false,
     "start_time": "2023-12-15T09:32:30.235325",
     "status": "completed"
    },
    "tags": []
   },
   "outputs": [],
   "source": [
    "from sklearn.pipeline import Pipeline\n",
    "from sklearn.preprocessing import StandardScaler\n",
    "from sklearn.preprocessing import OneHotEncoder\n",
    "from sklearn.compose import ColumnTransformer\n",
    "from sklearn.impute import SimpleImputer\n",
    "from sklearn.tree import DecisionTreeRegressor\n",
    "from sklearn.ensemble import RandomForestRegressor\n",
    "from sklearn.linear_model  import LinearRegression\n",
    "from sklearn.model_selection import train_test_split\n",
    "from sklearn.metrics import r2_score\n",
    "from sklearn.model_selection import GridSearchCV, KFold\n",
    "from sklearn.linear_model import SGDRegressor\n",
    "from sklearn.preprocessing import PolynomialFeatures, MinMaxScaler\n",
    "from xgboost import XGBRegressor"
   ]
  },
  {
   "cell_type": "code",
   "execution_count": 75,
   "id": "23f9e376",
   "metadata": {
    "execution": {
     "iopub.execute_input": "2023-12-15T09:32:31.428495Z",
     "iopub.status.busy": "2023-12-15T09:32:31.427795Z",
     "iopub.status.idle": "2023-12-15T09:32:31.433686Z",
     "shell.execute_reply": "2023-12-15T09:32:31.432780Z"
    },
    "papermill": {
     "duration": 0.081002,
     "end_time": "2023-12-15T09:32:31.436047",
     "exception": false,
     "start_time": "2023-12-15T09:32:31.355045",
     "status": "completed"
    },
    "tags": []
   },
   "outputs": [],
   "source": [
    "features = ['passenger_count', 'trip_distance', 'RatecodeID', 'payment_type', 'extra', 'tip_amount',\n",
    "       'tolls_amount', 'improvement_surcharge',\n",
    "       'congestion_surcharge', 'Airport_fee', 'duration',\n",
    "       'peak_bookings']\n",
    "\n",
    "label = 'total_amount'"
   ]
  },
  {
   "cell_type": "code",
   "execution_count": 76,
   "id": "abfb85de",
   "metadata": {
    "execution": {
     "iopub.execute_input": "2023-12-15T09:32:31.582555Z",
     "iopub.status.busy": "2023-12-15T09:32:31.581638Z",
     "iopub.status.idle": "2023-12-15T09:32:31.595422Z",
     "shell.execute_reply": "2023-12-15T09:32:31.594214Z"
    },
    "papermill": {
     "duration": 0.091154,
     "end_time": "2023-12-15T09:32:31.598296",
     "exception": false,
     "start_time": "2023-12-15T09:32:31.507142",
     "status": "completed"
    },
    "tags": []
   },
   "outputs": [],
   "source": [
    "train_feature_dataset = train_dataset_preprocessed[features]\n",
    "train_labels = train_dataset_preprocessed[label]"
   ]
  },
  {
   "cell_type": "code",
   "execution_count": 77,
   "id": "db3847a0",
   "metadata": {
    "execution": {
     "iopub.execute_input": "2023-12-15T09:32:31.747244Z",
     "iopub.status.busy": "2023-12-15T09:32:31.745606Z",
     "iopub.status.idle": "2023-12-15T09:32:31.754658Z",
     "shell.execute_reply": "2023-12-15T09:32:31.753678Z"
    },
    "papermill": {
     "duration": 0.084271,
     "end_time": "2023-12-15T09:32:31.757358",
     "exception": false,
     "start_time": "2023-12-15T09:32:31.673087",
     "status": "completed"
    },
    "tags": []
   },
   "outputs": [
    {
     "data": {
      "text/plain": [
       "((175000, 12), (175000,))"
      ]
     },
     "execution_count": 77,
     "metadata": {},
     "output_type": "execute_result"
    }
   ],
   "source": [
    "train_feature_dataset.shape , train_labels.shape"
   ]
  },
  {
   "cell_type": "code",
   "execution_count": 78,
   "id": "8ad62fb6",
   "metadata": {
    "execution": {
     "iopub.execute_input": "2023-12-15T09:32:31.904003Z",
     "iopub.status.busy": "2023-12-15T09:32:31.903122Z",
     "iopub.status.idle": "2023-12-15T09:32:31.930042Z",
     "shell.execute_reply": "2023-12-15T09:32:31.928541Z"
    },
    "papermill": {
     "duration": 0.103873,
     "end_time": "2023-12-15T09:32:31.932741",
     "exception": false,
     "start_time": "2023-12-15T09:32:31.828868",
     "status": "completed"
    },
    "tags": []
   },
   "outputs": [
    {
     "data": {
      "text/html": [
       "<div>\n",
       "<style scoped>\n",
       "    .dataframe tbody tr th:only-of-type {\n",
       "        vertical-align: middle;\n",
       "    }\n",
       "\n",
       "    .dataframe tbody tr th {\n",
       "        vertical-align: top;\n",
       "    }\n",
       "\n",
       "    .dataframe thead th {\n",
       "        text-align: right;\n",
       "    }\n",
       "</style>\n",
       "<table border=\"1\" class=\"dataframe\">\n",
       "  <thead>\n",
       "    <tr style=\"text-align: right;\">\n",
       "      <th></th>\n",
       "      <th>passenger_count</th>\n",
       "      <th>trip_distance</th>\n",
       "      <th>RatecodeID</th>\n",
       "      <th>payment_type</th>\n",
       "      <th>extra</th>\n",
       "      <th>tip_amount</th>\n",
       "      <th>tolls_amount</th>\n",
       "      <th>improvement_surcharge</th>\n",
       "      <th>congestion_surcharge</th>\n",
       "      <th>Airport_fee</th>\n",
       "      <th>duration</th>\n",
       "      <th>peak_bookings</th>\n",
       "    </tr>\n",
       "  </thead>\n",
       "  <tbody>\n",
       "    <tr>\n",
       "      <th>0</th>\n",
       "      <td>1.0</td>\n",
       "      <td>2.14</td>\n",
       "      <td>1.0</td>\n",
       "      <td>Credit Card</td>\n",
       "      <td>2.5</td>\n",
       "      <td>7.165589</td>\n",
       "      <td>0.0</td>\n",
       "      <td>1.0</td>\n",
       "      <td>2.5</td>\n",
       "      <td>0.0</td>\n",
       "      <td>-45.600000</td>\n",
       "      <td>high</td>\n",
       "    </tr>\n",
       "    <tr>\n",
       "      <th>1</th>\n",
       "      <td>1.0</td>\n",
       "      <td>2.70</td>\n",
       "      <td>1.0</td>\n",
       "      <td>Credit Card</td>\n",
       "      <td>3.5</td>\n",
       "      <td>6.067401</td>\n",
       "      <td>0.0</td>\n",
       "      <td>1.0</td>\n",
       "      <td>2.5</td>\n",
       "      <td>0.0</td>\n",
       "      <td>-63.433333</td>\n",
       "      <td>high</td>\n",
       "    </tr>\n",
       "    <tr>\n",
       "      <th>2</th>\n",
       "      <td>1.0</td>\n",
       "      <td>1.15</td>\n",
       "      <td>1.0</td>\n",
       "      <td>Credit Card</td>\n",
       "      <td>0.0</td>\n",
       "      <td>4.111547</td>\n",
       "      <td>0.0</td>\n",
       "      <td>1.0</td>\n",
       "      <td>2.5</td>\n",
       "      <td>0.0</td>\n",
       "      <td>53.650000</td>\n",
       "      <td>moderate</td>\n",
       "    </tr>\n",
       "    <tr>\n",
       "      <th>3</th>\n",
       "      <td>1.0</td>\n",
       "      <td>0.40</td>\n",
       "      <td>1.0</td>\n",
       "      <td>Credit Card</td>\n",
       "      <td>2.5</td>\n",
       "      <td>6.411079</td>\n",
       "      <td>0.0</td>\n",
       "      <td>1.0</td>\n",
       "      <td>2.5</td>\n",
       "      <td>0.0</td>\n",
       "      <td>56.866667</td>\n",
       "      <td>moderate</td>\n",
       "    </tr>\n",
       "    <tr>\n",
       "      <th>4</th>\n",
       "      <td>3.0</td>\n",
       "      <td>1.10</td>\n",
       "      <td>1.0</td>\n",
       "      <td>Credit Card</td>\n",
       "      <td>1.0</td>\n",
       "      <td>4.769377</td>\n",
       "      <td>0.0</td>\n",
       "      <td>1.0</td>\n",
       "      <td>2.5</td>\n",
       "      <td>0.0</td>\n",
       "      <td>18.833333</td>\n",
       "      <td>high</td>\n",
       "    </tr>\n",
       "  </tbody>\n",
       "</table>\n",
       "</div>"
      ],
      "text/plain": [
       "   passenger_count  trip_distance  RatecodeID payment_type  extra  tip_amount  \\\n",
       "0              1.0           2.14         1.0  Credit Card    2.5    7.165589   \n",
       "1              1.0           2.70         1.0  Credit Card    3.5    6.067401   \n",
       "2              1.0           1.15         1.0  Credit Card    0.0    4.111547   \n",
       "3              1.0           0.40         1.0  Credit Card    2.5    6.411079   \n",
       "4              3.0           1.10         1.0  Credit Card    1.0    4.769377   \n",
       "\n",
       "   tolls_amount  improvement_surcharge  congestion_surcharge  Airport_fee  \\\n",
       "0           0.0                    1.0                   2.5          0.0   \n",
       "1           0.0                    1.0                   2.5          0.0   \n",
       "2           0.0                    1.0                   2.5          0.0   \n",
       "3           0.0                    1.0                   2.5          0.0   \n",
       "4           0.0                    1.0                   2.5          0.0   \n",
       "\n",
       "    duration peak_bookings  \n",
       "0 -45.600000          high  \n",
       "1 -63.433333          high  \n",
       "2  53.650000      moderate  \n",
       "3  56.866667      moderate  \n",
       "4  18.833333          high  "
      ]
     },
     "execution_count": 78,
     "metadata": {},
     "output_type": "execute_result"
    }
   ],
   "source": [
    "train_feature_dataset.head()"
   ]
  },
  {
   "cell_type": "code",
   "execution_count": 79,
   "id": "af9c1bda",
   "metadata": {
    "execution": {
     "iopub.execute_input": "2023-12-15T09:32:32.080918Z",
     "iopub.status.busy": "2023-12-15T09:32:32.079302Z",
     "iopub.status.idle": "2023-12-15T09:32:32.086516Z",
     "shell.execute_reply": "2023-12-15T09:32:32.085486Z"
    },
    "papermill": {
     "duration": 0.084114,
     "end_time": "2023-12-15T09:32:32.089181",
     "exception": false,
     "start_time": "2023-12-15T09:32:32.005067",
     "status": "completed"
    },
    "tags": []
   },
   "outputs": [],
   "source": [
    "categorical_features = ['payment_type','peak_bookings']\n",
    "numerical_features = ['passenger_count','trip_distance','RatecodeID','extra',\n",
    "                      'tip_amount','tolls_amount','improvement_surcharge','congestion_surcharge',\n",
    "                     'Airport_fee','duration']"
   ]
  },
  {
   "cell_type": "code",
   "execution_count": 80,
   "id": "4a41dca5",
   "metadata": {
    "execution": {
     "iopub.execute_input": "2023-12-15T09:32:32.234654Z",
     "iopub.status.busy": "2023-12-15T09:32:32.233753Z",
     "iopub.status.idle": "2023-12-15T09:32:32.276774Z",
     "shell.execute_reply": "2023-12-15T09:32:32.275756Z"
    },
    "papermill": {
     "duration": 0.118927,
     "end_time": "2023-12-15T09:32:32.279261",
     "exception": false,
     "start_time": "2023-12-15T09:32:32.160334",
     "status": "completed"
    },
    "tags": []
   },
   "outputs": [
    {
     "data": {
      "text/html": [
       "<style>#sk-container-id-1 {color: black;background-color: white;}#sk-container-id-1 pre{padding: 0;}#sk-container-id-1 div.sk-toggleable {background-color: white;}#sk-container-id-1 label.sk-toggleable__label {cursor: pointer;display: block;width: 100%;margin-bottom: 0;padding: 0.3em;box-sizing: border-box;text-align: center;}#sk-container-id-1 label.sk-toggleable__label-arrow:before {content: \"▸\";float: left;margin-right: 0.25em;color: #696969;}#sk-container-id-1 label.sk-toggleable__label-arrow:hover:before {color: black;}#sk-container-id-1 div.sk-estimator:hover label.sk-toggleable__label-arrow:before {color: black;}#sk-container-id-1 div.sk-toggleable__content {max-height: 0;max-width: 0;overflow: hidden;text-align: left;background-color: #f0f8ff;}#sk-container-id-1 div.sk-toggleable__content pre {margin: 0.2em;color: black;border-radius: 0.25em;background-color: #f0f8ff;}#sk-container-id-1 input.sk-toggleable__control:checked~div.sk-toggleable__content {max-height: 200px;max-width: 100%;overflow: auto;}#sk-container-id-1 input.sk-toggleable__control:checked~label.sk-toggleable__label-arrow:before {content: \"▾\";}#sk-container-id-1 div.sk-estimator input.sk-toggleable__control:checked~label.sk-toggleable__label {background-color: #d4ebff;}#sk-container-id-1 div.sk-label input.sk-toggleable__control:checked~label.sk-toggleable__label {background-color: #d4ebff;}#sk-container-id-1 input.sk-hidden--visually {border: 0;clip: rect(1px 1px 1px 1px);clip: rect(1px, 1px, 1px, 1px);height: 1px;margin: -1px;overflow: hidden;padding: 0;position: absolute;width: 1px;}#sk-container-id-1 div.sk-estimator {font-family: monospace;background-color: #f0f8ff;border: 1px dotted black;border-radius: 0.25em;box-sizing: border-box;margin-bottom: 0.5em;}#sk-container-id-1 div.sk-estimator:hover {background-color: #d4ebff;}#sk-container-id-1 div.sk-parallel-item::after {content: \"\";width: 100%;border-bottom: 1px solid gray;flex-grow: 1;}#sk-container-id-1 div.sk-label:hover label.sk-toggleable__label {background-color: #d4ebff;}#sk-container-id-1 div.sk-serial::before {content: \"\";position: absolute;border-left: 1px solid gray;box-sizing: border-box;top: 0;bottom: 0;left: 50%;z-index: 0;}#sk-container-id-1 div.sk-serial {display: flex;flex-direction: column;align-items: center;background-color: white;padding-right: 0.2em;padding-left: 0.2em;position: relative;}#sk-container-id-1 div.sk-item {position: relative;z-index: 1;}#sk-container-id-1 div.sk-parallel {display: flex;align-items: stretch;justify-content: center;background-color: white;position: relative;}#sk-container-id-1 div.sk-item::before, #sk-container-id-1 div.sk-parallel-item::before {content: \"\";position: absolute;border-left: 1px solid gray;box-sizing: border-box;top: 0;bottom: 0;left: 50%;z-index: -1;}#sk-container-id-1 div.sk-parallel-item {display: flex;flex-direction: column;z-index: 1;position: relative;background-color: white;}#sk-container-id-1 div.sk-parallel-item:first-child::after {align-self: flex-end;width: 50%;}#sk-container-id-1 div.sk-parallel-item:last-child::after {align-self: flex-start;width: 50%;}#sk-container-id-1 div.sk-parallel-item:only-child::after {width: 0;}#sk-container-id-1 div.sk-dashed-wrapped {border: 1px dashed gray;margin: 0 0.4em 0.5em 0.4em;box-sizing: border-box;padding-bottom: 0.4em;background-color: white;}#sk-container-id-1 div.sk-label label {font-family: monospace;font-weight: bold;display: inline-block;line-height: 1.2em;}#sk-container-id-1 div.sk-label-container {text-align: center;}#sk-container-id-1 div.sk-container {/* jupyter's `normalize.less` sets `[hidden] { display: none; }` but bootstrap.min.css set `[hidden] { display: none !important; }` so we also need the `!important` here to be able to override the default hidden behavior on the sphinx rendered scikit-learn.org. See: https://github.com/scikit-learn/scikit-learn/issues/21755 */display: inline-block !important;position: relative;}#sk-container-id-1 div.sk-text-repr-fallback {display: none;}</style><div id=\"sk-container-id-1\" class=\"sk-top-container\"><div class=\"sk-text-repr-fallback\"><pre>ColumnTransformer(transformers=[(&#x27;num&#x27;,\n",
       "                                 Pipeline(steps=[(&#x27;imputer&#x27;, SimpleImputer()),\n",
       "                                                 (&#x27;std_scaler&#x27;,\n",
       "                                                  StandardScaler())]),\n",
       "                                 [&#x27;passenger_count&#x27;, &#x27;trip_distance&#x27;,\n",
       "                                  &#x27;RatecodeID&#x27;, &#x27;extra&#x27;, &#x27;tip_amount&#x27;,\n",
       "                                  &#x27;tolls_amount&#x27;, &#x27;improvement_surcharge&#x27;,\n",
       "                                  &#x27;congestion_surcharge&#x27;, &#x27;Airport_fee&#x27;,\n",
       "                                  &#x27;duration&#x27;]),\n",
       "                                (&#x27;cat&#x27;,\n",
       "                                 Pipeline(steps=[(&#x27;imputer&#x27;,\n",
       "                                                  SimpleImputer(strategy=&#x27;most_frequent&#x27;)),\n",
       "                                                 (&#x27;onehot&#x27;,\n",
       "                                                  OneHotEncoder(handle_unknown=&#x27;ignore&#x27;))]),\n",
       "                                 [&#x27;payment_type&#x27;, &#x27;peak_bookings&#x27;])])</pre><b>In a Jupyter environment, please rerun this cell to show the HTML representation or trust the notebook. <br />On GitHub, the HTML representation is unable to render, please try loading this page with nbviewer.org.</b></div><div class=\"sk-container\" hidden><div class=\"sk-item sk-dashed-wrapped\"><div class=\"sk-label-container\"><div class=\"sk-label sk-toggleable\"><input class=\"sk-toggleable__control sk-hidden--visually\" id=\"sk-estimator-id-1\" type=\"checkbox\" ><label for=\"sk-estimator-id-1\" class=\"sk-toggleable__label sk-toggleable__label-arrow\">ColumnTransformer</label><div class=\"sk-toggleable__content\"><pre>ColumnTransformer(transformers=[(&#x27;num&#x27;,\n",
       "                                 Pipeline(steps=[(&#x27;imputer&#x27;, SimpleImputer()),\n",
       "                                                 (&#x27;std_scaler&#x27;,\n",
       "                                                  StandardScaler())]),\n",
       "                                 [&#x27;passenger_count&#x27;, &#x27;trip_distance&#x27;,\n",
       "                                  &#x27;RatecodeID&#x27;, &#x27;extra&#x27;, &#x27;tip_amount&#x27;,\n",
       "                                  &#x27;tolls_amount&#x27;, &#x27;improvement_surcharge&#x27;,\n",
       "                                  &#x27;congestion_surcharge&#x27;, &#x27;Airport_fee&#x27;,\n",
       "                                  &#x27;duration&#x27;]),\n",
       "                                (&#x27;cat&#x27;,\n",
       "                                 Pipeline(steps=[(&#x27;imputer&#x27;,\n",
       "                                                  SimpleImputer(strategy=&#x27;most_frequent&#x27;)),\n",
       "                                                 (&#x27;onehot&#x27;,\n",
       "                                                  OneHotEncoder(handle_unknown=&#x27;ignore&#x27;))]),\n",
       "                                 [&#x27;payment_type&#x27;, &#x27;peak_bookings&#x27;])])</pre></div></div></div><div class=\"sk-parallel\"><div class=\"sk-parallel-item\"><div class=\"sk-item\"><div class=\"sk-label-container\"><div class=\"sk-label sk-toggleable\"><input class=\"sk-toggleable__control sk-hidden--visually\" id=\"sk-estimator-id-2\" type=\"checkbox\" ><label for=\"sk-estimator-id-2\" class=\"sk-toggleable__label sk-toggleable__label-arrow\">num</label><div class=\"sk-toggleable__content\"><pre>[&#x27;passenger_count&#x27;, &#x27;trip_distance&#x27;, &#x27;RatecodeID&#x27;, &#x27;extra&#x27;, &#x27;tip_amount&#x27;, &#x27;tolls_amount&#x27;, &#x27;improvement_surcharge&#x27;, &#x27;congestion_surcharge&#x27;, &#x27;Airport_fee&#x27;, &#x27;duration&#x27;]</pre></div></div></div><div class=\"sk-serial\"><div class=\"sk-item\"><div class=\"sk-serial\"><div class=\"sk-item\"><div class=\"sk-estimator sk-toggleable\"><input class=\"sk-toggleable__control sk-hidden--visually\" id=\"sk-estimator-id-3\" type=\"checkbox\" ><label for=\"sk-estimator-id-3\" class=\"sk-toggleable__label sk-toggleable__label-arrow\">SimpleImputer</label><div class=\"sk-toggleable__content\"><pre>SimpleImputer()</pre></div></div></div><div class=\"sk-item\"><div class=\"sk-estimator sk-toggleable\"><input class=\"sk-toggleable__control sk-hidden--visually\" id=\"sk-estimator-id-4\" type=\"checkbox\" ><label for=\"sk-estimator-id-4\" class=\"sk-toggleable__label sk-toggleable__label-arrow\">StandardScaler</label><div class=\"sk-toggleable__content\"><pre>StandardScaler()</pre></div></div></div></div></div></div></div></div><div class=\"sk-parallel-item\"><div class=\"sk-item\"><div class=\"sk-label-container\"><div class=\"sk-label sk-toggleable\"><input class=\"sk-toggleable__control sk-hidden--visually\" id=\"sk-estimator-id-5\" type=\"checkbox\" ><label for=\"sk-estimator-id-5\" class=\"sk-toggleable__label sk-toggleable__label-arrow\">cat</label><div class=\"sk-toggleable__content\"><pre>[&#x27;payment_type&#x27;, &#x27;peak_bookings&#x27;]</pre></div></div></div><div class=\"sk-serial\"><div class=\"sk-item\"><div class=\"sk-serial\"><div class=\"sk-item\"><div class=\"sk-estimator sk-toggleable\"><input class=\"sk-toggleable__control sk-hidden--visually\" id=\"sk-estimator-id-6\" type=\"checkbox\" ><label for=\"sk-estimator-id-6\" class=\"sk-toggleable__label sk-toggleable__label-arrow\">SimpleImputer</label><div class=\"sk-toggleable__content\"><pre>SimpleImputer(strategy=&#x27;most_frequent&#x27;)</pre></div></div></div><div class=\"sk-item\"><div class=\"sk-estimator sk-toggleable\"><input class=\"sk-toggleable__control sk-hidden--visually\" id=\"sk-estimator-id-7\" type=\"checkbox\" ><label for=\"sk-estimator-id-7\" class=\"sk-toggleable__label sk-toggleable__label-arrow\">OneHotEncoder</label><div class=\"sk-toggleable__content\"><pre>OneHotEncoder(handle_unknown=&#x27;ignore&#x27;)</pre></div></div></div></div></div></div></div></div></div></div></div></div>"
      ],
      "text/plain": [
       "ColumnTransformer(transformers=[('num',\n",
       "                                 Pipeline(steps=[('imputer', SimpleImputer()),\n",
       "                                                 ('std_scaler',\n",
       "                                                  StandardScaler())]),\n",
       "                                 ['passenger_count', 'trip_distance',\n",
       "                                  'RatecodeID', 'extra', 'tip_amount',\n",
       "                                  'tolls_amount', 'improvement_surcharge',\n",
       "                                  'congestion_surcharge', 'Airport_fee',\n",
       "                                  'duration']),\n",
       "                                ('cat',\n",
       "                                 Pipeline(steps=[('imputer',\n",
       "                                                  SimpleImputer(strategy='most_frequent')),\n",
       "                                                 ('onehot',\n",
       "                                                  OneHotEncoder(handle_unknown='ignore'))]),\n",
       "                                 ['payment_type', 'peak_bookings'])])"
      ]
     },
     "execution_count": 80,
     "metadata": {},
     "output_type": "execute_result"
    }
   ],
   "source": [
    "numerical_pipeline = Pipeline([\n",
    "                               ('imputer', SimpleImputer(strategy=\"mean\")),\n",
    "                               ('std_scaler', StandardScaler()),])\n",
    "\n",
    "categorical_pipeline = Pipeline([\n",
    "    ('imputer', SimpleImputer(strategy='most_frequent')),\n",
    "    ('onehot', OneHotEncoder(handle_unknown='ignore'))\n",
    "])\n",
    "\n",
    "preprocess_pipeline = ColumnTransformer([\n",
    "    (\"num\",numerical_pipeline,numerical_features),\n",
    "    (\"cat\",categorical_pipeline,categorical_features)\n",
    "])\n",
    "\n",
    "preprocess_pipeline\n"
   ]
  },
  {
   "cell_type": "markdown",
   "id": "b461fc72",
   "metadata": {
    "papermill": {
     "duration": 0.076506,
     "end_time": "2023-12-15T09:32:32.430072",
     "exception": false,
     "start_time": "2023-12-15T09:32:32.353566",
     "status": "completed"
    },
    "tags": []
   },
   "source": [
    "## Model Building"
   ]
  },
  {
   "cell_type": "code",
   "execution_count": 81,
   "id": "facffe27",
   "metadata": {
    "execution": {
     "iopub.execute_input": "2023-12-15T09:32:32.581148Z",
     "iopub.status.busy": "2023-12-15T09:32:32.580661Z",
     "iopub.status.idle": "2023-12-15T09:32:32.633038Z",
     "shell.execute_reply": "2023-12-15T09:32:32.631532Z"
    },
    "papermill": {
     "duration": 0.132024,
     "end_time": "2023-12-15T09:32:32.636005",
     "exception": false,
     "start_time": "2023-12-15T09:32:32.503981",
     "status": "completed"
    },
    "tags": []
   },
   "outputs": [],
   "source": [
    "X_train, X_test,y_train,y_test = train_test_split(train_feature_dataset,train_labels,test_size = 0.3, random_state = 42)"
   ]
  },
  {
   "cell_type": "code",
   "execution_count": 82,
   "id": "bece086e",
   "metadata": {
    "execution": {
     "iopub.execute_input": "2023-12-15T09:32:32.804966Z",
     "iopub.status.busy": "2023-12-15T09:32:32.804023Z",
     "iopub.status.idle": "2023-12-15T09:32:32.811066Z",
     "shell.execute_reply": "2023-12-15T09:32:32.809887Z"
    },
    "papermill": {
     "duration": 0.088656,
     "end_time": "2023-12-15T09:32:32.813450",
     "exception": false,
     "start_time": "2023-12-15T09:32:32.724794",
     "status": "completed"
    },
    "tags": []
   },
   "outputs": [
    {
     "name": "stdout",
     "output_type": "stream",
     "text": [
      "Shape of training set: ((122500, 12), (122500,))\n",
      "Shape of test set: ((52500, 12), (52500,))\n"
     ]
    }
   ],
   "source": [
    "print(f'Shape of training set: {X_train.shape,y_train.shape}')\n",
    "print(f'Shape of test set: {X_test.shape,y_test.shape}')"
   ]
  },
  {
   "cell_type": "markdown",
   "id": "cd339ff6",
   "metadata": {
    "papermill": {
     "duration": 0.077457,
     "end_time": "2023-12-15T09:32:32.982241",
     "exception": false,
     "start_time": "2023-12-15T09:32:32.904784",
     "status": "completed"
    },
    "tags": []
   },
   "source": [
    "### Linear Regression"
   ]
  },
  {
   "cell_type": "code",
   "execution_count": 83,
   "id": "df5b408a",
   "metadata": {
    "execution": {
     "iopub.execute_input": "2023-12-15T09:32:33.146558Z",
     "iopub.status.busy": "2023-12-15T09:32:33.145855Z",
     "iopub.status.idle": "2023-12-15T09:32:33.151063Z",
     "shell.execute_reply": "2023-12-15T09:32:33.150234Z"
    },
    "papermill": {
     "duration": 0.091194,
     "end_time": "2023-12-15T09:32:33.153561",
     "exception": false,
     "start_time": "2023-12-15T09:32:33.062367",
     "status": "completed"
    },
    "tags": []
   },
   "outputs": [],
   "source": [
    "model_pipeline = Pipeline([\n",
    "    ('preprocess',preprocess_pipeline),\n",
    "    ('linear_reg',LinearRegression())\n",
    "])"
   ]
  },
  {
   "cell_type": "code",
   "execution_count": 84,
   "id": "0422524f",
   "metadata": {
    "execution": {
     "iopub.execute_input": "2023-12-15T09:32:33.305594Z",
     "iopub.status.busy": "2023-12-15T09:32:33.304705Z",
     "iopub.status.idle": "2023-12-15T09:32:33.911206Z",
     "shell.execute_reply": "2023-12-15T09:32:33.908849Z"
    },
    "papermill": {
     "duration": 0.686886,
     "end_time": "2023-12-15T09:32:33.915866",
     "exception": false,
     "start_time": "2023-12-15T09:32:33.228980",
     "status": "completed"
    },
    "tags": []
   },
   "outputs": [
    {
     "data": {
      "text/plain": [
       "0.7281978602258562"
      ]
     },
     "execution_count": 84,
     "metadata": {},
     "output_type": "execute_result"
    }
   ],
   "source": [
    "model_pipeline.fit(X_train,y_train)\n",
    "y_pred = model_pipeline.predict(X_test)\n",
    "linear_reg_r2_score = r2_score(y_test,y_pred)\n",
    "linear_reg_r2_score"
   ]
  },
  {
   "cell_type": "markdown",
   "id": "9e94c091",
   "metadata": {
    "papermill": {
     "duration": 0.074235,
     "end_time": "2023-12-15T09:32:34.120682",
     "exception": false,
     "start_time": "2023-12-15T09:32:34.046447",
     "status": "completed"
    },
    "tags": []
   },
   "source": [
    "#### Linear Regression with Polynomial Features"
   ]
  },
  {
   "cell_type": "code",
   "execution_count": 85,
   "id": "ad397eac",
   "metadata": {
    "execution": {
     "iopub.execute_input": "2023-12-15T09:32:34.269732Z",
     "iopub.status.busy": "2023-12-15T09:32:34.269299Z",
     "iopub.status.idle": "2023-12-15T09:32:34.274819Z",
     "shell.execute_reply": "2023-12-15T09:32:34.273664Z"
    },
    "papermill": {
     "duration": 0.083337,
     "end_time": "2023-12-15T09:32:34.277239",
     "exception": false,
     "start_time": "2023-12-15T09:32:34.193902",
     "status": "completed"
    },
    "tags": []
   },
   "outputs": [],
   "source": [
    "model_pipeline = Pipeline([\n",
    "    ('preprocess',preprocess_pipeline),\n",
    "    ('poly_features', PolynomialFeatures()),\n",
    "    ('std_sclar',StandardScaler()),\n",
    "    ('linear_reg',LinearRegression())\n",
    "])"
   ]
  },
  {
   "cell_type": "code",
   "execution_count": 86,
   "id": "b59cac54",
   "metadata": {
    "execution": {
     "iopub.execute_input": "2023-12-15T09:32:34.426882Z",
     "iopub.status.busy": "2023-12-15T09:32:34.426163Z",
     "iopub.status.idle": "2023-12-15T09:32:38.489739Z",
     "shell.execute_reply": "2023-12-15T09:32:38.487991Z"
    },
    "papermill": {
     "duration": 4.142523,
     "end_time": "2023-12-15T09:32:38.494169",
     "exception": false,
     "start_time": "2023-12-15T09:32:34.351646",
     "status": "completed"
    },
    "tags": []
   },
   "outputs": [
    {
     "data": {
      "text/plain": [
       "0.8916668157930476"
      ]
     },
     "execution_count": 86,
     "metadata": {},
     "output_type": "execute_result"
    }
   ],
   "source": [
    "model_pipeline.fit(X_train,y_train)\n",
    "y_pred = model_pipeline.predict(X_test)\n",
    "poly_reg_r2_score = r2_score(y_test,y_pred)\n",
    "poly_reg_r2_score"
   ]
  },
  {
   "cell_type": "code",
   "execution_count": 87,
   "id": "a3fd07cb",
   "metadata": {
    "execution": {
     "iopub.execute_input": "2023-12-15T09:32:38.703140Z",
     "iopub.status.busy": "2023-12-15T09:32:38.702710Z",
     "iopub.status.idle": "2023-12-15T09:34:25.922440Z",
     "shell.execute_reply": "2023-12-15T09:34:25.920527Z"
    },
    "papermill": {
     "duration": 107.427053,
     "end_time": "2023-12-15T09:34:26.053444",
     "exception": false,
     "start_time": "2023-12-15T09:32:38.626391",
     "status": "completed"
    },
    "tags": []
   },
   "outputs": [
    {
     "name": "stdout",
     "output_type": "stream",
     "text": [
      "Best Parameters:  {'poly_features__degree': 1}\n",
      "Best Score:  0.7285087490376834\n"
     ]
    }
   ],
   "source": [
    "param_grid = {\n",
    "    'poly_features__degree': [1,2, 3], \n",
    "}\n",
    "# kf = KFold(n_splits=5, shuffle=True, random_state=42)\n",
    "grid_search = GridSearchCV(model_pipeline, param_grid, cv=5, scoring='r2', n_jobs=-1)\n",
    "grid_search.fit(X_train, y_train)\n",
    "print(\"Best Parameters: \", grid_search.best_params_)\n",
    "print(\"Best Score: \", grid_search.best_score_)\n"
   ]
  },
  {
   "cell_type": "code",
   "execution_count": 88,
   "id": "9619fa5e",
   "metadata": {
    "execution": {
     "iopub.execute_input": "2023-12-15T09:34:26.205766Z",
     "iopub.status.busy": "2023-12-15T09:34:26.204388Z",
     "iopub.status.idle": "2023-12-15T09:34:26.307072Z",
     "shell.execute_reply": "2023-12-15T09:34:26.305865Z"
    },
    "papermill": {
     "duration": 0.182896,
     "end_time": "2023-12-15T09:34:26.310649",
     "exception": false,
     "start_time": "2023-12-15T09:34:26.127753",
     "status": "completed"
    },
    "tags": []
   },
   "outputs": [
    {
     "data": {
      "text/plain": [
       "0.728196035720708"
      ]
     },
     "execution_count": 88,
     "metadata": {},
     "output_type": "execute_result"
    }
   ],
   "source": [
    "best_poly_reg_model_pipeline = grid_search.best_estimator_\n",
    "y_pred = best_poly_reg_model_pipeline.predict(X_test)\n",
    "best_poly_reg_r2_score = r2_score(y_test,y_pred)\n",
    "best_poly_reg_r2_score"
   ]
  },
  {
   "cell_type": "markdown",
   "id": "37dd2673",
   "metadata": {
    "papermill": {
     "duration": 0.076722,
     "end_time": "2023-12-15T09:34:26.518484",
     "exception": false,
     "start_time": "2023-12-15T09:34:26.441762",
     "status": "completed"
    },
    "tags": []
   },
   "source": [
    "### SGDRegressor"
   ]
  },
  {
   "cell_type": "code",
   "execution_count": 89,
   "id": "f8713aa7",
   "metadata": {
    "execution": {
     "iopub.execute_input": "2023-12-15T09:34:26.668930Z",
     "iopub.status.busy": "2023-12-15T09:34:26.668455Z",
     "iopub.status.idle": "2023-12-15T09:34:27.950433Z",
     "shell.execute_reply": "2023-12-15T09:34:27.948555Z"
    },
    "papermill": {
     "duration": 1.362696,
     "end_time": "2023-12-15T09:34:27.955054",
     "exception": false,
     "start_time": "2023-12-15T09:34:26.592358",
     "status": "completed"
    },
    "tags": []
   },
   "outputs": [
    {
     "data": {
      "text/plain": [
       "0.7067126791995365"
      ]
     },
     "execution_count": 89,
     "metadata": {},
     "output_type": "execute_result"
    }
   ],
   "source": [
    "model_pipeline = Pipeline([\n",
    "    ('preprocess',preprocess_pipeline), \n",
    "    ('sgd_reg', SGDRegressor(loss = 'huber'))\n",
    "])\n",
    "model_pipeline.fit(X_train,y_train)\n",
    "y_pred = model_pipeline.predict(X_test)\n",
    "linear_reg_with_sgd_r2_score = r2_score(y_test,y_pred)\n",
    "linear_reg_with_sgd_r2_score"
   ]
  },
  {
   "cell_type": "code",
   "execution_count": 90,
   "id": "97316328",
   "metadata": {
    "execution": {
     "iopub.execute_input": "2023-12-15T09:34:28.158098Z",
     "iopub.status.busy": "2023-12-15T09:34:28.157669Z",
     "iopub.status.idle": "2023-12-15T09:35:39.773775Z",
     "shell.execute_reply": "2023-12-15T09:35:39.772547Z"
    },
    "papermill": {
     "duration": 71.767277,
     "end_time": "2023-12-15T09:35:39.849779",
     "exception": false,
     "start_time": "2023-12-15T09:34:28.082502",
     "status": "completed"
    },
    "tags": []
   },
   "outputs": [
    {
     "name": "stdout",
     "output_type": "stream",
     "text": [
      "Best Parameters:  {'sgd_reg__alpha': 0.0001, 'sgd_reg__eta0': 0.1, 'sgd_reg__loss': 'huber'}\n",
      "Best Score:  0.7170649718771\n"
     ]
    }
   ],
   "source": [
    "param_grid = {\n",
    "    'sgd_reg__loss': ['squared_error', 'huber'],\n",
    "    'sgd_reg__alpha':[0.0001,0.001,0.01,0.1,1],\n",
    "    'sgd_reg__eta0': [0.001,0.01, 0.1],\n",
    "}\n",
    "kf = KFold(n_splits=5, shuffle=True, random_state=42)\n",
    "grid_search = GridSearchCV(model_pipeline, param_grid, cv=kf, scoring='r2', n_jobs=-1)\n",
    "grid_search.fit(X_train, y_train)\n",
    "print(\"Best Parameters: \", grid_search.best_params_)\n",
    "print(\"Best Score: \", grid_search.best_score_)"
   ]
  },
  {
   "cell_type": "code",
   "execution_count": 91,
   "id": "ca749b30",
   "metadata": {
    "execution": {
     "iopub.execute_input": "2023-12-15T09:35:40.000542Z",
     "iopub.status.busy": "2023-12-15T09:35:39.999998Z",
     "iopub.status.idle": "2023-12-15T09:35:40.609459Z",
     "shell.execute_reply": "2023-12-15T09:35:40.608153Z"
    },
    "papermill": {
     "duration": 0.689031,
     "end_time": "2023-12-15T09:35:40.613704",
     "exception": false,
     "start_time": "2023-12-15T09:35:39.924673",
     "status": "completed"
    },
    "tags": []
   },
   "outputs": [
    {
     "data": {
      "text/plain": [
       "0.7155330432908695"
      ]
     },
     "execution_count": 91,
     "metadata": {},
     "output_type": "execute_result"
    }
   ],
   "source": [
    "best_sgd_model_pipeline = grid_search.best_estimator_\n",
    "best_sgd_model_pipeline.fit(X_train,y_train)\n",
    "y_pred = best_sgd_model_pipeline.predict(X_test)\n",
    "linear_reg_with_best_sgd_r2_score = r2_score(y_test,y_pred)\n",
    "linear_reg_with_best_sgd_r2_score"
   ]
  },
  {
   "cell_type": "markdown",
   "id": "aa04d733",
   "metadata": {
    "papermill": {
     "duration": 0.074304,
     "end_time": "2023-12-15T09:35:40.818860",
     "exception": false,
     "start_time": "2023-12-15T09:35:40.744556",
     "status": "completed"
    },
    "tags": []
   },
   "source": [
    "### Decision Tree Regressor and Random Forest Regressor"
   ]
  },
  {
   "cell_type": "markdown",
   "id": "05782676",
   "metadata": {
    "papermill": {
     "duration": 0.073228,
     "end_time": "2023-12-15T09:35:40.967661",
     "exception": false,
     "start_time": "2023-12-15T09:35:40.894433",
     "status": "completed"
    },
    "tags": []
   },
   "source": [
    "#### Decision Tree Regressor"
   ]
  },
  {
   "cell_type": "code",
   "execution_count": 92,
   "id": "626b9b32",
   "metadata": {
    "execution": {
     "iopub.execute_input": "2023-12-15T09:35:41.118346Z",
     "iopub.status.busy": "2023-12-15T09:35:41.117936Z",
     "iopub.status.idle": "2023-12-15T09:35:41.123490Z",
     "shell.execute_reply": "2023-12-15T09:35:41.122363Z"
    },
    "papermill": {
     "duration": 0.083819,
     "end_time": "2023-12-15T09:35:41.125901",
     "exception": false,
     "start_time": "2023-12-15T09:35:41.042082",
     "status": "completed"
    },
    "tags": []
   },
   "outputs": [],
   "source": [
    "model_pipeline = Pipeline([\n",
    "    ('preprocess',preprocess_pipeline),\n",
    "    ('DecisionTreeRegressor',DecisionTreeRegressor())\n",
    "])"
   ]
  },
  {
   "cell_type": "code",
   "execution_count": 93,
   "id": "61443b53",
   "metadata": {
    "execution": {
     "iopub.execute_input": "2023-12-15T09:35:41.275907Z",
     "iopub.status.busy": "2023-12-15T09:35:41.275472Z",
     "iopub.status.idle": "2023-12-15T09:35:42.889646Z",
     "shell.execute_reply": "2023-12-15T09:35:42.888325Z"
    },
    "papermill": {
     "duration": 1.692323,
     "end_time": "2023-12-15T09:35:42.892364",
     "exception": false,
     "start_time": "2023-12-15T09:35:41.200041",
     "status": "completed"
    },
    "tags": []
   },
   "outputs": [
    {
     "data": {
      "text/plain": [
       "0.9159795963431896"
      ]
     },
     "execution_count": 93,
     "metadata": {},
     "output_type": "execute_result"
    }
   ],
   "source": [
    "model_pipeline.fit(X_train,y_train)\n",
    "y_pred = model_pipeline.predict(X_test)\n",
    "r2_score(y_test,y_pred)"
   ]
  },
  {
   "cell_type": "markdown",
   "id": "ba4881f2",
   "metadata": {
    "papermill": {
     "duration": 0.073625,
     "end_time": "2023-12-15T09:35:43.040499",
     "exception": false,
     "start_time": "2023-12-15T09:35:42.966874",
     "status": "completed"
    },
    "tags": []
   },
   "source": [
    "#### Random Forest Regressor"
   ]
  },
  {
   "cell_type": "code",
   "execution_count": 94,
   "id": "3148ee68",
   "metadata": {
    "execution": {
     "iopub.execute_input": "2023-12-15T09:35:43.191896Z",
     "iopub.status.busy": "2023-12-15T09:35:43.190962Z",
     "iopub.status.idle": "2023-12-15T09:35:43.197158Z",
     "shell.execute_reply": "2023-12-15T09:35:43.196009Z"
    },
    "papermill": {
     "duration": 0.083916,
     "end_time": "2023-12-15T09:35:43.199698",
     "exception": false,
     "start_time": "2023-12-15T09:35:43.115782",
     "status": "completed"
    },
    "tags": []
   },
   "outputs": [],
   "source": [
    "model_pipeline = Pipeline([\n",
    "    ('preprocess',preprocess_pipeline),\n",
    "    ('RandomForest',RandomForestRegressor(max_features='sqrt'))\n",
    "])"
   ]
  },
  {
   "cell_type": "code",
   "execution_count": 95,
   "id": "74b5d3f5",
   "metadata": {
    "execution": {
     "iopub.execute_input": "2023-12-15T09:35:43.348994Z",
     "iopub.status.busy": "2023-12-15T09:35:43.348524Z",
     "iopub.status.idle": "2023-12-15T09:36:16.099947Z",
     "shell.execute_reply": "2023-12-15T09:36:16.098656Z"
    },
    "papermill": {
     "duration": 32.909388,
     "end_time": "2023-12-15T09:36:16.182690",
     "exception": false,
     "start_time": "2023-12-15T09:35:43.273302",
     "status": "completed"
    },
    "tags": []
   },
   "outputs": [
    {
     "data": {
      "text/plain": [
       "0.9450205560509418"
      ]
     },
     "execution_count": 95,
     "metadata": {},
     "output_type": "execute_result"
    }
   ],
   "source": [
    "model_pipeline.fit(X_train,y_train)\n",
    "y_pred = model_pipeline.predict(X_test)\n",
    "r2_score(y_test,y_pred)"
   ]
  },
  {
   "cell_type": "markdown",
   "id": "89cadfc3",
   "metadata": {
    "papermill": {
     "duration": 0.074824,
     "end_time": "2023-12-15T09:36:16.333232",
     "exception": false,
     "start_time": "2023-12-15T09:36:16.258408",
     "status": "completed"
    },
    "tags": []
   },
   "source": [
    "Since vanila Random Forest Regressor is giving better score than vanila decision tree we will train our hyperparameters of random forest regressor to get better result"
   ]
  },
  {
   "cell_type": "code",
   "execution_count": 96,
   "id": "c23f2a1c",
   "metadata": {
    "execution": {
     "iopub.execute_input": "2023-12-15T09:36:16.487161Z",
     "iopub.status.busy": "2023-12-15T09:36:16.486297Z",
     "iopub.status.idle": "2023-12-15T09:47:34.441641Z",
     "shell.execute_reply": "2023-12-15T09:47:34.440406Z"
    },
    "papermill": {
     "duration": 678.195321,
     "end_time": "2023-12-15T09:47:34.604673",
     "exception": false,
     "start_time": "2023-12-15T09:36:16.409352",
     "status": "completed"
    },
    "tags": []
   },
   "outputs": [
    {
     "name": "stdout",
     "output_type": "stream",
     "text": [
      "Best Parameters:  {'RandomForest__max_depth': 20, 'RandomForest__n_estimators': 150}\n",
      "Best Score:  0.9327816265234473\n"
     ]
    }
   ],
   "source": [
    "param_grid = {\n",
    "    'RandomForest__n_estimators': [150, 100],          \n",
    "    'RandomForest__max_depth': [20,10, None],\n",
    "}\n",
    "kf = KFold(n_splits=5, shuffle=True, random_state=42)\n",
    "grid_search = GridSearchCV(model_pipeline, param_grid, cv=kf, scoring='r2')\n",
    "grid_search.fit(X_train, y_train)\n",
    "print(\"Best Parameters: \", grid_search.best_params_)\n",
    "print(\"Best Score: \", grid_search.best_score_)"
   ]
  },
  {
   "cell_type": "code",
   "execution_count": 97,
   "id": "f92d1813",
   "metadata": {
    "execution": {
     "iopub.execute_input": "2023-12-15T09:47:34.758370Z",
     "iopub.status.busy": "2023-12-15T09:47:34.757474Z",
     "iopub.status.idle": "2023-12-15T09:48:06.707710Z",
     "shell.execute_reply": "2023-12-15T09:48:06.706468Z"
    },
    "papermill": {
     "duration": 32.105583,
     "end_time": "2023-12-15T09:48:06.785644",
     "exception": false,
     "start_time": "2023-12-15T09:47:34.680061",
     "status": "completed"
    },
    "tags": []
   },
   "outputs": [
    {
     "data": {
      "text/plain": [
       "0.945446932075515"
      ]
     },
     "execution_count": 97,
     "metadata": {},
     "output_type": "execute_result"
    }
   ],
   "source": [
    "best_random_forest_model_pipeline = grid_search.best_estimator_\n",
    "best_random_forest_model_pipeline.fit(X_train,y_train)\n",
    "y_pred = best_random_forest_model_pipeline.predict(X_test)\n",
    "random_forest_with_best_r2_score = r2_score(y_test,y_pred)\n",
    "random_forest_with_best_r2_score"
   ]
  },
  {
   "cell_type": "markdown",
   "id": "bff78699",
   "metadata": {
    "papermill": {
     "duration": 0.077133,
     "end_time": "2023-12-15T09:48:06.940660",
     "exception": false,
     "start_time": "2023-12-15T09:48:06.863527",
     "status": "completed"
    },
    "tags": []
   },
   "source": [
    "### XGBRegressor"
   ]
  },
  {
   "cell_type": "code",
   "execution_count": 98,
   "id": "c91a4cf1",
   "metadata": {
    "execution": {
     "iopub.execute_input": "2023-12-15T09:48:07.096668Z",
     "iopub.status.busy": "2023-12-15T09:48:07.095449Z",
     "iopub.status.idle": "2023-12-15T09:48:07.101018Z",
     "shell.execute_reply": "2023-12-15T09:48:07.100076Z"
    },
    "papermill": {
     "duration": 0.08577,
     "end_time": "2023-12-15T09:48:07.103723",
     "exception": false,
     "start_time": "2023-12-15T09:48:07.017953",
     "status": "completed"
    },
    "tags": []
   },
   "outputs": [],
   "source": [
    "model_pipeline = Pipeline([\n",
    "    ('preprocess',preprocess_pipeline),\n",
    "    ('xgBoost',XGBRegressor())\n",
    "])"
   ]
  },
  {
   "cell_type": "code",
   "execution_count": 99,
   "id": "8ff01cdb",
   "metadata": {
    "execution": {
     "iopub.execute_input": "2023-12-15T09:48:07.261278Z",
     "iopub.status.busy": "2023-12-15T09:48:07.260086Z",
     "iopub.status.idle": "2023-12-15T09:48:16.054694Z",
     "shell.execute_reply": "2023-12-15T09:48:16.053379Z"
    },
    "papermill": {
     "duration": 8.878903,
     "end_time": "2023-12-15T09:48:16.058304",
     "exception": false,
     "start_time": "2023-12-15T09:48:07.179401",
     "status": "completed"
    },
    "tags": []
   },
   "outputs": [
    {
     "data": {
      "text/plain": [
       "0.9536339575878691"
      ]
     },
     "execution_count": 99,
     "metadata": {},
     "output_type": "execute_result"
    }
   ],
   "source": [
    "model_pipeline.fit(X_train,y_train)\n",
    "y_pred = model_pipeline.predict(X_test)\n",
    "r2_score(y_test,y_pred)"
   ]
  },
  {
   "cell_type": "code",
   "execution_count": 100,
   "id": "808b4bba",
   "metadata": {
    "execution": {
     "iopub.execute_input": "2023-12-15T09:48:16.223264Z",
     "iopub.status.busy": "2023-12-15T09:48:16.222813Z",
     "iopub.status.idle": "2023-12-15T10:28:19.359559Z",
     "shell.execute_reply": "2023-12-15T10:28:19.350196Z"
    },
    "papermill": {
     "duration": 2403.296489,
     "end_time": "2023-12-15T10:28:19.438608",
     "exception": false,
     "start_time": "2023-12-15T09:48:16.142119",
     "status": "completed"
    },
    "tags": []
   },
   "outputs": [
    {
     "name": "stdout",
     "output_type": "stream",
     "text": [
      "Best Parameters:  {'xgBoost__learning_rate': 0.1, 'xgBoost__max_depth': 5, 'xgBoost__n_estimators': 200, 'xgBoost__subsample': 1.0}\n",
      "Best Score:  0.93796316416532\n"
     ]
    }
   ],
   "source": [
    "param_grid = {\n",
    "    'xgBoost__learning_rate': [0.01, 0.1, 0.2],\n",
    "    'xgBoost__n_estimators': [50, 100, 200],\n",
    "    'xgBoost__max_depth': [3, 4, 5],\n",
    "    'xgBoost__subsample': [0.8, 0.9, 1.0],\n",
    "    \n",
    "}\n",
    "kf = KFold(n_splits=5, shuffle=True, random_state=42)\n",
    "grid_search = GridSearchCV(model_pipeline, param_grid, cv=kf, scoring='r2')\n",
    "grid_search.fit(X_train, y_train)\n",
    "print(\"Best Parameters: \", grid_search.best_params_)\n",
    "print(\"Best Score: \", grid_search.best_score_)"
   ]
  },
  {
   "cell_type": "code",
   "execution_count": 101,
   "id": "736231ca",
   "metadata": {
    "execution": {
     "iopub.execute_input": "2023-12-15T10:28:19.595033Z",
     "iopub.status.busy": "2023-12-15T10:28:19.594545Z",
     "iopub.status.idle": "2023-12-15T10:28:34.757732Z",
     "shell.execute_reply": "2023-12-15T10:28:34.756447Z"
    },
    "papermill": {
     "duration": 15.244997,
     "end_time": "2023-12-15T10:28:34.760532",
     "exception": false,
     "start_time": "2023-12-15T10:28:19.515535",
     "status": "completed"
    },
    "tags": []
   },
   "outputs": [
    {
     "data": {
      "text/plain": [
       "0.9522817871186829"
      ]
     },
     "execution_count": 101,
     "metadata": {},
     "output_type": "execute_result"
    }
   ],
   "source": [
    "best_xgboost_model_pipeline = grid_search.best_estimator_\n",
    "best_xgboost_model_pipeline.fit(X_train,y_train)\n",
    "y_pred = best_xgboost_model_pipeline.predict(X_test)\n",
    "xgboost_with_best_r2_score = r2_score(y_test,y_pred)\n",
    "xgboost_with_best_r2_score"
   ]
  },
  {
   "cell_type": "markdown",
   "id": "05872c38",
   "metadata": {
    "papermill": {
     "duration": 0.077391,
     "end_time": "2023-12-15T10:28:34.916470",
     "exception": false,
     "start_time": "2023-12-15T10:28:34.839079",
     "status": "completed"
    },
    "tags": []
   },
   "source": [
    "Let's compare the r2 scores from different models"
   ]
  },
  {
   "cell_type": "code",
   "execution_count": 102,
   "id": "4145a4d4",
   "metadata": {
    "execution": {
     "iopub.execute_input": "2023-12-15T10:28:35.071670Z",
     "iopub.status.busy": "2023-12-15T10:28:35.071195Z",
     "iopub.status.idle": "2023-12-15T10:28:35.090328Z",
     "shell.execute_reply": "2023-12-15T10:28:35.088748Z"
    },
    "papermill": {
     "duration": 0.100346,
     "end_time": "2023-12-15T10:28:35.093312",
     "exception": false,
     "start_time": "2023-12-15T10:28:34.992966",
     "status": "completed"
    },
    "tags": []
   },
   "outputs": [
    {
     "data": {
      "text/html": [
       "<div>\n",
       "<style scoped>\n",
       "    .dataframe tbody tr th:only-of-type {\n",
       "        vertical-align: middle;\n",
       "    }\n",
       "\n",
       "    .dataframe tbody tr th {\n",
       "        vertical-align: top;\n",
       "    }\n",
       "\n",
       "    .dataframe thead th {\n",
       "        text-align: right;\n",
       "    }\n",
       "</style>\n",
       "<table border=\"1\" class=\"dataframe\">\n",
       "  <thead>\n",
       "    <tr style=\"text-align: right;\">\n",
       "      <th></th>\n",
       "      <th>Model</th>\n",
       "      <th>R2 Score</th>\n",
       "    </tr>\n",
       "  </thead>\n",
       "  <tbody>\n",
       "    <tr>\n",
       "      <th>0</th>\n",
       "      <td>Linear Regression</td>\n",
       "      <td>0.728198</td>\n",
       "    </tr>\n",
       "    <tr>\n",
       "      <th>1</th>\n",
       "      <td>Linear Regression with Polynomial Features</td>\n",
       "      <td>0.728196</td>\n",
       "    </tr>\n",
       "    <tr>\n",
       "      <th>2</th>\n",
       "      <td>SGDRegressor</td>\n",
       "      <td>0.715533</td>\n",
       "    </tr>\n",
       "    <tr>\n",
       "      <th>3</th>\n",
       "      <td>Random Forest Regressor</td>\n",
       "      <td>0.945447</td>\n",
       "    </tr>\n",
       "    <tr>\n",
       "      <th>4</th>\n",
       "      <td>XGBRegressor</td>\n",
       "      <td>0.952282</td>\n",
       "    </tr>\n",
       "  </tbody>\n",
       "</table>\n",
       "</div>"
      ],
      "text/plain": [
       "                                        Model  R2 Score\n",
       "0                           Linear Regression  0.728198\n",
       "1  Linear Regression with Polynomial Features  0.728196\n",
       "2                                SGDRegressor  0.715533\n",
       "3                     Random Forest Regressor  0.945447\n",
       "4                                XGBRegressor  0.952282"
      ]
     },
     "execution_count": 102,
     "metadata": {},
     "output_type": "execute_result"
    }
   ],
   "source": [
    "Results = {'Linear Regression': linear_reg_r2_score,\n",
    "          'Linear Regression with Polynomial Features': best_poly_reg_r2_score,\n",
    "           'SGDRegressor': linear_reg_with_best_sgd_r2_score,\n",
    "           'Random Forest Regressor': random_forest_with_best_r2_score,\n",
    "           'XGBRegressor': xgboost_with_best_r2_score\n",
    "          }\n",
    "\n",
    "results_df = pd.DataFrame(list(Results.items()), columns=['Model', 'R2 Score'])\n",
    "results_df"
   ]
  },
  {
   "cell_type": "markdown",
   "id": "18b9a600",
   "metadata": {
    "papermill": {
     "duration": 0.074603,
     "end_time": "2023-12-15T10:28:35.244525",
     "exception": false,
     "start_time": "2023-12-15T10:28:35.169922",
     "status": "completed"
    },
    "tags": []
   },
   "source": [
    "Since, the r2 score on the test data is highest with XGBRegressor  will train our final model with XGBRegressor."
   ]
  },
  {
   "cell_type": "code",
   "execution_count": 103,
   "id": "6e1c1d64",
   "metadata": {
    "execution": {
     "iopub.execute_input": "2023-12-15T10:28:35.398101Z",
     "iopub.status.busy": "2023-12-15T10:28:35.397662Z",
     "iopub.status.idle": "2023-12-15T10:28:35.403571Z",
     "shell.execute_reply": "2023-12-15T10:28:35.402218Z"
    },
    "papermill": {
     "duration": 0.085947,
     "end_time": "2023-12-15T10:28:35.406349",
     "exception": false,
     "start_time": "2023-12-15T10:28:35.320402",
     "status": "completed"
    },
    "tags": []
   },
   "outputs": [],
   "source": [
    "model_pipeline = best_xgboost_model_pipeline"
   ]
  },
  {
   "cell_type": "code",
   "execution_count": 104,
   "id": "770e0517",
   "metadata": {
    "execution": {
     "iopub.execute_input": "2023-12-15T10:28:35.566642Z",
     "iopub.status.busy": "2023-12-15T10:28:35.566168Z",
     "iopub.status.idle": "2023-12-15T10:28:55.996225Z",
     "shell.execute_reply": "2023-12-15T10:28:55.995145Z"
    },
    "papermill": {
     "duration": 20.514696,
     "end_time": "2023-12-15T10:28:56.000127",
     "exception": false,
     "start_time": "2023-12-15T10:28:35.485431",
     "status": "completed"
    },
    "tags": []
   },
   "outputs": [],
   "source": [
    "#Don't delete this code block\n",
    "model_pipeline.fit(train_feature_dataset,train_labels)\n",
    "y_pred = model_pipeline.predict(test_processed_data)"
   ]
  },
  {
   "cell_type": "code",
   "execution_count": 105,
   "id": "f6fd3419",
   "metadata": {
    "execution": {
     "iopub.execute_input": "2023-12-15T10:28:56.159441Z",
     "iopub.status.busy": "2023-12-15T10:28:56.158646Z",
     "iopub.status.idle": "2023-12-15T10:28:56.342348Z",
     "shell.execute_reply": "2023-12-15T10:28:56.340999Z"
    },
    "papermill": {
     "duration": 0.265143,
     "end_time": "2023-12-15T10:28:56.345557",
     "exception": false,
     "start_time": "2023-12-15T10:28:56.080414",
     "status": "completed"
    },
    "tags": []
   },
   "outputs": [],
   "source": [
    "#Don't delete this code\n",
    "submission = pd.DataFrame({\"ID\": np.arange(1,test_processed_data.shape[0]+1), \n",
    "                           \"total_amount\": y_pred}) \n",
    "\n",
    "submission.to_csv('submission.csv',index=False)"
   ]
  }
 ],
 "metadata": {
  "kaggle": {
   "accelerator": "none",
   "dataSources": [
    {
     "databundleVersionId": 6604167,
     "sourceId": 61246,
     "sourceType": "competition"
    }
   ],
   "dockerImageVersionId": 30558,
   "isGpuEnabled": false,
   "isInternetEnabled": true,
   "language": "python",
   "sourceType": "notebook"
  },
  "kernelspec": {
   "display_name": "Python 3",
   "language": "python",
   "name": "python3"
  },
  "language_info": {
   "codemirror_mode": {
    "name": "ipython",
    "version": 3
   },
   "file_extension": ".py",
   "mimetype": "text/x-python",
   "name": "python",
   "nbconvert_exporter": "python",
   "pygments_lexer": "ipython3",
   "version": "3.10.12"
  },
  "papermill": {
   "default_parameters": {},
   "duration": 3436.043172,
   "end_time": "2023-12-15T10:28:59.153747",
   "environment_variables": {},
   "exception": null,
   "input_path": "__notebook__.ipynb",
   "output_path": "__notebook__.ipynb",
   "parameters": {},
   "start_time": "2023-12-15T09:31:43.110575",
   "version": "2.4.0"
  }
 },
 "nbformat": 4,
 "nbformat_minor": 5
}
